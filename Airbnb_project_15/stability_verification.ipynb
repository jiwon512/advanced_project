{
 "cells": [
  {
   "cell_type": "code",
   "execution_count": null,
   "id": "bdc596d6",
   "metadata": {},
   "outputs": [],
   "source": [
    "from sklearn.model_selection import cross_validate, KFold\n",
    "import numpy as np\n",
    "\n",
    "# 1) 평가 지표와 폴드 설정\n",
    "scoring = {\n",
    "    'rmse': 'neg_root_mean_squared_error',\n",
    "    'mae':  'neg_mean_absolute_error',\n",
    "    'r2':   'r2'\n",
    "}\n",
    "kf = KFold(n_splits=5, shuffle=True, random_state=42)\n",
    "\n",
    "# 2) 교차검증 수행 (stack 가 이미 최종 모델이라면 stack, 아니면 best_rf / best_xgb 등)\n",
    "cv_results = cross_validate(\n",
    "    rf, X, y,  # rf는 사용하신 모델명 으로 변경\n",
    "    cv=kf, scoring=scoring,\n",
    "    return_train_score=False,\n",
    "    n_jobs=-1\n",
    ")\n",
    "\n",
    "# 3) 결과 집계\n",
    "print(\"RMSE:\",  -np.mean(cv_results['test_rmse']),  \"±\", np.std(cv_results['test_rmse']))\n",
    "print(\"MAE: \",  -np.mean(cv_results['test_mae']),   \"±\", np.std(cv_results['test_mae']))\n",
    "print(\"R2:  \",   np.mean(cv_results['test_r2']),    \"±\", np.std(cv_results['test_r2']))\n"
   ]
  },
  {
   "cell_type": "code",
   "execution_count": null,
   "id": "e22ce0cd",
   "metadata": {},
   "outputs": [],
   "source": [
    "import matplotlib.pyplot as plt\n",
    "\n",
    "\n",
    "# 1) 테스트셋 예측\n",
    "y_pred = stack.predict(X_test) # stack 사용한 모델링명으로 변경 (ex, rf, xgb.. etc)\n",
    "\n",
    "# 2) scatter: 실제 vs 예측\n",
    "plt.figure()\n",
    "plt.scatter(y_test, y_pred, alpha=0.3)\n",
    "plt.plot([y.min(), y.max()], [y.min(), y.max()], 'k--')  # 완벽 예측 대각선\n",
    "plt.xlabel(\"True\")\n",
    "plt.ylabel(\"Pred\")\n",
    "plt.title(\"True vs Pred\")\n",
    "plt.show()\n",
    "\n",
    "# 3) 잔차 히스토그램\n",
    "residuals = y_test - y_pred\n",
    "plt.figure()\n",
    "plt.hist(residuals, bins=30)\n",
    "plt.xlabel(\"Residual\")\n",
    "plt.title(\"Residual Distribution\")\n",
    "plt.show()"
   ]
  },
  {
   "cell_type": "code",
   "execution_count": null,
   "id": "effe7ad6",
   "metadata": {},
   "outputs": [],
   "source": [
    "from sklearn.dummy import DummyRegressor\n",
    "\n",
    "dummy = DummyRegressor(strategy=\"mean\")\n",
    "dummy_scores = cross_validate(dummy, X, y, cv=kf, scoring=scoring, n_jobs=-1)\n",
    "print(\"Dummy RMSE:\", -np.mean(dummy_scores['test_rmse']))\n",
    "print(\"Dummy R2:  \",  np.mean(dummy_scores['test_r2']))\n"
   ]
  },
  {
   "cell_type": "code",
   "execution_count": null,
   "id": "a24a9b84",
   "metadata": {},
   "outputs": [],
   "source": [
    "from sklearn.model_selection import learning_curve\n",
    "\n",
    "train_sizes, train_scores, test_scores = learning_curve(\n",
    "    stack, X, y, cv=kf, scoring='neg_root_mean_squared_error', #stack 사용한 모델명으로 변경\n",
    "    train_sizes=np.linspace(0.1, 1.0, 5), n_jobs=-1\n",
    ")\n",
    "\n",
    "train_rmse = -np.mean(train_scores, axis=1)\n",
    "test_rmse  = -np.mean(test_scores,  axis=1)\n",
    "\n",
    "plt.figure()\n",
    "plt.plot(train_sizes, train_rmse, label=\"Train RMSE\")\n",
    "plt.plot(train_sizes, test_rmse,  label=\"Test RMSE\")\n",
    "plt.xlabel(\"Training examples\")\n",
    "plt.ylabel(\"RMSE\")\n",
    "plt.legend()\n",
    "plt.show()"
   ]
  }
 ],
 "metadata": {
  "language_info": {
   "name": "python"
  }
 },
 "nbformat": 4,
 "nbformat_minor": 5
}
