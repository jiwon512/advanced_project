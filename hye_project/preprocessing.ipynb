{
 "cells": [
  {
   "cell_type": "code",
   "id": "initial_id",
   "metadata": {
    "collapsed": true,
    "ExecuteTime": {
     "end_time": "2025-07-17T05:11:21.539939Z",
     "start_time": "2025-07-17T05:11:21.536771Z"
    }
   },
   "source": [
    "import pandas as pd\n",
    "import seaborn as sns\n",
    "import numpy as np\n",
    "import re\n",
    "from sklearn.preprocessing import OneHotEncoder"
   ],
   "outputs": [],
   "execution_count": 123
  },
  {
   "metadata": {
    "ExecuteTime": {
     "end_time": "2025-07-17T05:11:21.843970Z",
     "start_time": "2025-07-17T05:11:21.560139Z"
    }
   },
   "cell_type": "code",
   "source": [
    "# 사용하는 데이터 불러오기\n",
    "\n",
    "condition = ['id', 'host_id', 'price',\n",
    "             'property_type', 'room_type', 'accommodates', 'bathrooms', 'bathrooms_text', 'beds', 'amenities']\n",
    "\n",
    "df = pd.read_csv('2025_Airbnb_NYC.csv', usecols = condition, encoding = 'utf-8' )"
   ],
   "id": "ebd943fd935f2755",
   "outputs": [],
   "execution_count": 124
  },
  {
   "metadata": {
    "ExecuteTime": {
     "end_time": "2025-07-17T05:11:21.855797Z",
     "start_time": "2025-07-17T05:11:21.851483Z"
    }
   },
   "cell_type": "code",
   "source": [
    "# 전처리 1 - id int로 변경\n",
    "df['id'] = df['id'].astype(int)"
   ],
   "id": "2b9f48542e3c9174",
   "outputs": [],
   "execution_count": 125
  },
  {
   "metadata": {
    "ExecuteTime": {
     "end_time": "2025-07-17T05:11:21.891979Z",
     "start_time": "2025-07-17T05:11:21.864687Z"
    }
   },
   "cell_type": "code",
   "source": [
    "# 전처리 1 - price float로 변경\n",
    "df['price_clean'] = df['price'].str.replace(r'[\\$,]', '', regex=True)\n",
    "df['price_clean'] = df['price_clean'].astype(float)\n",
    "print(df['price_clean'].head(2))\n",
    "df['price'] = df['price_clean']\n",
    "df = df.drop(columns=['price_clean'])"
   ],
   "id": "3ca5cc762c25dacd",
   "outputs": [
    {
     "name": "stdout",
     "output_type": "stream",
     "text": [
      "0    200.0\n",
      "1     82.0\n",
      "Name: price_clean, dtype: float64\n"
     ]
    }
   ],
   "execution_count": 126
  },
  {
   "metadata": {
    "ExecuteTime": {
     "end_time": "2025-07-17T05:11:21.972677Z",
     "start_time": "2025-07-17T05:11:21.916388Z"
    }
   },
   "cell_type": "code",
   "source": [
    "# 전처리 2 - bathrooms / bathrooms_text\n",
    "\n",
    "# bathrooms의 null값 0으로 채움\n",
    "df['bathrooms'] = df['bathrooms'].fillna(0)\n",
    "\n",
    "# bathrooms와 bathrooms_text 숫자 불일치 - half를 full bath로 취급하고 있음\n",
    "# bathrooms_text의 숫자 값으로 bathrooms 값 업데이트\n",
    "\n",
    "# 1) bathrooms_text에서 숫자(정수·소수) 또는 \"half\"를 파싱하는 함수\n",
    "def parse_baths(text):\n",
    "    if pd.isna(text):\n",
    "        return np.nan\n",
    "    s = str(text).lower()\n",
    "    m = re.search(r'(\\d+(\\.\\d+)?)', s)\n",
    "    if m:\n",
    "        return float(m.group(1))\n",
    "    if 'half' in s:\n",
    "        return 0.5\n",
    "    return np.nan\n",
    "\n",
    "# 2) 파싱값을 새로운 컬럼에 저장\n",
    "df['bathrooms_parsed'] = df['bathrooms_text'].apply(parse_baths)\n",
    "\n",
    "# 3) 불일치 여부 마스크 (parsed와 원본 bathrooms가 다를 때)\n",
    "mask_mismatch = df['bathrooms_parsed'].notna() & (df['bathrooms'] != df['bathrooms_parsed'])\n",
    "\n",
    "# 4) bathrooms가 실제 텍스트가 가리키는 값(파싱값)으로 업데이트\n",
    "df.loc[mask_mismatch, 'bathrooms'] = df.loc[mask_mismatch, 'bathrooms_parsed']\n",
    "\n",
    "# 5) (선택) helper 컬럼 제거 및 최종 확인\n",
    "df = df.drop(columns=['bathrooms_parsed'])\n",
    "#print(df.loc[mask_mismatch, ['bathrooms_text', 'bathrooms']])\n"
   ],
   "id": "5d603809ba4ebf3e",
   "outputs": [],
   "execution_count": 127
  },
  {
   "metadata": {
    "ExecuteTime": {
     "end_time": "2025-07-17T05:11:22.044051Z",
     "start_time": "2025-07-17T05:11:21.984759Z"
    }
   },
   "cell_type": "code",
   "source": [
    "# 확인용 - bathroom과 bathrooms_text 일치 여부\n",
    "# 1) bathrooms_text에서 숫자(또는 “half”)를 추출하는 함수\n",
    "def parse_baths(text):\n",
    "    if pd.isna(text):\n",
    "        return np.nan\n",
    "    s = str(text).lower()\n",
    "    # “3.5”, “7” 같은 숫자 먼저 찾기\n",
    "    m = re.search(r'(\\d+(\\.\\d+)?)', s)\n",
    "    if m:\n",
    "        return float(m.group(1))\n",
    "    # 숫자가 없고 “half”만 있으면 0.5\n",
    "    if 'half' in s:\n",
    "        return 0.5\n",
    "    return np.nan\n",
    "\n",
    "# 2) 파싱 결과를 새 컬럼에 저장\n",
    "df['bathrooms_parsed'] = df['bathrooms_text'].apply(parse_baths)\n",
    "\n",
    "# 3) 원래 bathrooms 값과 일치하는지 불리언 컬럼 생성\n",
    "df['bathrooms_match'] = df['bathrooms'] == df['bathrooms_parsed']\n",
    "\n",
    "# 4) 결과 확인하기\n",
    "\n",
    "# 전체 매칭 비율\n",
    "match_rate = df['bathrooms_match'].mean()\n",
    "print(f\"일치 비율: {match_rate:.2%}\")\n",
    "\n",
    "# (a) 일치하지 않는 경우들 보기\n",
    "mismatches = df.loc[~df['bathrooms_match'],\n",
    "                    ['bathrooms', 'bathrooms_text', 'bathrooms_parsed']]\n",
    "print(\"불일치 항목들:\")\n",
    "print(mismatches)\n",
    "\n",
    "# (b) 파싱 불가능(결과가 NaN)인 경우 보기\n",
    "unparsed = df.loc[df['bathrooms_parsed'].isna(),\n",
    "                  ['bathrooms', 'bathrooms_text']]\n",
    "print(\"\\n파싱 실패(Null) 항목들:\")\n",
    "print(unparsed)\n",
    "\n",
    "df = df.drop(columns=['bathrooms_parsed', 'bathrooms_match'])\n",
    "\n"
   ],
   "id": "dd357f36a82ae38",
   "outputs": [
    {
     "name": "stdout",
     "output_type": "stream",
     "text": [
      "일치 비율: 99.94%\n",
      "불일치 항목들:\n",
      "       bathrooms bathrooms_text  bathrooms_parsed\n",
      "5            0.0            NaN               NaN\n",
      "232          0.0            NaN               NaN\n",
      "6512         0.0            NaN               NaN\n",
      "6963         0.0            NaN               NaN\n",
      "6970         0.0            NaN               NaN\n",
      "6989         0.0            NaN               NaN\n",
      "7009         0.0            NaN               NaN\n",
      "7030         0.0            NaN               NaN\n",
      "8629         0.0            NaN               NaN\n",
      "14591        0.0            NaN               NaN\n",
      "15585        0.0            NaN               NaN\n",
      "17862        0.0            NaN               NaN\n",
      "18434        0.0            NaN               NaN\n",
      "20366        0.0            NaN               NaN\n",
      "\n",
      "파싱 실패(Null) 항목들:\n",
      "       bathrooms bathrooms_text\n",
      "5            0.0            NaN\n",
      "232          0.0            NaN\n",
      "6512         0.0            NaN\n",
      "6963         0.0            NaN\n",
      "6970         0.0            NaN\n",
      "6989         0.0            NaN\n",
      "7009         0.0            NaN\n",
      "7030         0.0            NaN\n",
      "8629         0.0            NaN\n",
      "14591        0.0            NaN\n",
      "15585        0.0            NaN\n",
      "17862        0.0            NaN\n",
      "18434        0.0            NaN\n",
      "20366        0.0            NaN\n"
     ]
    }
   ],
   "execution_count": 128
  },
  {
   "metadata": {
    "ExecuteTime": {
     "end_time": "2025-07-17T05:11:22.080410Z",
     "start_time": "2025-07-17T05:11:22.054842Z"
    }
   },
   "cell_type": "code",
   "source": [
    "# 전처리3_ bathrooms sharing 여부에 따라 화장실 개수에 가중치 부여 - bath_score_mul\n",
    "\n",
    "df['bathrooms_text'] = df['bathrooms_text'].fillna(0)\n",
    "\n",
    "# 1) shared 여부 플래그\n",
    "df['is_shared'] = df['bathrooms_text'] \\\n",
    "    .str.contains('shared', case=False, na=False)\n",
    "\n",
    "# 2) private 여부(Shared가 아니면 Private으로 간주)\n",
    "df['is_private'] = ~df['is_shared']\n",
    "\n",
    "# 3) 확인\n",
    "print(df[['bathrooms_text','is_shared','is_private']].head())\n",
    "\n",
    "# 가중치 설정\n",
    "w_private = 1.0   # 전용 욕실 가중치\n",
    "w_shared  = 0.5   # 공용 욕실 가중치\n",
    "\n",
    "# 이미 df에 'bathrooms' (숫자), 'is_private', 'is_shared' 플래그가 있다고 가정\n",
    "df['bath_score_mul'] = (\n",
    "    df['bathrooms'] * np.where(df['is_private'], w_private, w_shared)\n",
    ")"
   ],
   "id": "b6a9b3ba3fe55e39",
   "outputs": [
    {
     "name": "stdout",
     "output_type": "stream",
     "text": [
      "   bathrooms_text  is_shared  is_private\n",
      "0   1 shared bath       True       False\n",
      "1  1 private bath      False        True\n",
      "2       2.5 baths      False        True\n",
      "3          1 bath      False        True\n",
      "4   1 shared bath       True       False\n"
     ]
    }
   ],
   "execution_count": 129
  },
  {
   "metadata": {
    "ExecuteTime": {
     "end_time": "2025-07-17T05:11:22.100750Z",
     "start_time": "2025-07-17T05:11:22.090190Z"
    }
   },
   "cell_type": "code",
   "source": [
    "# 확인용 - bath, bathrooms 전처리 결과\n",
    "df[['bathrooms', 'bathrooms_text', 'is_shared', 'is_private', 'bath_score_mul']].head(10)\n",
    "\n",
    "df['bath_score_mul'].value_counts(normalize=True)"
   ],
   "id": "9382df7e6ddb2a18",
   "outputs": [
    {
     "data": {
      "text/plain": [
       "bath_score_mul\n",
       "1.00     0.638426\n",
       "0.50     0.178635\n",
       "2.00     0.087233\n",
       "1.50     0.030124\n",
       "0.00     0.019724\n",
       "0.75     0.015914\n",
       "2.50     0.010086\n",
       "3.00     0.009638\n",
       "3.50     0.003048\n",
       "4.00     0.002824\n",
       "4.50     0.001076\n",
       "1.25     0.000986\n",
       "5.00     0.000628\n",
       "0.25     0.000493\n",
       "6.00     0.000403\n",
       "5.50     0.000224\n",
       "1.75     0.000224\n",
       "7.50     0.000134\n",
       "10.50    0.000045\n",
       "15.50    0.000045\n",
       "2.25     0.000045\n",
       "7.00     0.000045\n",
       "Name: proportion, dtype: float64"
      ]
     },
     "execution_count": 130,
     "metadata": {},
     "output_type": "execute_result"
    }
   ],
   "execution_count": 130
  },
  {
   "metadata": {
    "ExecuteTime": {
     "end_time": "2025-07-17T05:11:22.127300Z",
     "start_time": "2025-07-17T05:11:22.120018Z"
    }
   },
   "cell_type": "code",
   "source": [
    "# 전처리4 - beds null 값 1로 대체하고 0은 1로 대체\n",
    "df['beds'] = df['beds'].fillna(1).astype(int)\n",
    "df['beds'] = df['beds'].replace(0, 1)\n",
    "\n",
    "df['beds'].value_counts()"
   ],
   "id": "aa224d311bb376ef",
   "outputs": [
    {
     "data": {
      "text/plain": [
       "beds\n",
       "1     13719\n",
       "2      5118\n",
       "3      1896\n",
       "4       911\n",
       "5       328\n",
       "6       180\n",
       "7        66\n",
       "8        54\n",
       "9        17\n",
       "10        7\n",
       "12        4\n",
       "13        3\n",
       "11        2\n",
       "42        1\n",
       "14        1\n",
       "21        1\n",
       "Name: count, dtype: int64"
      ]
     },
     "execution_count": 131,
     "metadata": {},
     "output_type": "execute_result"
    }
   ],
   "execution_count": 131
  },
  {
   "metadata": {
    "ExecuteTime": {
     "end_time": "2025-07-17T05:11:22.162622Z",
     "start_time": "2025-07-17T05:11:22.152914Z"
    }
   },
   "cell_type": "code",
   "source": [
    "#확인용\n",
    "df['bathrooms'].agg({\n",
    "    'mean_bath': 'mean',\n",
    "    'median_bath': 'median'\n",
    "})\n",
    "\n",
    "df['bathrooms'].value_counts(normalize=True)"
   ],
   "id": "5a63cd959c709205",
   "outputs": [
    {
     "data": {
      "text/plain": [
       "bathrooms\n",
       "1.0     0.784248\n",
       "2.0     0.116774\n",
       "1.5     0.042899\n",
       "0.0     0.019724\n",
       "3.0     0.012686\n",
       "2.5     0.010669\n",
       "4.0     0.004034\n",
       "3.5     0.003272\n",
       "0.5     0.002555\n",
       "4.5     0.001121\n",
       "5.0     0.001031\n",
       "6.0     0.000493\n",
       "5.5     0.000224\n",
       "7.5     0.000134\n",
       "10.5    0.000045\n",
       "15.5    0.000045\n",
       "7.0     0.000045\n",
       "Name: proportion, dtype: float64"
      ]
     },
     "execution_count": 132,
     "metadata": {},
     "output_type": "execute_result"
    }
   ],
   "execution_count": 132
  },
  {
   "metadata": {
    "ExecuteTime": {
     "end_time": "2025-07-17T05:11:22.412512Z",
     "start_time": "2025-07-17T05:11:22.190382Z"
    }
   },
   "cell_type": "code",
   "source": [
    "# 전처리5 - property_type\n",
    "import pandas as pd\n",
    "\n",
    "# 예시: df에 'property_type' 및 'room_type' 컬럼이 이미 존재한다고 가정\n",
    "\n",
    "# 1) extract_structure 함수 정의\n",
    "def extract_structure(pt):\n",
    "    pt_l = pt.strip().lower()\n",
    "    if ' in ' in pt_l:\n",
    "        return pt_l.split(' in ',1)[1].strip()\n",
    "    if pt_l.startswith('entire '):\n",
    "        return pt_l.replace('entire ','').strip()\n",
    "    if pt_l.startswith('private room'):\n",
    "        return pt_l.replace('private room','').strip()\n",
    "    if pt_l.startswith('shared room'):\n",
    "        return pt_l.replace('shared room','').strip()\n",
    "    return pt_l\n",
    "\n",
    "# 2) structure_type 생성 (room_type 카테고리 제외한 나머지)\n",
    "rt_cats = set(df['room_type'].str.strip().str.lower())\n",
    "df['structure_type'] = df['property_type'].apply(lambda x: (\n",
    "    x.strip().lower() if x.strip().lower() not in rt_cats\n",
    "    else pd.NA\n",
    "))\n",
    "mask = df['structure_type'].notna()\n",
    "df.loc[mask, 'structure_type'] = df.loc[mask, 'structure_type'].apply(extract_structure)\n",
    "\n",
    "# 3) 그룹별 원소 리스트 (lowercase)\n",
    "residential = {\n",
    "    'rental unit','home','condo','townhouse','cottage',\n",
    "    'bungalow','villa','vacation home','earthen home',\n",
    "    'ranch','casa particular','tiny home','entire home/apt'\n",
    "}\n",
    "apartment_suite = {\n",
    "    'guest suite','loft','serviced apartment','aparthotel',\n",
    "    'private room'\n",
    "}\n",
    "hotel_lodging = {\n",
    "    'hotel','boutique hotel','bed and breakfast',\n",
    "    'resort','hostel','guesthouse','hotel room'\n",
    "}\n",
    "\n",
    "# 4) structure_category 할당\n",
    "def map_category(row):\n",
    "    pt = row['property_type'].strip().lower()\n",
    "    rt = row['room_type'].strip().lower()\n",
    "    st = row['structure_type']\n",
    "    if rt in residential or pt in residential or (isinstance(st, str) and st in residential):\n",
    "        return 'Residential'\n",
    "    elif rt in apartment_suite or pt in apartment_suite or (isinstance(st, str) and st in apartment_suite):\n",
    "        return 'Apartment_Suite'\n",
    "    elif rt in hotel_lodging or pt in hotel_lodging or (isinstance(st, str) and st in hotel_lodging):\n",
    "        return 'Hotel_Lodging'\n",
    "    else:\n",
    "        return 'Others'\n",
    "\n",
    "df['structure_category'] = df.apply(map_category, axis=1)\n",
    "\n",
    "# 5) 최종 컬럼 확인\n",
    "result = df[['property_type', 'structure_type', 'structure_category']]\n",
    "print(result.head())\n"
   ],
   "id": "61917f6577070679",
   "outputs": [
    {
     "name": "stdout",
     "output_type": "stream",
     "text": [
      "                 property_type structure_type structure_category\n",
      "0  Private room in rental unit    rental unit        Residential\n",
      "1        Private room in condo          condo        Residential\n",
      "2         Private room in home           home        Residential\n",
      "3                  Entire home           home        Residential\n",
      "4  Private room in rental unit    rental unit        Residential\n"
     ]
    }
   ],
   "execution_count": 133
  },
  {
   "metadata": {
    "ExecuteTime": {
     "end_time": "2025-07-17T05:11:22.433478Z",
     "start_time": "2025-07-17T05:11:22.419045Z"
    }
   },
   "cell_type": "code",
   "source": [
    "# data type, NaN\n",
    "df.info()"
   ],
   "id": "165a570f2b42a7ee",
   "outputs": [
    {
     "name": "stdout",
     "output_type": "stream",
     "text": [
      "<class 'pandas.core.frame.DataFrame'>\n",
      "RangeIndex: 22308 entries, 0 to 22307\n",
      "Data columns (total 15 columns):\n",
      " #   Column              Non-Null Count  Dtype  \n",
      "---  ------              --------------  -----  \n",
      " 0   id                  22308 non-null  int64  \n",
      " 1   host_id             22308 non-null  int64  \n",
      " 2   property_type       22308 non-null  object \n",
      " 3   room_type           22308 non-null  object \n",
      " 4   accommodates        22308 non-null  int64  \n",
      " 5   bathrooms           22308 non-null  float64\n",
      " 6   bathrooms_text      22308 non-null  object \n",
      " 7   beds                22308 non-null  int64  \n",
      " 8   amenities           22308 non-null  object \n",
      " 9   price               22308 non-null  float64\n",
      " 10  is_shared           22308 non-null  bool   \n",
      " 11  is_private          22308 non-null  bool   \n",
      " 12  bath_score_mul      22308 non-null  float64\n",
      " 13  structure_type      22280 non-null  object \n",
      " 14  structure_category  22308 non-null  object \n",
      "dtypes: bool(2), float64(3), int64(4), object(6)\n",
      "memory usage: 2.3+ MB\n"
     ]
    }
   ],
   "execution_count": 134
  },
  {
   "metadata": {
    "ExecuteTime": {
     "end_time": "2025-07-17T05:12:17.092478Z",
     "start_time": "2025-07-17T05:12:17.088340Z"
    }
   },
   "cell_type": "code",
   "source": "df.columns",
   "id": "f75d04153dac8c32",
   "outputs": [
    {
     "data": {
      "text/plain": [
       "Index(['id', 'host_id', 'property_type', 'room_type', 'accommodates',\n",
       "       'bathrooms', 'bathrooms_text', 'beds', 'amenities', 'price',\n",
       "       'is_shared', 'is_private', 'bath_score_mul', 'structure_type',\n",
       "       'structure_category'],\n",
       "      dtype='object')"
      ]
     },
     "execution_count": 140,
     "metadata": {},
     "output_type": "execute_result"
    }
   ],
   "execution_count": 140
  },
  {
   "metadata": {
    "ExecuteTime": {
     "end_time": "2025-07-17T05:11:22.484207Z",
     "start_time": "2025-07-17T05:11:22.472846Z"
    }
   },
   "cell_type": "code",
   "source": [
    "# unique_texts = df.loc[df['bathrooms'] == 0, 'bathrooms_text'].value_counts(normalize=True)\n",
    "texts = df['bathrooms_text'].value_counts(normalize=True)\n",
    "numbers = df['bathrooms'].value_counts(normalize=True)\n",
    "print(texts)"
   ],
   "id": "68e32f95b64903bb",
   "outputs": [
    {
     "name": "stdout",
     "output_type": "stream",
     "text": [
      "bathrooms_text\n",
      "1 bath               0.505693\n",
      "1 shared bath        0.176573\n",
      "1 private bath       0.101981\n",
      "2 baths              0.086023\n",
      "2 shared baths       0.030751\n",
      "1.5 baths            0.026986\n",
      "1.5 shared baths     0.015914\n",
      "0 shared baths       0.015689\n",
      "2.5 baths            0.009683\n",
      "3 baths              0.009548\n",
      "0 baths              0.003407\n",
      "3 shared baths       0.003138\n",
      "3.5 baths            0.003048\n",
      "4 baths              0.002824\n",
      "4 shared baths       0.001210\n",
      "Half-bath            0.001121\n",
      "4.5 baths            0.001076\n",
      "2.5 shared baths     0.000986\n",
      "Private half-bath    0.000941\n",
      "0                    0.000628\n",
      "5 baths              0.000628\n",
      "Shared half-bath     0.000493\n",
      "5 shared baths       0.000403\n",
      "6 baths              0.000403\n",
      "3.5 shared baths     0.000224\n",
      "5.5 baths            0.000224\n",
      "7.5 baths            0.000134\n",
      "6 shared baths       0.000090\n",
      "15.5 baths           0.000045\n",
      "10.5 baths           0.000045\n",
      "7 baths              0.000045\n",
      "4.5 shared baths     0.000045\n",
      "Name: proportion, dtype: float64\n"
     ]
    }
   ],
   "execution_count": 136
  },
  {
   "metadata": {
    "ExecuteTime": {
     "end_time": "2025-07-17T05:11:22.696960Z",
     "start_time": "2025-07-17T05:11:22.506773Z"
    }
   },
   "cell_type": "code",
   "source": [
    "# 1) numeric에서 0.5 비율\n",
    "num_half_ratio = (df['bathrooms'] == 0.5).mean()\n",
    "\n",
    "# 2) text 파싱값에서 0.5 비율 (NaN은 False 처리)\n",
    "text_half_ratio = (df['bathrooms_parsed'] == 0.5).mean()\n",
    "\n",
    "# 3) 결과 출력\n",
    "print(f\"Numeric 0.5 비율: {num_half_ratio:.6f}\")\n",
    "print(f\"Text 0.5 비율:    {text_half_ratio:.6f}\")\n",
    "print(\"일치 여부:\", num_half_ratio == text_half_ratio)\n",
    "\n"
   ],
   "id": "3c571215528fa2be",
   "outputs": [
    {
     "ename": "KeyError",
     "evalue": "'bathrooms_parsed'",
     "output_type": "error",
     "traceback": [
      "\u001B[31m---------------------------------------------------------------------------\u001B[39m",
      "\u001B[31mKeyError\u001B[39m                                  Traceback (most recent call last)",
      "\u001B[36mFile \u001B[39m\u001B[32m~/PycharmProjects/statistics_2/.venv/lib/python3.11/site-packages/pandas/core/indexes/base.py:3812\u001B[39m, in \u001B[36mIndex.get_loc\u001B[39m\u001B[34m(self, key)\u001B[39m\n\u001B[32m   3811\u001B[39m \u001B[38;5;28;01mtry\u001B[39;00m:\n\u001B[32m-> \u001B[39m\u001B[32m3812\u001B[39m     \u001B[38;5;28;01mreturn\u001B[39;00m \u001B[38;5;28;43mself\u001B[39;49m\u001B[43m.\u001B[49m\u001B[43m_engine\u001B[49m\u001B[43m.\u001B[49m\u001B[43mget_loc\u001B[49m\u001B[43m(\u001B[49m\u001B[43mcasted_key\u001B[49m\u001B[43m)\u001B[49m\n\u001B[32m   3813\u001B[39m \u001B[38;5;28;01mexcept\u001B[39;00m \u001B[38;5;167;01mKeyError\u001B[39;00m \u001B[38;5;28;01mas\u001B[39;00m err:\n",
      "\u001B[36mFile \u001B[39m\u001B[32mpandas/_libs/index.pyx:167\u001B[39m, in \u001B[36mpandas._libs.index.IndexEngine.get_loc\u001B[39m\u001B[34m()\u001B[39m\n",
      "\u001B[36mFile \u001B[39m\u001B[32mpandas/_libs/index.pyx:196\u001B[39m, in \u001B[36mpandas._libs.index.IndexEngine.get_loc\u001B[39m\u001B[34m()\u001B[39m\n",
      "\u001B[36mFile \u001B[39m\u001B[32mpandas/_libs/hashtable_class_helper.pxi:7088\u001B[39m, in \u001B[36mpandas._libs.hashtable.PyObjectHashTable.get_item\u001B[39m\u001B[34m()\u001B[39m\n",
      "\u001B[36mFile \u001B[39m\u001B[32mpandas/_libs/hashtable_class_helper.pxi:7096\u001B[39m, in \u001B[36mpandas._libs.hashtable.PyObjectHashTable.get_item\u001B[39m\u001B[34m()\u001B[39m\n",
      "\u001B[31mKeyError\u001B[39m: 'bathrooms_parsed'",
      "\nThe above exception was the direct cause of the following exception:\n",
      "\u001B[31mKeyError\u001B[39m                                  Traceback (most recent call last)",
      "\u001B[36mCell\u001B[39m\u001B[36m \u001B[39m\u001B[32mIn[137]\u001B[39m\u001B[32m, line 5\u001B[39m\n\u001B[32m      2\u001B[39m num_half_ratio = (df[\u001B[33m'\u001B[39m\u001B[33mbathrooms\u001B[39m\u001B[33m'\u001B[39m] == \u001B[32m0.5\u001B[39m).mean()\n\u001B[32m      4\u001B[39m \u001B[38;5;66;03m# 2) text 파싱값에서 0.5 비율 (NaN은 False 처리)\u001B[39;00m\n\u001B[32m----> \u001B[39m\u001B[32m5\u001B[39m text_half_ratio = (\u001B[43mdf\u001B[49m\u001B[43m[\u001B[49m\u001B[33;43m'\u001B[39;49m\u001B[33;43mbathrooms_parsed\u001B[39;49m\u001B[33;43m'\u001B[39;49m\u001B[43m]\u001B[49m == \u001B[32m0.5\u001B[39m).mean()\n\u001B[32m      7\u001B[39m \u001B[38;5;66;03m# 3) 결과 출력\u001B[39;00m\n\u001B[32m      8\u001B[39m \u001B[38;5;28mprint\u001B[39m(\u001B[33mf\u001B[39m\u001B[33m\"\u001B[39m\u001B[33mNumeric 0.5 비율: \u001B[39m\u001B[38;5;132;01m{\u001B[39;00mnum_half_ratio\u001B[38;5;132;01m:\u001B[39;00m\u001B[33m.6f\u001B[39m\u001B[38;5;132;01m}\u001B[39;00m\u001B[33m\"\u001B[39m)\n",
      "\u001B[36mFile \u001B[39m\u001B[32m~/PycharmProjects/statistics_2/.venv/lib/python3.11/site-packages/pandas/core/frame.py:4107\u001B[39m, in \u001B[36mDataFrame.__getitem__\u001B[39m\u001B[34m(self, key)\u001B[39m\n\u001B[32m   4105\u001B[39m \u001B[38;5;28;01mif\u001B[39;00m \u001B[38;5;28mself\u001B[39m.columns.nlevels > \u001B[32m1\u001B[39m:\n\u001B[32m   4106\u001B[39m     \u001B[38;5;28;01mreturn\u001B[39;00m \u001B[38;5;28mself\u001B[39m._getitem_multilevel(key)\n\u001B[32m-> \u001B[39m\u001B[32m4107\u001B[39m indexer = \u001B[38;5;28;43mself\u001B[39;49m\u001B[43m.\u001B[49m\u001B[43mcolumns\u001B[49m\u001B[43m.\u001B[49m\u001B[43mget_loc\u001B[49m\u001B[43m(\u001B[49m\u001B[43mkey\u001B[49m\u001B[43m)\u001B[49m\n\u001B[32m   4108\u001B[39m \u001B[38;5;28;01mif\u001B[39;00m is_integer(indexer):\n\u001B[32m   4109\u001B[39m     indexer = [indexer]\n",
      "\u001B[36mFile \u001B[39m\u001B[32m~/PycharmProjects/statistics_2/.venv/lib/python3.11/site-packages/pandas/core/indexes/base.py:3819\u001B[39m, in \u001B[36mIndex.get_loc\u001B[39m\u001B[34m(self, key)\u001B[39m\n\u001B[32m   3814\u001B[39m     \u001B[38;5;28;01mif\u001B[39;00m \u001B[38;5;28misinstance\u001B[39m(casted_key, \u001B[38;5;28mslice\u001B[39m) \u001B[38;5;129;01mor\u001B[39;00m (\n\u001B[32m   3815\u001B[39m         \u001B[38;5;28misinstance\u001B[39m(casted_key, abc.Iterable)\n\u001B[32m   3816\u001B[39m         \u001B[38;5;129;01mand\u001B[39;00m \u001B[38;5;28many\u001B[39m(\u001B[38;5;28misinstance\u001B[39m(x, \u001B[38;5;28mslice\u001B[39m) \u001B[38;5;28;01mfor\u001B[39;00m x \u001B[38;5;129;01min\u001B[39;00m casted_key)\n\u001B[32m   3817\u001B[39m     ):\n\u001B[32m   3818\u001B[39m         \u001B[38;5;28;01mraise\u001B[39;00m InvalidIndexError(key)\n\u001B[32m-> \u001B[39m\u001B[32m3819\u001B[39m     \u001B[38;5;28;01mraise\u001B[39;00m \u001B[38;5;167;01mKeyError\u001B[39;00m(key) \u001B[38;5;28;01mfrom\u001B[39;00m\u001B[38;5;250m \u001B[39m\u001B[34;01merr\u001B[39;00m\n\u001B[32m   3820\u001B[39m \u001B[38;5;28;01mexcept\u001B[39;00m \u001B[38;5;167;01mTypeError\u001B[39;00m:\n\u001B[32m   3821\u001B[39m     \u001B[38;5;66;03m# If we have a listlike key, _check_indexing_error will raise\u001B[39;00m\n\u001B[32m   3822\u001B[39m     \u001B[38;5;66;03m#  InvalidIndexError. Otherwise we fall through and re-raise\u001B[39;00m\n\u001B[32m   3823\u001B[39m     \u001B[38;5;66;03m#  the TypeError.\u001B[39;00m\n\u001B[32m   3824\u001B[39m     \u001B[38;5;28mself\u001B[39m._check_indexing_error(key)\n",
      "\u001B[31mKeyError\u001B[39m: 'bathrooms_parsed'"
     ]
    }
   ],
   "execution_count": 137
  },
  {
   "metadata": {},
   "cell_type": "code",
   "outputs": [
    {
     "data": {
      "text/plain": [
       "beds\n",
       "1     13719\n",
       "2      5118\n",
       "3      1896\n",
       "4       911\n",
       "5       328\n",
       "6       180\n",
       "7        66\n",
       "8        54\n",
       "9        17\n",
       "10        7\n",
       "12        4\n",
       "13        3\n",
       "11        2\n",
       "42        1\n",
       "14        1\n",
       "21        1\n",
       "Name: count, dtype: int64"
      ]
     },
     "execution_count": 32,
     "metadata": {},
     "output_type": "execute_result"
    }
   ],
   "execution_count": 32,
   "source": "df['beds'].value_counts(dropna=False)",
   "id": "4a64fabab554ebd4"
  },
  {
   "metadata": {},
   "cell_type": "code",
   "outputs": [
    {
     "name": "stdout",
     "output_type": "stream",
     "text": [
      "['Entire home/apt', 'Hotel room', 'Private room', 'Shared room'] room_type\n",
      "Entire home/apt    12664\n",
      "Private room        9186\n",
      "Hotel room           372\n",
      "Shared room           86\n",
      "Name: count, dtype: int64\n"
     ]
    }
   ],
   "execution_count": 35,
   "source": [
    "col = 'room_type'\n",
    "unique_vals = sorted(df[col].dropna().unique())\n",
    "val_counts = df[col].value_counts(dropna=False)\n",
    "print(unique_vals, val_counts)"
   ],
   "id": "56bbf810f7eecb10"
  },
  {
   "metadata": {},
   "cell_type": "code",
   "outputs": [
    {
     "data": {
      "text/plain": [
       "room_type\n",
       "Entire home/apt    0.567689\n",
       "Private room       0.411781\n",
       "Hotel room         0.016676\n",
       "Shared room        0.003855\n",
       "Name: proportion, dtype: float64"
      ]
     },
     "execution_count": 50,
     "metadata": {},
     "output_type": "execute_result"
    }
   ],
   "execution_count": 50,
   "source": "df[\"room_type\"].value_counts(normalize=True)",
   "id": "f2652f01723b0c45"
  },
  {
   "metadata": {},
   "cell_type": "code",
   "outputs": [
    {
     "name": "stdout",
     "output_type": "stream",
     "text": [
      "                        id    host_id                property_type  \\\n",
      "22                   44973     198411           Entire rental unit   \n",
      "189                  89427     116599           Entire rental unit   \n",
      "260                 533506    2027013           Entire rental unit   \n",
      "265                 542054    2027013           Entire rental unit   \n",
      "296                 553872    2647578        Private room in condo   \n",
      "...                    ...        ...                          ...   \n",
      "22265  1366773325407097856  483056418  Private room in rental unit   \n",
      "22284  1365812777839378944  107434423           Entire rental unit   \n",
      "22285  1365865620836752896  107434423           Entire rental unit   \n",
      "22304  1366717321390111232  483056418  Private room in rental unit   \n",
      "22307  1366723228243064832  483056418  Private room in rental unit   \n",
      "\n",
      "             room_type  accommodates  bathrooms  bathrooms_text  beds  \\\n",
      "22     Entire home/apt             2        1.0          1 bath   0.0   \n",
      "189    Entire home/apt            10        1.5       1.5 baths   0.0   \n",
      "260    Entire home/apt             2        1.0          1 bath   0.0   \n",
      "265    Entire home/apt             2        1.0          1 bath   0.0   \n",
      "296       Private room             2        1.0  1 private bath   0.0   \n",
      "...                ...           ...        ...             ...   ...   \n",
      "22265     Private room             2        1.0  1 private bath   0.0   \n",
      "22284  Entire home/apt             2        1.0          1 bath   0.0   \n",
      "22285  Entire home/apt             2        1.0          1 bath   0.0   \n",
      "22304     Private room             2        1.0  1 private bath   0.0   \n",
      "22307     Private room             2        1.0  1 private bath   0.0   \n",
      "\n",
      "                                               amenities    price  is_shared  \\\n",
      "22     [\"Oven\", \"Fire extinguisher\", \"Dedicated works...   $77.00      False   \n",
      "189    [\"TV with standard cable\", \"Outdoor furniture\"...  $800.00      False   \n",
      "260    [\"Oven\", \"Dedicated workspace\", \"Cooking basic...  $130.00      False   \n",
      "265    [\"Oven\", \"Free washer \\u2013 In unit\", \"Clothi...  $126.00      False   \n",
      "296    [\"Portable fans\", \"Laundromat nearby\", \"Free w...  $120.00      False   \n",
      "...                                                  ...      ...        ...   \n",
      "22265  [\"Air conditioning\", \"Carbon monoxide alarm\", ...   $58.00      False   \n",
      "22284  [\"Oven\", \"Gym\", \"Cooking basics\", \"Microwave\",...  $298.00      False   \n",
      "22285  [\"Oven\", \"Gym\", \"Cooking basics\", \"Microwave\",...  $298.00      False   \n",
      "22304  [\"Air conditioning\", \"Carbon monoxide alarm\", ...   $58.00      False   \n",
      "22307  [\"Air conditioning\", \"Carbon monoxide alarm\", ...   $58.00      False   \n",
      "\n",
      "       is_private  bath_score_mul  \n",
      "22           True             1.0  \n",
      "189          True             1.5  \n",
      "260          True             1.0  \n",
      "265          True             1.0  \n",
      "296          True             1.0  \n",
      "...           ...             ...  \n",
      "22265        True             1.0  \n",
      "22284        True             1.0  \n",
      "22285        True             1.0  \n",
      "22304        True             1.0  \n",
      "22307        True             1.0  \n",
      "\n",
      "[635 rows x 13 columns]\n"
     ]
    }
   ],
   "execution_count": 172,
   "source": [
    "null_beds_df = df[df['beds'] == 0.0]\n",
    "print(null_beds_df)"
   ],
   "id": "723abeabba67afcf"
  },
  {
   "metadata": {},
   "cell_type": "code",
   "outputs": [
    {
     "data": {
      "text/plain": [
       "count    22308.000000\n",
       "mean         2.919446\n",
       "std          2.073278\n",
       "min          1.000000\n",
       "25%          2.000000\n",
       "50%          2.000000\n",
       "75%          4.000000\n",
       "max         16.000000\n",
       "Name: accommodates, dtype: float64"
      ]
     },
     "execution_count": 176,
     "metadata": {},
     "output_type": "execute_result"
    }
   ],
   "execution_count": 176,
   "source": "df['accommodates'].describe()",
   "id": "83f82f74d65eea29"
  },
  {
   "metadata": {},
   "cell_type": "code",
   "outputs": [
    {
     "data": {
      "text/plain": [
       "<Axes: xlabel='accommodates', ylabel='Count'>"
      ]
     },
     "execution_count": 181,
     "metadata": {},
     "output_type": "execute_result"
    },
    {
     "data": {
      "text/plain": [
       "<Figure size 640x480 with 1 Axes>"
      ],
      "image/png": "[encoded data removed]"
     },
     "metadata": {},
     "output_type": "display_data"
    }
   ],
   "execution_count": 181,
   "source": "sns.histplot(data=df, x='accommodates')\n",
   "id": "d77c66f7058b1887"
  },
  {
   "metadata": {},
   "cell_type": "code",
   "outputs": [
    {
     "data": {
      "text/plain": [
       "<Axes: xlabel='room_type', ylabel='count'>"
      ]
     },
     "execution_count": 36,
     "metadata": {},
     "output_type": "execute_result"
    },
    {
     "data": {
      "text/plain": [
       "<Figure size 640x480 with 1 Axes>"
      ],
      "image/png": "[encoded data removed]"
     },
     "metadata": {},
     "output_type": "display_data"
    }
   ],
   "execution_count": 36,
   "source": "sns.countplot(data=df, x='room_type')",
   "id": "3754b05c07ad32b9"
  },
  {
   "metadata": {},
   "cell_type": "code",
   "outputs": [
    {
     "data": {
      "text/plain": [
       "array(['Private room in rental unit', 'Private room in condo',\n",
       "       'Private room in home', 'Entire home', 'Entire rental unit',\n",
       "       'Private room in guest suite', 'Entire place', 'Entire loft',\n",
       "       'Entire condo', 'Private room in townhouse', 'Entire townhouse',\n",
       "       'Private room in bed and breakfast', 'Entire serviced apartment',\n",
       "       'Private room in loft', 'Entire guesthouse', 'Entire guest suite',\n",
       "       'Private room in houseboat', 'Room in boutique hotel',\n",
       "       'Private room', 'Shared room in rental unit', 'Boat',\n",
       "       'Room in serviced apartment', 'Private room in villa',\n",
       "       'Private room in religious building', 'Casa particular',\n",
       "       'Shared room in home', 'Shared room in townhouse',\n",
       "       'Private room in tiny home', 'Entire bungalow', 'Room in hotel',\n",
       "       'Private room in guesthouse', 'Houseboat', 'Shared room in condo',\n",
       "       'Entire cottage', 'Tiny home', 'Shared room in loft',\n",
       "       'Private room in serviced apartment', 'Room in aparthotel',\n",
       "       'Entire villa', 'Private room in bungalow',\n",
       "       'Private room in vacation home', 'Private room in earthen home',\n",
       "       'Private room in resort', 'Barn', 'Camper/RV',\n",
       "       'Private room in camper/rv', 'Private room in hostel',\n",
       "       'Private room in kezhan', 'Entire vacation home',\n",
       "       'Private room in casa particular', 'Shared room in guest suite',\n",
       "       'Private room in ranch', 'Tower', 'Shared room in casa particular',\n",
       "       'Private room in cottage', 'Private room in tower',\n",
       "       'Private room in dome'], dtype=object)"
      ]
     },
     "execution_count": 182,
     "metadata": {},
     "output_type": "execute_result"
    }
   ],
   "execution_count": 182,
   "source": "df['property_type'].unique()",
   "id": "286ba13fe2c05db8"
  },
  {
   "metadata": {},
   "cell_type": "code",
   "outputs": [
    {
     "data": {
      "text/plain": [
       "array(['Private room', 'Entire home/apt', 'Hotel room', 'Shared room'],\n",
       "      dtype=object)"
      ]
     },
     "execution_count": 42,
     "metadata": {},
     "output_type": "execute_result"
    }
   ],
   "execution_count": 42,
   "source": "df['room_type'].unique()",
   "id": "e84cd91011da35f2"
  },
  {
   "metadata": {
    "ExecuteTime": {
     "end_time": "2025-07-17T05:11:22.707408Z",
     "start_time": "2025-07-17T03:46:16.089139Z"
    }
   },
   "cell_type": "code",
   "source": "df['structure_type'].value_counts(normalize=True)",
   "id": "9aef324cedc7d87c",
   "outputs": [
    {
     "data": {
      "text/plain": [
       "structure_type\n",
       "rental unit           0.668582\n",
       "home                  0.132810\n",
       "condo                 0.046499\n",
       "townhouse             0.043268\n",
       "hotel                 0.036535\n",
       "guest suite           0.017370\n",
       "loft                  0.015889\n",
       "serviced apartment    0.009740\n",
       "boutique hotel        0.009515\n",
       "place                 0.002738\n",
       "bed and breakfast     0.002693\n",
       "aparthotel            0.002558\n",
       "guesthouse            0.002558\n",
       "casa particular       0.001975\n",
       "resort                0.001257\n",
       "hostel                0.001167\n",
       "vacation home         0.001077\n",
       "bungalow              0.000987\n",
       "villa                 0.000583\n",
       "tiny home             0.000583\n",
       "camper/rv             0.000404\n",
       "houseboat             0.000269\n",
       "boat                  0.000224\n",
       "tower                 0.000180\n",
       "earthen home          0.000135\n",
       "cottage               0.000135\n",
       "religious building    0.000090\n",
       "barn                  0.000045\n",
       "kezhan                0.000045\n",
       "ranch                 0.000045\n",
       "dome                  0.000045\n",
       "Name: proportion, dtype: float64"
      ]
     },
     "execution_count": 60,
     "metadata": {},
     "output_type": "execute_result"
    }
   ],
   "execution_count": 60
  },
  {
   "metadata": {},
   "cell_type": "code",
   "outputs": [],
   "execution_count": null,
   "source": [
    "freq = df['structure_type'].value_counts(normalize=True)\n",
    "rare = freq[freq<0.01].index\n",
    "df['structure_type'] = df['structure_type'].replace(rare, 'Other')\n",
    "# unified_room NaN → \"Other_room\" 라벨\n",
    "df['unified_room'] = df['unified_room'].fillna('Other_room')\n",
    "\n",
    "df = pd.get_dummies(df,\n",
    "                    columns=['unified_room','structure_type'],\n",
    "                    prefix=['room','structure'],\n",
    "                    dtype=int)"
   ],
   "id": "dddb18b325b0cf86"
  }
 ],
 "metadata": {
  "kernelspec": {
   "display_name": "Python 3",
   "language": "python",
   "name": "python3"
  },
  "language_info": {
   "codemirror_mode": {
    "name": "ipython",
    "version": 2
   },
   "file_extension": ".py",
   "mimetype": "text/x-python",
   "name": "python",
   "nbconvert_exporter": "python",
   "pygments_lexer": "ipython2",
   "version": "2.7.6"
  }
 },
 "nbformat": 4,
 "nbformat_minor": 5
}
