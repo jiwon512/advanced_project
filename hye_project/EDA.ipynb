{
 "cells": [
  {
   "cell_type": "code",
   "id": "initial_id",
   "metadata": {
    "collapsed": true,
    "ExecuteTime": {
     "end_time": "2025-07-17T06:44:51.971711Z",
     "start_time": "2025-07-17T06:44:51.968587Z"
    }
   },
   "source": [
    "import pandas as pd\n",
    "import numpy as np\n",
    "import seaborn as sns\n",
    "from scipy.stats import shapiro"
   ],
   "outputs": [],
   "execution_count": 1
  },
  {
   "metadata": {},
   "cell_type": "code",
   "outputs": [],
   "execution_count": null,
   "source": [
    "'''\n",
    "# --- 정규성 검정 ---\n",
    "# - Group별 age 데이터\n",
    "age1 = df.loc[df['survived'] == 1, 'age'].dropna()\n",
    "age0 = df.loc[df['survived'] == 0, 'age'].dropna()\n",
    "\n",
    "# - Shapiro 검정\n",
    "stat1, p1 = shapiro(age1)\n",
    "stat0, p0 = shapiro(age0)\n",
    "\n",
    "# - 소수점 둘째 자리까지 반올림하여 출력\n",
    "print(f\"Survived=1: statistic={stat1:.2f}, pvalue={p1:.2f}\")\n",
    "print(f\"Survived=0: statistic={stat0:.2f}, pvalue={p0:.2f}\")\n",
    "\n",
    "# - 전체 데이터 형태 확인\n",
    "print(\"DataFrame shape:\", df.shape)\n",
    "\n",
    "# --- 등분산성 검정 ---\n",
    "from scipy.stats import levene\n",
    "\n",
    "# - 그룹별 age 데이터\n",
    "group1 = df.loc[df['survived'] == 1, 'age'].dropna()\n",
    "group2 = df.loc[df['survived'] == 0, 'age'].dropna()\n",
    "\n",
    "# - Levene 검정\n",
    "res = levene(group1, group2)\n",
    "\n",
    "# - 통계량과 p-value 추출 후 소수점 둘째 자리까지 반올림해 출력\n",
    "stat, pvalue = res.statistic, res.pvalue\n",
    "print(f\"Levene test: statistic={stat:.2f}, pvalue={pvalue:.2f}\")\n",
    "\n",
    "'''"
   ],
   "id": "bdc7ff753470def8"
  }
 ],
 "metadata": {
  "kernelspec": {
   "display_name": "Python 3",
   "language": "python",
   "name": "python3"
  },
  "language_info": {
   "codemirror_mode": {
    "name": "ipython",
    "version": 2
   },
   "file_extension": ".py",
   "mimetype": "text/x-python",
   "name": "python",
   "nbconvert_exporter": "python",
   "pygments_lexer": "ipython2",
   "version": "2.7.6"
  }
 },
 "nbformat": 4,
 "nbformat_minor": 5
}
