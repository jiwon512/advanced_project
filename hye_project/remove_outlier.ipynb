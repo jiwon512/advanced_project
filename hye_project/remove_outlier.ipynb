{
 "cells": [
  {
   "cell_type": "code",
   "id": "initial_id",
   "metadata": {
    "collapsed": true,
    "ExecuteTime": {
     "end_time": "2025-07-20T16:47:45.754120Z",
     "start_time": "2025-07-20T16:47:45.751458Z"
    }
   },
   "source": "from hye_project.my_package.stat_file import test_normality, stat_test, outlier",
   "outputs": [],
   "execution_count": 55
  },
  {
   "metadata": {
    "ExecuteTime": {
     "end_time": "2025-07-20T16:22:00.080012Z",
     "start_time": "2025-07-20T16:22:00.074921Z"
    }
   },
   "cell_type": "code",
   "source": [
    "# -------\n",
    "# library\n",
    "# -------\n",
    "\n",
    "# Standard library\n",
    "from itertools import combinations\n",
    "\n",
    "# Typing\n",
    "from typing import Any, Dict, Tuple, Union\n",
    "\n",
    "# Data handling\n",
    "import numpy as np\n",
    "import pandas as pd\n",
    "\n",
    "# Visualization\n",
    "import matplotlib.pyplot as plt\n",
    "import seaborn as sns\n",
    "\n",
    "# Reporting\n",
    "from tabulate import tabulate\n",
    "\n",
    "# Statistical analysis\n",
    "import scipy.stats as stats\n",
    "from scipy.stats import levene\n",
    "from scipy.spatial.distance import squareform\n",
    "\n",
    "# Clustering\n",
    "import scipy.cluster.hierarchy as sch\n",
    "\n",
    "# Post-hoc tests\n",
    "import scikit_posthocs as sp\n",
    "\n",
    "# Modeling\n",
    "import statsmodels.api as sm\n",
    "\n",
    "# Network analysis\n",
    "import networkx as nx"
   ],
   "id": "889970d3a5261f81",
   "outputs": [],
   "execution_count": 8
  },
  {
   "metadata": {
    "ExecuteTime": {
     "end_time": "2025-07-20T16:35:00.611425Z",
     "start_time": "2025-07-20T16:35:00.310746Z"
    }
   },
   "cell_type": "code",
   "source": [
    "# ---------------------------\n",
    "# 전처리를 완료한 csv 파일 불러오기\n",
    "# ---------------------------\n",
    "df = pd.read_csv('/Users/hyeom/Documents/GitHub/advanced_project/jiwon_project/csv_files/preprocessing_filtered.csv')"
   ],
   "id": "58c81b58cf279645",
   "outputs": [],
   "execution_count": 43
  },
  {
   "metadata": {
    "ExecuteTime": {
     "end_time": "2025-07-20T16:45:14.382145Z",
     "start_time": "2025-07-20T16:45:14.361673Z"
    }
   },
   "cell_type": "code",
   "source": [
    "# ----------------------------\n",
    "# price 컬럼 정규성 및 분포 확인하기\n",
    "# ----------------------------\n",
    "# 1. price 컬럼 정규성 검정 결과\n",
    "price_normality = test_normality(df['price'])"
   ],
   "id": "8ef7fb3e9973b7eb",
   "outputs": [
    {
     "name": "stdout",
     "output_type": "stream",
     "text": [
      "| 검정항목                | 통계량        | p-값 / 임계값   | 판정   |\n",
      "|-------------------------|---------------|-----------------|--------|\n",
      "| Skew (왜도)             | 24.421        | -               | -      |\n",
      "| Excess Kurtosis (첨도)  | 893.551       | -               | -      |\n",
      "| Shapiro-Wilk            | 0.238         | p=0.000         | Reject |\n",
      "| D’Agostino K²           | 53264.039     | p=0.000         | Reject |\n",
      "| Jarque–Bera             | 744028276.333 | p=0.000         | Reject |\n",
      "| Lilliefors KS           | 0.331         | p=0.001         | Reject |\n",
      "| Anderson–Darling @15.0% | 3866.117      | crit=0.576      | Reject |\n",
      "| Anderson–Darling @10.0% | 3866.117      | crit=0.656      | Reject |\n",
      "| Anderson–Darling @5.0%  | 3866.117      | crit=0.787      | Reject |\n",
      "| Anderson–Darling @2.5%  | 3866.117      | crit=0.918      | Reject |\n",
      "| Anderson–Darling @1.0%  | 3866.117      | crit=1.092      | Reject |\n",
      "| Practical Normal        | -             | -               | False  |\n"
     ]
    }
   ],
   "execution_count": 54
  },
  {
   "metadata": {},
   "cell_type": "code",
   "outputs": [],
   "execution_count": null,
   "source": "",
   "id": "bfa04bf118c5b7f4"
  }
 ],
 "metadata": {
  "kernelspec": {
   "display_name": "Python 3",
   "language": "python",
   "name": "python3"
  },
  "language_info": {
   "codemirror_mode": {
    "name": "ipython",
    "version": 2
   },
   "file_extension": ".py",
   "mimetype": "text/x-python",
   "name": "python",
   "nbconvert_exporter": "python",
   "pygments_lexer": "ipython2",
   "version": "2.7.6"
  }
 },
 "nbformat": 4,
 "nbformat_minor": 5
}
