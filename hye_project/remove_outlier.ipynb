{
 "cells": [
  {
   "cell_type": "code",
   "id": "initial_id",
   "metadata": {
    "collapsed": true,
    "ExecuteTime": {
     "end_time": "2025-07-20T16:19:10.594136Z",
     "start_time": "2025-07-20T16:19:10.591120Z"
    }
   },
   "source": "import stat_file",
   "outputs": [],
   "execution_count": 6
  },
  {
   "metadata": {
    "ExecuteTime": {
     "end_time": "2025-07-20T16:22:00.080012Z",
     "start_time": "2025-07-20T16:22:00.074921Z"
    }
   },
   "cell_type": "code",
   "source": [
    "# -------\n",
    "# library\n",
    "# -------\n",
    "\n",
    "# Standard library\n",
    "from itertools import combinations\n",
    "\n",
    "# Typing\n",
    "from typing import Any, Dict, Tuple, Union\n",
    "\n",
    "# Data handling\n",
    "import numpy as np\n",
    "import pandas as pd\n",
    "\n",
    "# Visualization\n",
    "import matplotlib.pyplot as plt\n",
    "import seaborn as sns\n",
    "\n",
    "# Reporting\n",
    "from tabulate import tabulate\n",
    "\n",
    "# Statistical analysis\n",
    "import scipy.stats as stats\n",
    "from scipy.stats import levene\n",
    "from scipy.spatial.distance import squareform\n",
    "\n",
    "# Clustering\n",
    "import scipy.cluster.hierarchy as sch\n",
    "\n",
    "# Post-hoc tests\n",
    "import scikit_posthocs as sp\n",
    "\n",
    "# Modeling\n",
    "import statsmodels.api as sm\n",
    "\n",
    "# Network analysis\n",
    "import networkx as nx"
   ],
   "id": "889970d3a5261f81",
   "outputs": [],
   "execution_count": 8
  },
  {
   "metadata": {
    "ExecuteTime": {
     "end_time": "2025-07-20T16:24:09.493527Z",
     "start_time": "2025-07-20T16:24:09.178361Z"
    }
   },
   "cell_type": "code",
   "source": "df = pd.read_csv('/Users/hyeom/Documents/GitHub/advanced_project/jiwon_project/csv_files/preprocessing_filtered.csv')",
   "id": "58c81b58cf279645",
   "outputs": [],
   "execution_count": 15
  },
  {
   "metadata": {
    "ExecuteTime": {
     "end_time": "2025-07-20T16:27:32.226306Z",
     "start_time": "2025-07-20T16:27:32.206417Z"
    }
   },
   "cell_type": "code",
   "source": "df.info()",
   "id": "8d1b700e2c89ca15",
   "outputs": [
    {
     "name": "stdout",
     "output_type": "stream",
     "text": [
      "<class 'pandas.core.frame.DataFrame'>\n",
      "RangeIndex: 22308 entries, 0 to 22307\n",
      "Data columns (total 44 columns):\n",
      " #   Column                        Non-Null Count  Dtype  \n",
      "---  ------                        --------------  -----  \n",
      " 0   Unnamed: 0                    22308 non-null  int64  \n",
      " 1   neighbourhood_cleansed        22308 non-null  object \n",
      " 2   neighbourhood_group_cleansed  22308 non-null  object \n",
      " 3   latitude                      22308 non-null  float64\n",
      " 4   longitude                     22308 non-null  float64\n",
      " 5   price                         22308 non-null  float64\n",
      " 6   estimated_occupancy_l365d     22308 non-null  int64  \n",
      " 7   estimated_revenue_l365d       22308 non-null  float64\n",
      " 8   availability_60               22308 non-null  int64  \n",
      " 9   availability_365              22308 non-null  int64  \n",
      " 10  instant_bookable              22308 non-null  int64  \n",
      " 11  is_long_term                  22308 non-null  int64  \n",
      " 12  is_activate                   22308 non-null  int64  \n",
      " 13  amenities                     22308 non-null  object \n",
      " 14  amenities_cnt                 22308 non-null  int64  \n",
      " 15  room_type                     22308 non-null  object \n",
      " 16  room_structure_type           22308 non-null  object \n",
      " 17  accommodates                  22308 non-null  int64  \n",
      " 18  bath_score_mul                22308 non-null  float64\n",
      " 19  beds                          22308 non-null  int64  \n",
      " 20  number_of_reviews             22308 non-null  int64  \n",
      " 21  number_of_reviews_ltm         22308 non-null  int64  \n",
      " 22  number_of_reviews_l30d        22308 non-null  int64  \n",
      " 23  review_scores_rating          22308 non-null  float64\n",
      " 24  review_scores_accuracy        22308 non-null  float64\n",
      " 25  review_scores_cleanliness     22308 non-null  float64\n",
      " 26  review_scores_checkin         22308 non-null  float64\n",
      " 27  review_scores_communication   22308 non-null  float64\n",
      " 28  review_scores_location        22308 non-null  float64\n",
      " 29  review_scores_value           22308 non-null  float64\n",
      " 30  id                            22308 non-null  int64  \n",
      " 31  host_id                       22308 non-null  int64  \n",
      " 32  name_length_group             22308 non-null  object \n",
      " 33  description_length_group      22308 non-null  object \n",
      " 34  neighborhood_overview_exists  22308 non-null  int64  \n",
      " 35  host_about_length_group       22308 non-null  object \n",
      " 36  host_is_superhost             22308 non-null  int64  \n",
      " 37  host_has_profile_pic          22308 non-null  int64  \n",
      " 38  host_identity_verified        22308 non-null  int64  \n",
      " 39  host_response_time_score      22308 non-null  float64\n",
      " 40  host_response_rate_score      22308 non-null  int64  \n",
      " 41  host_acceptance_rate_score    22308 non-null  int64  \n",
      " 42  host_location_ny              22308 non-null  int64  \n",
      " 43  host_location_boolean         22308 non-null  int64  \n",
      "dtypes: float64(13), int64(23), object(8)\n",
      "memory usage: 7.5+ MB\n"
     ]
    }
   ],
   "execution_count": 23
  },
  {
   "metadata": {
    "ExecuteTime": {
     "end_time": "2025-07-20T16:27:10.314706Z",
     "start_time": "2025-07-20T16:27:10.304825Z"
    }
   },
   "cell_type": "code",
   "source": "df = df.drop(columns=['room_structure_type'])",
   "id": "8ef7fb3e9973b7eb",
   "outputs": [],
   "execution_count": 20
  },
  {
   "metadata": {
    "ExecuteTime": {
     "end_time": "2025-07-20T16:27:30.221130Z",
     "start_time": "2025-07-20T16:27:30.217579Z"
    }
   },
   "cell_type": "code",
   "source": "df.rename(columns={'structure_type': 'room_structure_type'}, inplace=True)",
   "id": "4c5c4a6458d7c9c3",
   "outputs": [],
   "execution_count": 22
  },
  {
   "metadata": {
    "ExecuteTime": {
     "end_time": "2025-07-20T16:28:03.683297Z",
     "start_time": "2025-07-20T16:28:02.900873Z"
    }
   },
   "cell_type": "code",
   "source": "df.to_csv('/Users/hyeom/Documents/GitHub/advanced_project/jiwon_project/csv_files/preprocessing_filtered.csv')",
   "id": "9300efd165828ac7",
   "outputs": [],
   "execution_count": 24
  },
  {
   "metadata": {},
   "cell_type": "code",
   "outputs": [],
   "execution_count": null,
   "source": "",
   "id": "1b819bc17fd59bd4"
  }
 ],
 "metadata": {
  "kernelspec": {
   "display_name": "Python 3",
   "language": "python",
   "name": "python3"
  },
  "language_info": {
   "codemirror_mode": {
    "name": "ipython",
    "version": 2
   },
   "file_extension": ".py",
   "mimetype": "text/x-python",
   "name": "python",
   "nbconvert_exporter": "python",
   "pygments_lexer": "ipython2",
   "version": "2.7.6"
  }
 },
 "nbformat": 4,
 "nbformat_minor": 5
}
