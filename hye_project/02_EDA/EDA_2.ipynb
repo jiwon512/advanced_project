{
 "cells": [
  {
   "metadata": {},
   "cell_type": "code",
   "outputs": [],
   "execution_count": null,
   "source": "from hye_project.my_package.stat_file import test_normality, print_normality, stat_test, outlier",
   "id": "cf6b9ff491f49419"
  },
  {
   "metadata": {
    "ExecuteTime": {
     "end_time": "2025-07-21T02:03:00.855825Z",
     "start_time": "2025-07-21T02:02:59.986772Z"
    }
   },
   "cell_type": "code",
   "source": [
    "import hye_project.my_package.stat_file as sf\n",
    "print(dir(sf))"
   ],
   "id": "6edf1ee3ca4bd2bd",
   "outputs": [
    {
     "name": "stdout",
     "output_type": "stream",
     "text": [
      "['Any', 'Dict', 'Tuple', 'Union', '__builtins__', '__cached__', '__doc__', '__file__', '__loader__', '__name__', '__package__', '__spec__', 'combinations', 'levene', 'normality', 'np', 'nx', 'outlier', 'pd', 'plt', 'sch', 'sm', 'sns', 'sp', 'squareform', 'stat_test', 'stats', 'tabulate']\n"
     ]
    }
   ],
   "execution_count": 1
  },
  {
   "metadata": {},
   "cell_type": "code",
   "outputs": [],
   "execution_count": null,
   "source": "",
   "id": "c77a3fdf46e7070e"
  }
 ],
 "metadata": {
  "kernelspec": {
   "display_name": "Python 3",
   "language": "python",
   "name": "python3"
  },
  "language_info": {
   "codemirror_mode": {
    "name": "ipython",
    "version": 2
   },
   "file_extension": ".py",
   "mimetype": "text/x-python",
   "name": "python",
   "nbconvert_exporter": "python",
   "pygments_lexer": "ipython2",
   "version": "2.7.6"
  }
 },
 "nbformat": 4,
 "nbformat_minor": 5
}
