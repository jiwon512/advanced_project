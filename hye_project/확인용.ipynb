{
 "cells": [
  {
   "cell_type": "code",
   "id": "initial_id",
   "metadata": {
    "collapsed": true,
    "ExecuteTime": {
     "end_time": "2025-07-17T10:54:12.892227Z",
     "start_time": "2025-07-17T10:54:12.870513Z"
    }
   },
   "source": [
    "import pandas as pd\n",
    "import numpy as np\n",
    "import matplotlib.pyplot as plt"
   ],
   "outputs": [],
   "execution_count": 30
  },
  {
   "metadata": {
    "ExecuteTime": {
     "end_time": "2025-07-17T02:12:13.921006Z",
     "start_time": "2025-07-17T02:12:13.425548Z"
    }
   },
   "cell_type": "code",
   "source": [
    "df = pd.read_csv('2025_Airbnb_NYC.csv', encoding = 'utf-8' )\n",
    "\n",
    "df"
   ],
   "id": "fdf5766198e91e77",
   "outputs": [],
   "execution_count": 6
  },
  {
   "metadata": {
    "ExecuteTime": {
     "end_time": "2025-07-17T02:13:40.144504Z",
     "start_time": "2025-07-17T02:13:40.140540Z"
    }
   },
   "cell_type": "code",
   "source": "print(df.columns)",
   "id": "9ae404b7c2b2b1b",
   "outputs": [
    {
     "name": "stdout",
     "output_type": "stream",
     "text": [
      "Index(['Unnamed: 0', 'id', 'source', 'name', 'description',\n",
      "       'neighborhood_overview', 'host_id', 'host_name', 'host_since',\n",
      "       'host_location', 'host_about', 'host_response_time',\n",
      "       'host_response_rate', 'host_acceptance_rate', 'host_is_superhost',\n",
      "       'host_neighbourhood', 'host_listings_count',\n",
      "       'host_total_listings_count', 'host_verifications',\n",
      "       'host_has_profile_pic', 'host_identity_verified', 'neighbourhood',\n",
      "       'neighbourhood_cleansed', 'neighbourhood_group_cleansed', 'latitude',\n",
      "       'longitude', 'property_type', 'room_type', 'accommodates', 'bathrooms',\n",
      "       'bathrooms_text', 'bedrooms', 'beds', 'amenities', 'price',\n",
      "       'minimum_nights', 'maximum_nights', 'minimum_minimum_nights',\n",
      "       'maximum_minimum_nights', 'minimum_maximum_nights',\n",
      "       'maximum_maximum_nights', 'minimum_nights_avg_ntm',\n",
      "       'maximum_nights_avg_ntm', 'calendar_updated', 'has_availability',\n",
      "       'availability_30', 'availability_60', 'availability_90',\n",
      "       'availability_365', 'calendar_last_scraped', 'number_of_reviews',\n",
      "       'number_of_reviews_ltm', 'number_of_reviews_l30d', 'availability_eoy',\n",
      "       'number_of_reviews_ly', 'estimated_occupancy_l365d',\n",
      "       'estimated_revenue_l365d', 'first_review', 'last_review',\n",
      "       'review_scores_rating', 'review_scores_accuracy',\n",
      "       'review_scores_cleanliness', 'review_scores_checkin',\n",
      "       'review_scores_communication', 'review_scores_location',\n",
      "       'review_scores_value', 'license', 'instant_bookable',\n",
      "       'calculated_host_listings_count',\n",
      "       'calculated_host_listings_count_entire_homes',\n",
      "       'calculated_host_listings_count_private_rooms',\n",
      "       'calculated_host_listings_count_shared_rooms', 'reviews_per_month'],\n",
      "      dtype='object')\n"
     ]
    }
   ],
   "execution_count": 10
  },
  {
   "metadata": {
    "ExecuteTime": {
     "end_time": "2025-07-17T02:22:48.981760Z",
     "start_time": "2025-07-17T02:22:48.931417Z"
    }
   },
   "cell_type": "code",
   "source": [
    "df['price_clean'] = df['price'].str.replace(r'[\\$,]', '', regex=True)\n",
    "df['price_clean'] = df['price_clean'].astype(float)\n",
    "print(df['price_clean'].head(2))\n",
    "df['price'] = df['price_clean']\n",
    "df = df.drop(columns=['price_clean'])"
   ],
   "id": "e62f6e89a91471bf",
   "outputs": [
    {
     "name": "stdout",
     "output_type": "stream",
     "text": [
      "0    200.0\n",
      "1     82.0\n",
      "Name: price_clean, dtype: float64\n"
     ]
    }
   ],
   "execution_count": 13
  },
  {
   "metadata": {
    "ExecuteTime": {
     "end_time": "2025-07-17T02:40:38.611715Z",
     "start_time": "2025-07-17T02:40:38.590912Z"
    }
   },
   "cell_type": "code",
   "source": [
    "stats_review = df.groupby('room_type')['review_scores_rating'].describe()\n",
    "stats_review"
   ],
   "id": "3e86737122afe1e2",
   "outputs": [
    {
     "data": {
      "text/plain": [
       "                  count      mean       std  min    25%    50%   75%  max\n",
       "room_type                                                                \n",
       "Entire home/apt  8873.0  4.739607  0.430769  1.0  4.670  4.860  5.00  5.0\n",
       "Hotel room        114.0  4.433509  0.750488  1.0  4.115  4.645  5.00  5.0\n",
       "Private room     6466.0  4.707533  0.484216  1.0  4.650  4.830  4.98  5.0\n",
       "Shared room        57.0  4.848070  0.119589  4.6  4.780  4.860  4.94  5.0"
      ],
      "text/html": [
       "<div>\n",
       "<style scoped>\n",
       "    .dataframe tbody tr th:only-of-type {\n",
       "        vertical-align: middle;\n",
       "    }\n",
       "\n",
       "    .dataframe tbody tr th {\n",
       "        vertical-align: top;\n",
       "    }\n",
       "\n",
       "    .dataframe thead th {\n",
       "        text-align: right;\n",
       "    }\n",
       "</style>\n",
       "<table border=\"1\" class=\"dataframe\">\n",
       "  <thead>\n",
       "    <tr style=\"text-align: right;\">\n",
       "      <th></th>\n",
       "      <th>count</th>\n",
       "      <th>mean</th>\n",
       "      <th>std</th>\n",
       "      <th>min</th>\n",
       "      <th>25%</th>\n",
       "      <th>50%</th>\n",
       "      <th>75%</th>\n",
       "      <th>max</th>\n",
       "    </tr>\n",
       "    <tr>\n",
       "      <th>room_type</th>\n",
       "      <th></th>\n",
       "      <th></th>\n",
       "      <th></th>\n",
       "      <th></th>\n",
       "      <th></th>\n",
       "      <th></th>\n",
       "      <th></th>\n",
       "      <th></th>\n",
       "    </tr>\n",
       "  </thead>\n",
       "  <tbody>\n",
       "    <tr>\n",
       "      <th>Entire home/apt</th>\n",
       "      <td>8873.0</td>\n",
       "      <td>4.739607</td>\n",
       "      <td>0.430769</td>\n",
       "      <td>1.0</td>\n",
       "      <td>4.670</td>\n",
       "      <td>4.860</td>\n",
       "      <td>5.00</td>\n",
       "      <td>5.0</td>\n",
       "    </tr>\n",
       "    <tr>\n",
       "      <th>Hotel room</th>\n",
       "      <td>114.0</td>\n",
       "      <td>4.433509</td>\n",
       "      <td>0.750488</td>\n",
       "      <td>1.0</td>\n",
       "      <td>4.115</td>\n",
       "      <td>4.645</td>\n",
       "      <td>5.00</td>\n",
       "      <td>5.0</td>\n",
       "    </tr>\n",
       "    <tr>\n",
       "      <th>Private room</th>\n",
       "      <td>6466.0</td>\n",
       "      <td>4.707533</td>\n",
       "      <td>0.484216</td>\n",
       "      <td>1.0</td>\n",
       "      <td>4.650</td>\n",
       "      <td>4.830</td>\n",
       "      <td>4.98</td>\n",
       "      <td>5.0</td>\n",
       "    </tr>\n",
       "    <tr>\n",
       "      <th>Shared room</th>\n",
       "      <td>57.0</td>\n",
       "      <td>4.848070</td>\n",
       "      <td>0.119589</td>\n",
       "      <td>4.6</td>\n",
       "      <td>4.780</td>\n",
       "      <td>4.860</td>\n",
       "      <td>4.94</td>\n",
       "      <td>5.0</td>\n",
       "    </tr>\n",
       "  </tbody>\n",
       "</table>\n",
       "</div>"
      ]
     },
     "execution_count": 20,
     "metadata": {},
     "output_type": "execute_result"
    }
   ],
   "execution_count": 20
  },
  {
   "metadata": {
    "ExecuteTime": {
     "end_time": "2025-07-17T02:40:53.878019Z",
     "start_time": "2025-07-17T02:40:53.857465Z"
    }
   },
   "cell_type": "code",
   "source": [
    "stats_price = df.groupby('room_type')['price'].describe()\n",
    "stats_price"
   ],
   "id": "e69ec847e6ab4938",
   "outputs": [
    {
     "data": {
      "text/plain": [
       "                   count        mean         std   min    25%    50%    75%  \\\n",
       "room_type                                                                     \n",
       "Entire home/apt  12664.0  265.344757  412.451932  16.0  128.0  190.0  300.0   \n",
       "Hotel room         372.0  527.634409  527.342594   8.0  224.0  403.0  790.0   \n",
       "Private room      9186.0  130.763009  427.908249   7.0   56.0   81.0  128.0   \n",
       "Shared room         86.0  144.662791  252.594379  14.0   38.0   79.0  150.0   \n",
       "\n",
       "                     max  \n",
       "room_type                 \n",
       "Entire home/apt  15200.0  \n",
       "Hotel room        6563.0  \n",
       "Private room     20000.0  \n",
       "Shared room       2025.0  "
      ],
      "text/html": [
       "<div>\n",
       "<style scoped>\n",
       "    .dataframe tbody tr th:only-of-type {\n",
       "        vertical-align: middle;\n",
       "    }\n",
       "\n",
       "    .dataframe tbody tr th {\n",
       "        vertical-align: top;\n",
       "    }\n",
       "\n",
       "    .dataframe thead th {\n",
       "        text-align: right;\n",
       "    }\n",
       "</style>\n",
       "<table border=\"1\" class=\"dataframe\">\n",
       "  <thead>\n",
       "    <tr style=\"text-align: right;\">\n",
       "      <th></th>\n",
       "      <th>count</th>\n",
       "      <th>mean</th>\n",
       "      <th>std</th>\n",
       "      <th>min</th>\n",
       "      <th>25%</th>\n",
       "      <th>50%</th>\n",
       "      <th>75%</th>\n",
       "      <th>max</th>\n",
       "    </tr>\n",
       "    <tr>\n",
       "      <th>room_type</th>\n",
       "      <th></th>\n",
       "      <th></th>\n",
       "      <th></th>\n",
       "      <th></th>\n",
       "      <th></th>\n",
       "      <th></th>\n",
       "      <th></th>\n",
       "      <th></th>\n",
       "    </tr>\n",
       "  </thead>\n",
       "  <tbody>\n",
       "    <tr>\n",
       "      <th>Entire home/apt</th>\n",
       "      <td>12664.0</td>\n",
       "      <td>265.344757</td>\n",
       "      <td>412.451932</td>\n",
       "      <td>16.0</td>\n",
       "      <td>128.0</td>\n",
       "      <td>190.0</td>\n",
       "      <td>300.0</td>\n",
       "      <td>15200.0</td>\n",
       "    </tr>\n",
       "    <tr>\n",
       "      <th>Hotel room</th>\n",
       "      <td>372.0</td>\n",
       "      <td>527.634409</td>\n",
       "      <td>527.342594</td>\n",
       "      <td>8.0</td>\n",
       "      <td>224.0</td>\n",
       "      <td>403.0</td>\n",
       "      <td>790.0</td>\n",
       "      <td>6563.0</td>\n",
       "    </tr>\n",
       "    <tr>\n",
       "      <th>Private room</th>\n",
       "      <td>9186.0</td>\n",
       "      <td>130.763009</td>\n",
       "      <td>427.908249</td>\n",
       "      <td>7.0</td>\n",
       "      <td>56.0</td>\n",
       "      <td>81.0</td>\n",
       "      <td>128.0</td>\n",
       "      <td>20000.0</td>\n",
       "    </tr>\n",
       "    <tr>\n",
       "      <th>Shared room</th>\n",
       "      <td>86.0</td>\n",
       "      <td>144.662791</td>\n",
       "      <td>252.594379</td>\n",
       "      <td>14.0</td>\n",
       "      <td>38.0</td>\n",
       "      <td>79.0</td>\n",
       "      <td>150.0</td>\n",
       "      <td>2025.0</td>\n",
       "    </tr>\n",
       "  </tbody>\n",
       "</table>\n",
       "</div>"
      ]
     },
     "execution_count": 21,
     "metadata": {},
     "output_type": "execute_result"
    }
   ],
   "execution_count": 21
  },
  {
   "metadata": {
    "ExecuteTime": {
     "end_time": "2025-07-17T02:41:10.343841Z",
     "start_time": "2025-07-17T02:41:10.322479Z"
    }
   },
   "cell_type": "code",
   "source": [
    "stats_revenue_ori = df.groupby('room_type')['estimated_revenue_l365d'].describe()\n",
    "stats_revenue_ori"
   ],
   "id": "b2ef9f7a0489a3de",
   "outputs": [
    {
     "data": {
      "text/plain": [
       "                   count          mean           std  min  25%  50%      75%  \\\n",
       "room_type                                                                      \n",
       "Entire home/apt  12664.0  14778.052274  28652.352049  0.0  0.0  0.0  20760.0   \n",
       "Hotel room         372.0   3893.244624  11923.669595  0.0  0.0  0.0      0.0   \n",
       "Private room      9186.0   8281.467995  15730.560203  0.0  0.0  0.0  10800.0   \n",
       "Shared room         86.0   9735.976744  30479.879570  0.0  0.0  0.0  12592.5   \n",
       "\n",
       "                       max  \n",
       "room_type                   \n",
       "Entire home/apt  1020050.0  \n",
       "Hotel room         94786.0  \n",
       "Private room      374524.0  \n",
       "Shared room       268005.0  "
      ],
      "text/html": [
       "<div>\n",
       "<style scoped>\n",
       "    .dataframe tbody tr th:only-of-type {\n",
       "        vertical-align: middle;\n",
       "    }\n",
       "\n",
       "    .dataframe tbody tr th {\n",
       "        vertical-align: top;\n",
       "    }\n",
       "\n",
       "    .dataframe thead th {\n",
       "        text-align: right;\n",
       "    }\n",
       "</style>\n",
       "<table border=\"1\" class=\"dataframe\">\n",
       "  <thead>\n",
       "    <tr style=\"text-align: right;\">\n",
       "      <th></th>\n",
       "      <th>count</th>\n",
       "      <th>mean</th>\n",
       "      <th>std</th>\n",
       "      <th>min</th>\n",
       "      <th>25%</th>\n",
       "      <th>50%</th>\n",
       "      <th>75%</th>\n",
       "      <th>max</th>\n",
       "    </tr>\n",
       "    <tr>\n",
       "      <th>room_type</th>\n",
       "      <th></th>\n",
       "      <th></th>\n",
       "      <th></th>\n",
       "      <th></th>\n",
       "      <th></th>\n",
       "      <th></th>\n",
       "      <th></th>\n",
       "      <th></th>\n",
       "    </tr>\n",
       "  </thead>\n",
       "  <tbody>\n",
       "    <tr>\n",
       "      <th>Entire home/apt</th>\n",
       "      <td>12664.0</td>\n",
       "      <td>14778.052274</td>\n",
       "      <td>28652.352049</td>\n",
       "      <td>0.0</td>\n",
       "      <td>0.0</td>\n",
       "      <td>0.0</td>\n",
       "      <td>20760.0</td>\n",
       "      <td>1020050.0</td>\n",
       "    </tr>\n",
       "    <tr>\n",
       "      <th>Hotel room</th>\n",
       "      <td>372.0</td>\n",
       "      <td>3893.244624</td>\n",
       "      <td>11923.669595</td>\n",
       "      <td>0.0</td>\n",
       "      <td>0.0</td>\n",
       "      <td>0.0</td>\n",
       "      <td>0.0</td>\n",
       "      <td>94786.0</td>\n",
       "    </tr>\n",
       "    <tr>\n",
       "      <th>Private room</th>\n",
       "      <td>9186.0</td>\n",
       "      <td>8281.467995</td>\n",
       "      <td>15730.560203</td>\n",
       "      <td>0.0</td>\n",
       "      <td>0.0</td>\n",
       "      <td>0.0</td>\n",
       "      <td>10800.0</td>\n",
       "      <td>374524.0</td>\n",
       "    </tr>\n",
       "    <tr>\n",
       "      <th>Shared room</th>\n",
       "      <td>86.0</td>\n",
       "      <td>9735.976744</td>\n",
       "      <td>30479.879570</td>\n",
       "      <td>0.0</td>\n",
       "      <td>0.0</td>\n",
       "      <td>0.0</td>\n",
       "      <td>12592.5</td>\n",
       "      <td>268005.0</td>\n",
       "    </tr>\n",
       "  </tbody>\n",
       "</table>\n",
       "</div>"
      ]
     },
     "execution_count": 22,
     "metadata": {},
     "output_type": "execute_result"
    }
   ],
   "execution_count": 22
  },
  {
   "metadata": {
    "ExecuteTime": {
     "end_time": "2025-07-17T02:41:17.672921Z",
     "start_time": "2025-07-17T02:41:17.630680Z"
    }
   },
   "cell_type": "code",
   "source": [
    "df_nonzero = df[df['estimated_revenue_l365d'] != 0]\n",
    "stats_revenue = df_nonzero.groupby('room_type')['estimated_revenue_l365d'].describe()\n",
    "stats_revenue"
   ],
   "id": "67af6d728494b5b",
   "outputs": [
    {
     "data": {
      "text/plain": [
       "                  count          mean           std     min      25%      50%  \\\n",
       "room_type                                                                       \n",
       "Entire home/apt  5840.0  32046.105137  35027.644990  1521.0  12420.0  22950.0   \n",
       "Hotel room         77.0  18808.922078  20243.366000  1170.0   5603.0  10608.0   \n",
       "Private room     4121.0  18459.976947  19071.388646   715.0   5520.0  12800.0   \n",
       "Shared room        36.0  23258.166667  43962.617722  1920.0   7254.0  14212.5   \n",
       "\n",
       "                      75%        max  \n",
       "room_type                             \n",
       "Entire home/apt  40290.00  1020050.0  \n",
       "Hotel room       25760.00    94786.0  \n",
       "Private room     25272.00   374524.0  \n",
       "Shared room      19826.25   268005.0  "
      ],
      "text/html": [
       "<div>\n",
       "<style scoped>\n",
       "    .dataframe tbody tr th:only-of-type {\n",
       "        vertical-align: middle;\n",
       "    }\n",
       "\n",
       "    .dataframe tbody tr th {\n",
       "        vertical-align: top;\n",
       "    }\n",
       "\n",
       "    .dataframe thead th {\n",
       "        text-align: right;\n",
       "    }\n",
       "</style>\n",
       "<table border=\"1\" class=\"dataframe\">\n",
       "  <thead>\n",
       "    <tr style=\"text-align: right;\">\n",
       "      <th></th>\n",
       "      <th>count</th>\n",
       "      <th>mean</th>\n",
       "      <th>std</th>\n",
       "      <th>min</th>\n",
       "      <th>25%</th>\n",
       "      <th>50%</th>\n",
       "      <th>75%</th>\n",
       "      <th>max</th>\n",
       "    </tr>\n",
       "    <tr>\n",
       "      <th>room_type</th>\n",
       "      <th></th>\n",
       "      <th></th>\n",
       "      <th></th>\n",
       "      <th></th>\n",
       "      <th></th>\n",
       "      <th></th>\n",
       "      <th></th>\n",
       "      <th></th>\n",
       "    </tr>\n",
       "  </thead>\n",
       "  <tbody>\n",
       "    <tr>\n",
       "      <th>Entire home/apt</th>\n",
       "      <td>5840.0</td>\n",
       "      <td>32046.105137</td>\n",
       "      <td>35027.644990</td>\n",
       "      <td>1521.0</td>\n",
       "      <td>12420.0</td>\n",
       "      <td>22950.0</td>\n",
       "      <td>40290.00</td>\n",
       "      <td>1020050.0</td>\n",
       "    </tr>\n",
       "    <tr>\n",
       "      <th>Hotel room</th>\n",
       "      <td>77.0</td>\n",
       "      <td>18808.922078</td>\n",
       "      <td>20243.366000</td>\n",
       "      <td>1170.0</td>\n",
       "      <td>5603.0</td>\n",
       "      <td>10608.0</td>\n",
       "      <td>25760.00</td>\n",
       "      <td>94786.0</td>\n",
       "    </tr>\n",
       "    <tr>\n",
       "      <th>Private room</th>\n",
       "      <td>4121.0</td>\n",
       "      <td>18459.976947</td>\n",
       "      <td>19071.388646</td>\n",
       "      <td>715.0</td>\n",
       "      <td>5520.0</td>\n",
       "      <td>12800.0</td>\n",
       "      <td>25272.00</td>\n",
       "      <td>374524.0</td>\n",
       "    </tr>\n",
       "    <tr>\n",
       "      <th>Shared room</th>\n",
       "      <td>36.0</td>\n",
       "      <td>23258.166667</td>\n",
       "      <td>43962.617722</td>\n",
       "      <td>1920.0</td>\n",
       "      <td>7254.0</td>\n",
       "      <td>14212.5</td>\n",
       "      <td>19826.25</td>\n",
       "      <td>268005.0</td>\n",
       "    </tr>\n",
       "  </tbody>\n",
       "</table>\n",
       "</div>"
      ]
     },
     "execution_count": 23,
     "metadata": {},
     "output_type": "execute_result"
    }
   ],
   "execution_count": 23
  },
  {
   "metadata": {
    "ExecuteTime": {
     "end_time": "2025-07-17T02:27:00.533765Z",
     "start_time": "2025-07-17T02:27:00.524106Z"
    }
   },
   "cell_type": "code",
   "source": [
    "weird = df[df['price'] == 20000.0]\n",
    "print(weird)"
   ],
   "id": "ac9004833e90389b",
   "outputs": [
    {
     "name": "stdout",
     "output_type": "stream",
     "text": [
      "       Unnamed: 0            id       source  \\\n",
      "14131       27925  9.045239e+17  city scrape   \n",
      "14132       27926  9.045241e+17  city scrape   \n",
      "14133       27927  9.045242e+17  city scrape   \n",
      "\n",
      "                                     name  \\\n",
      "14131       1-Bedroom Hotel Suite - 1 bed   \n",
      "14132  2 Connecting Hotel Suites - 2 beds   \n",
      "14133      1-Bedroom Hotel Suite - 2 beds   \n",
      "\n",
      "                                             description  \\\n",
      "14131  The 640 square foot Howard Suite at 11 Howard ...   \n",
      "14132  The 640 square foot Howard Suite at 11 Howard ...   \n",
      "14133  Revel in a private, rooftop terrace with views...   \n",
      "\n",
      "      neighborhood_overview    host_id  host_name  host_since host_location  \\\n",
      "14131                   NaN  326084746  Suiteness  2020-01-10   Oakland, CA   \n",
      "14132                   NaN  326084746  Suiteness  2020-01-10   Oakland, CA   \n",
      "14133                   NaN  326084746  Suiteness  2020-01-10   Oakland, CA   \n",
      "\n",
      "       ... review_scores_communication review_scores_location  \\\n",
      "14131  ...                         NaN                    NaN   \n",
      "14132  ...                         NaN                    NaN   \n",
      "14133  ...                         NaN                    NaN   \n",
      "\n",
      "      review_scores_value license instant_bookable  \\\n",
      "14131                 NaN  Exempt                t   \n",
      "14132                 NaN  Exempt                t   \n",
      "14133                 NaN  Exempt                t   \n",
      "\n",
      "      calculated_host_listings_count  \\\n",
      "14131                             45   \n",
      "14132                             45   \n",
      "14133                             45   \n",
      "\n",
      "       calculated_host_listings_count_entire_homes  \\\n",
      "14131                                            0   \n",
      "14132                                            0   \n",
      "14133                                            0   \n",
      "\n",
      "       calculated_host_listings_count_private_rooms  \\\n",
      "14131                                            45   \n",
      "14132                                            45   \n",
      "14133                                            45   \n",
      "\n",
      "      calculated_host_listings_count_shared_rooms reviews_per_month  \n",
      "14131                                           0               NaN  \n",
      "14132                                           0               NaN  \n",
      "14133                                           0               NaN  \n",
      "\n",
      "[3 rows x 73 columns]\n"
     ]
    }
   ],
   "execution_count": 16
  },
  {
   "metadata": {
    "ExecuteTime": {
     "end_time": "2025-07-17T05:01:06.031833Z",
     "start_time": "2025-07-17T05:01:05.966503Z"
    }
   },
   "cell_type": "code",
   "source": "df['bathrooms'].describe()",
   "id": "88dedded5ca7f9e4",
   "outputs": [
    {
     "data": {
      "text/plain": [
       "count    22302.000000\n",
       "mean         1.192897\n",
       "std          0.556670\n",
       "min          0.000000\n",
       "25%          1.000000\n",
       "50%          1.000000\n",
       "75%          1.000000\n",
       "max         15.500000\n",
       "Name: bathrooms, dtype: float64"
      ]
     },
     "execution_count": 24,
     "metadata": {},
     "output_type": "execute_result"
    }
   ],
   "execution_count": 24
  },
  {
   "metadata": {
    "ExecuteTime": {
     "end_time": "2025-07-17T06:28:01.600447Z",
     "start_time": "2025-07-17T06:28:01.555866Z"
    }
   },
   "cell_type": "code",
   "source": "df['day_revenue'] = df['estimated_revenue_l365d'] / df['estimated_occupancy_l365d']",
   "id": "1a739d49edff8b5",
   "outputs": [],
   "execution_count": 25
  },
  {
   "metadata": {
    "ExecuteTime": {
     "end_time": "2025-07-17T06:29:10.970531Z",
     "start_time": "2025-07-17T06:29:10.934208Z"
    }
   },
   "cell_type": "code",
   "source": [
    "des = df.groupby('room_type')['day_revenue'].describe()\n",
    "\n",
    "des"
   ],
   "id": "aca637d1c213ef5f",
   "outputs": [
    {
     "data": {
      "text/plain": [
       "                  count        mean         std   min    25%    50%     75%  \\\n",
       "room_type                                                                     \n",
       "Entire home/apt  5840.0  201.612158  168.960461  39.0  115.0  161.0  234.00   \n",
       "Hotel room         77.0  408.519481  313.791441  90.0  193.0  365.0  468.00   \n",
       "Private room     4121.0  116.992478  131.986465   7.0   59.0   89.0  139.00   \n",
       "Shared room        36.0  123.805556  173.482122  32.0   49.5   76.5  122.75   \n",
       "\n",
       "                    max  \n",
       "room_type                \n",
       "Entire home/apt  4435.0  \n",
       "Hotel room       1695.0  \n",
       "Private room     3375.0  \n",
       "Shared room      1051.0  "
      ],
      "text/html": [
       "<div>\n",
       "<style scoped>\n",
       "    .dataframe tbody tr th:only-of-type {\n",
       "        vertical-align: middle;\n",
       "    }\n",
       "\n",
       "    .dataframe tbody tr th {\n",
       "        vertical-align: top;\n",
       "    }\n",
       "\n",
       "    .dataframe thead th {\n",
       "        text-align: right;\n",
       "    }\n",
       "</style>\n",
       "<table border=\"1\" class=\"dataframe\">\n",
       "  <thead>\n",
       "    <tr style=\"text-align: right;\">\n",
       "      <th></th>\n",
       "      <th>count</th>\n",
       "      <th>mean</th>\n",
       "      <th>std</th>\n",
       "      <th>min</th>\n",
       "      <th>25%</th>\n",
       "      <th>50%</th>\n",
       "      <th>75%</th>\n",
       "      <th>max</th>\n",
       "    </tr>\n",
       "    <tr>\n",
       "      <th>room_type</th>\n",
       "      <th></th>\n",
       "      <th></th>\n",
       "      <th></th>\n",
       "      <th></th>\n",
       "      <th></th>\n",
       "      <th></th>\n",
       "      <th></th>\n",
       "      <th></th>\n",
       "    </tr>\n",
       "  </thead>\n",
       "  <tbody>\n",
       "    <tr>\n",
       "      <th>Entire home/apt</th>\n",
       "      <td>5840.0</td>\n",
       "      <td>201.612158</td>\n",
       "      <td>168.960461</td>\n",
       "      <td>39.0</td>\n",
       "      <td>115.0</td>\n",
       "      <td>161.0</td>\n",
       "      <td>234.00</td>\n",
       "      <td>4435.0</td>\n",
       "    </tr>\n",
       "    <tr>\n",
       "      <th>Hotel room</th>\n",
       "      <td>77.0</td>\n",
       "      <td>408.519481</td>\n",
       "      <td>313.791441</td>\n",
       "      <td>90.0</td>\n",
       "      <td>193.0</td>\n",
       "      <td>365.0</td>\n",
       "      <td>468.00</td>\n",
       "      <td>1695.0</td>\n",
       "    </tr>\n",
       "    <tr>\n",
       "      <th>Private room</th>\n",
       "      <td>4121.0</td>\n",
       "      <td>116.992478</td>\n",
       "      <td>131.986465</td>\n",
       "      <td>7.0</td>\n",
       "      <td>59.0</td>\n",
       "      <td>89.0</td>\n",
       "      <td>139.00</td>\n",
       "      <td>3375.0</td>\n",
       "    </tr>\n",
       "    <tr>\n",
       "      <th>Shared room</th>\n",
       "      <td>36.0</td>\n",
       "      <td>123.805556</td>\n",
       "      <td>173.482122</td>\n",
       "      <td>32.0</td>\n",
       "      <td>49.5</td>\n",
       "      <td>76.5</td>\n",
       "      <td>122.75</td>\n",
       "      <td>1051.0</td>\n",
       "    </tr>\n",
       "  </tbody>\n",
       "</table>\n",
       "</div>"
      ]
     },
     "execution_count": 28,
     "metadata": {},
     "output_type": "execute_result"
    }
   ],
   "execution_count": 28
  },
  {
   "metadata": {
    "ExecuteTime": {
     "end_time": "2025-07-17T10:56:51.885078Z",
     "start_time": "2025-07-17T10:56:51.565570Z"
    }
   },
   "cell_type": "code",
   "source": [
    "# 1. 'last_review' 컬럼을 datetime으로 변환 (숫자나 잘못된 포맷은 NaT로)\n",
    "df['last_review'] = pd.to_datetime(df['last_review'], errors='coerce')\n",
    "\n",
    "# 2. 변환 후 결측치 개수 확인 (원한다면)\n",
    "print(\"NaT 개수:\", df['last_review'].isna().mean())\n",
    "\n",
    "# 3. 히스토그램 그리기\n",
    "plt.figure(figsize=(10, 6))\n",
    "plt.hist(df['last_review'].dropna(), bins=10)\n",
    "plt.title(\"Distribution of 'last_review' Dates\")\n",
    "plt.xlabel(\"Date\")\n",
    "plt.ylabel(\"Count\")\n",
    "plt.xticks(rotation=45)\n",
    "plt.tight_layout()\n",
    "plt.show()"
   ],
   "id": "bd7e52a9f1430b86",
   "outputs": [
    {
     "name": "stdout",
     "output_type": "stream",
     "text": [
      "NaT 개수: 0.3047337278106509\n"
     ]
    },
    {
     "data": {
      "text/plain": [
       "<Figure size 1000x600 with 1 Axes>"
      ],
      "image/png": "[encoded data removed]"
     },
     "metadata": {},
     "output_type": "display_data"
    }
   ],
   "execution_count": 33
  },
  {
   "metadata": {
    "ExecuteTime": {
     "end_time": "2025-07-17T11:07:31.951963Z",
     "start_time": "2025-07-17T11:07:31.100920Z"
    }
   },
   "cell_type": "code",
   "source": [
    "non_review = df[df['last_review'].isna() & df['number_of_review'] == 0]\n",
    "non_review"
   ],
   "id": "4088607343337aa7",
   "outputs": [
    {
     "ename": "KeyError",
     "evalue": "'number_of_review'",
     "output_type": "error",
     "traceback": [
      "\u001B[31m---------------------------------------------------------------------------\u001B[39m",
      "\u001B[31mKeyError\u001B[39m                                  Traceback (most recent call last)",
      "\u001B[36mFile \u001B[39m\u001B[32m~/PycharmProjects/statistics_2/.venv/lib/python3.11/site-packages/pandas/core/indexes/base.py:3812\u001B[39m, in \u001B[36mIndex.get_loc\u001B[39m\u001B[34m(self, key)\u001B[39m\n\u001B[32m   3811\u001B[39m \u001B[38;5;28;01mtry\u001B[39;00m:\n\u001B[32m-> \u001B[39m\u001B[32m3812\u001B[39m     \u001B[38;5;28;01mreturn\u001B[39;00m \u001B[38;5;28;43mself\u001B[39;49m\u001B[43m.\u001B[49m\u001B[43m_engine\u001B[49m\u001B[43m.\u001B[49m\u001B[43mget_loc\u001B[49m\u001B[43m(\u001B[49m\u001B[43mcasted_key\u001B[49m\u001B[43m)\u001B[49m\n\u001B[32m   3813\u001B[39m \u001B[38;5;28;01mexcept\u001B[39;00m \u001B[38;5;167;01mKeyError\u001B[39;00m \u001B[38;5;28;01mas\u001B[39;00m err:\n",
      "\u001B[36mFile \u001B[39m\u001B[32mpandas/_libs/index.pyx:167\u001B[39m, in \u001B[36mpandas._libs.index.IndexEngine.get_loc\u001B[39m\u001B[34m()\u001B[39m\n",
      "\u001B[36mFile \u001B[39m\u001B[32mpandas/_libs/index.pyx:196\u001B[39m, in \u001B[36mpandas._libs.index.IndexEngine.get_loc\u001B[39m\u001B[34m()\u001B[39m\n",
      "\u001B[36mFile \u001B[39m\u001B[32mpandas/_libs/hashtable_class_helper.pxi:7088\u001B[39m, in \u001B[36mpandas._libs.hashtable.PyObjectHashTable.get_item\u001B[39m\u001B[34m()\u001B[39m\n",
      "\u001B[36mFile \u001B[39m\u001B[32mpandas/_libs/hashtable_class_helper.pxi:7096\u001B[39m, in \u001B[36mpandas._libs.hashtable.PyObjectHashTable.get_item\u001B[39m\u001B[34m()\u001B[39m\n",
      "\u001B[31mKeyError\u001B[39m: 'number_of_review'",
      "\nThe above exception was the direct cause of the following exception:\n",
      "\u001B[31mKeyError\u001B[39m                                  Traceback (most recent call last)",
      "\u001B[36mCell\u001B[39m\u001B[36m \u001B[39m\u001B[32mIn[34]\u001B[39m\u001B[32m, line 1\u001B[39m\n\u001B[32m----> \u001B[39m\u001B[32m1\u001B[39m non_review = df[df[\u001B[33m'\u001B[39m\u001B[33mlast_review\u001B[39m\u001B[33m'\u001B[39m].isna() & \u001B[43mdf\u001B[49m\u001B[43m[\u001B[49m\u001B[33;43m'\u001B[39;49m\u001B[33;43mnumber_of_review\u001B[39;49m\u001B[33;43m'\u001B[39;49m\u001B[43m]\u001B[49m == \u001B[32m0\u001B[39m ]\n\u001B[32m      2\u001B[39m non_review\n",
      "\u001B[36mFile \u001B[39m\u001B[32m~/PycharmProjects/statistics_2/.venv/lib/python3.11/site-packages/pandas/core/frame.py:4107\u001B[39m, in \u001B[36mDataFrame.__getitem__\u001B[39m\u001B[34m(self, key)\u001B[39m\n\u001B[32m   4105\u001B[39m \u001B[38;5;28;01mif\u001B[39;00m \u001B[38;5;28mself\u001B[39m.columns.nlevels > \u001B[32m1\u001B[39m:\n\u001B[32m   4106\u001B[39m     \u001B[38;5;28;01mreturn\u001B[39;00m \u001B[38;5;28mself\u001B[39m._getitem_multilevel(key)\n\u001B[32m-> \u001B[39m\u001B[32m4107\u001B[39m indexer = \u001B[38;5;28;43mself\u001B[39;49m\u001B[43m.\u001B[49m\u001B[43mcolumns\u001B[49m\u001B[43m.\u001B[49m\u001B[43mget_loc\u001B[49m\u001B[43m(\u001B[49m\u001B[43mkey\u001B[49m\u001B[43m)\u001B[49m\n\u001B[32m   4108\u001B[39m \u001B[38;5;28;01mif\u001B[39;00m is_integer(indexer):\n\u001B[32m   4109\u001B[39m     indexer = [indexer]\n",
      "\u001B[36mFile \u001B[39m\u001B[32m~/PycharmProjects/statistics_2/.venv/lib/python3.11/site-packages/pandas/core/indexes/base.py:3819\u001B[39m, in \u001B[36mIndex.get_loc\u001B[39m\u001B[34m(self, key)\u001B[39m\n\u001B[32m   3814\u001B[39m     \u001B[38;5;28;01mif\u001B[39;00m \u001B[38;5;28misinstance\u001B[39m(casted_key, \u001B[38;5;28mslice\u001B[39m) \u001B[38;5;129;01mor\u001B[39;00m (\n\u001B[32m   3815\u001B[39m         \u001B[38;5;28misinstance\u001B[39m(casted_key, abc.Iterable)\n\u001B[32m   3816\u001B[39m         \u001B[38;5;129;01mand\u001B[39;00m \u001B[38;5;28many\u001B[39m(\u001B[38;5;28misinstance\u001B[39m(x, \u001B[38;5;28mslice\u001B[39m) \u001B[38;5;28;01mfor\u001B[39;00m x \u001B[38;5;129;01min\u001B[39;00m casted_key)\n\u001B[32m   3817\u001B[39m     ):\n\u001B[32m   3818\u001B[39m         \u001B[38;5;28;01mraise\u001B[39;00m InvalidIndexError(key)\n\u001B[32m-> \u001B[39m\u001B[32m3819\u001B[39m     \u001B[38;5;28;01mraise\u001B[39;00m \u001B[38;5;167;01mKeyError\u001B[39;00m(key) \u001B[38;5;28;01mfrom\u001B[39;00m\u001B[38;5;250m \u001B[39m\u001B[34;01merr\u001B[39;00m\n\u001B[32m   3820\u001B[39m \u001B[38;5;28;01mexcept\u001B[39;00m \u001B[38;5;167;01mTypeError\u001B[39;00m:\n\u001B[32m   3821\u001B[39m     \u001B[38;5;66;03m# If we have a listlike key, _check_indexing_error will raise\u001B[39;00m\n\u001B[32m   3822\u001B[39m     \u001B[38;5;66;03m#  InvalidIndexError. Otherwise we fall through and re-raise\u001B[39;00m\n\u001B[32m   3823\u001B[39m     \u001B[38;5;66;03m#  the TypeError.\u001B[39;00m\n\u001B[32m   3824\u001B[39m     \u001B[38;5;28mself\u001B[39m._check_indexing_error(key)\n",
      "\u001B[31mKeyError\u001B[39m: 'number_of_review'"
     ]
    }
   ],
   "execution_count": 34
  },
  {
   "metadata": {},
   "cell_type": "code",
   "outputs": [],
   "execution_count": null,
   "source": "",
   "id": "732dc8548ca96d8c"
  }
 ],
 "metadata": {
  "kernelspec": {
   "display_name": "Python 3",
   "language": "python",
   "name": "python3"
  },
  "language_info": {
   "codemirror_mode": {
    "name": "ipython",
    "version": 2
   },
   "file_extension": ".py",
   "mimetype": "text/x-python",
   "name": "python",
   "nbconvert_exporter": "python",
   "pygments_lexer": "ipython2",
   "version": "2.7.6"
  }
 },
 "nbformat": 4,
 "nbformat_minor": 5
}
