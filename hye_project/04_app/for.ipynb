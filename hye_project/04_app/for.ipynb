{
 "cells": [
  {
   "cell_type": "code",
   "id": "initial_id",
   "metadata": {
    "collapsed": true,
    "ExecuteTime": {
     "end_time": "2025-07-22T10:34:47.497019Z",
     "start_time": "2025-07-22T10:34:47.490684Z"
    }
   },
   "source": "import pandas as pd",
   "outputs": [],
   "execution_count": 1
  },
  {
   "metadata": {
    "ExecuteTime": {
     "end_time": "2025-07-22T10:35:03.353276Z",
     "start_time": "2025-07-22T10:35:02.813312Z"
    }
   },
   "cell_type": "code",
   "source": "df = pd.read_csv('/Users/hyeom/Documents/GitHub/advanced_project/hye_project/for_machine_learning_2.csv')",
   "id": "e9f53f71478f6d15",
   "outputs": [],
   "execution_count": 2
  },
  {
   "metadata": {
    "ExecuteTime": {
     "end_time": "2025-07-22T10:35:13.422969Z",
     "start_time": "2025-07-22T10:35:13.410139Z"
    }
   },
   "cell_type": "code",
   "source": "df['price'].describe()",
   "id": "84cff5a837bde303",
   "outputs": [
    {
     "data": {
      "text/plain": [
       "count    20560.000000\n",
       "mean       157.974951\n",
       "std        106.658402\n",
       "min          7.000000\n",
       "25%         80.000000\n",
       "50%        129.000000\n",
       "75%        204.000000\n",
       "max        935.000000\n",
       "Name: price, dtype: float64"
      ]
     },
     "execution_count": 3,
     "metadata": {},
     "output_type": "execute_result"
    }
   ],
   "execution_count": 3
  },
  {
   "metadata": {
    "ExecuteTime": {
     "end_time": "2025-07-22T10:58:10.666758Z",
     "start_time": "2025-07-22T10:58:10.381069Z"
    }
   },
   "cell_type": "code",
   "source": "df_outlier = pd.read_csv('/Users/hyeom/Documents/GitHub/advanced_project/jiwon_project/csv_files/preprocessing_filtered.csv')",
   "id": "636420e50ceb33e7",
   "outputs": [],
   "execution_count": 11
  },
  {
   "metadata": {
    "ExecuteTime": {
     "end_time": "2025-07-22T11:01:25.947775Z",
     "start_time": "2025-07-22T11:01:25.942750Z"
    }
   },
   "cell_type": "code",
   "source": [
    "count_900_up = df.loc[df['price'] >= 900, 'price'].count()\n",
    "\n",
    "count_900_up"
   ],
   "id": "308fc41598471c5f",
   "outputs": [
    {
     "data": {
      "text/plain": [
       "8"
      ]
     },
     "execution_count": 17,
     "metadata": {},
     "output_type": "execute_result"
    }
   ],
   "execution_count": 17
  },
  {
   "metadata": {
    "ExecuteTime": {
     "end_time": "2025-07-22T10:39:43.655415Z",
     "start_time": "2025-07-22T10:39:43.650926Z"
    }
   },
   "cell_type": "code",
   "source": [
    "\n",
    "# 0) feature lists\n",
    "cat_cols    = [\n",
    "    'neigh_cluster_reduced','neighbourhood_group_cleansed',\n",
    "    'room_type_ord','room_new_type_ord','room_structure_type','amen_grp',\n",
    "    'description_length_group', 'name_length_group' # 새로 추가\n",
    "]\n",
    "num_cols    = [\n",
    "    'latitude','longitude','accommodates','bath_score_mul',\n",
    "    'amenities_cnt','review_scores_rating',\n",
    "    'number_of_reviews','number_of_reviews_ltm','region_score_norm',\n",
    "    'host_response_time_score', 'host_response_rate_score'                      # 새로 추가\n",
    "]\n",
    "bin_cols    = [\n",
    "    'instant_bookable','is_long_term','host_is_superhost',\n",
    "    'has_Air_conditioning','has_Wifi',\n",
    "    'has_Bathtub','has_Carbon_monoxide_alarm','has_Elevator',\n",
    "    'neighborhood_overview_exists'                                      # 새로 추가\n",
    "]\n",
    "other_flags = ['grp01_high','grp04_high']\n",
    "features    = cat_cols + num_cols + bin_cols + other_flags"
   ],
   "id": "c6925e3e8c92345b",
   "outputs": [],
   "execution_count": 9
  },
  {
   "metadata": {
    "ExecuteTime": {
     "end_time": "2025-07-22T10:39:44.779750Z",
     "start_time": "2025-07-22T10:39:44.574763Z"
    }
   },
   "cell_type": "code",
   "source": [
    "import numpy as np\n",
    "import pandas as pd\n",
    "import joblib\n",
    "\n",
    "# 1) 모델 로드 (stacking된 최종 모델)\n",
    "model = joblib.load('/Users/hyeom/Documents/GitHub/advanced_project/hye_project/03_MachineLearning/final_ensemble_model_2.pkl')\n",
    "\n",
    "# 2) 로그 스케일 예측\n",
    "pred_log = model.predict(df[features])\n",
    "\n",
    "# 3) 실제 달러 단위로 변환\n",
    "pred_price = np.expm1(pred_log)\n",
    "\n",
    "# 4) 분포 요약 출력\n",
    "print(\"최소 예측가: $\", pred_price.min())\n",
    "print(\"최대 예측가: $\", pred_price.max())\n",
    "print(pd.Series(pred_price).describe())\n"
   ],
   "id": "65bcb4efea672cfd",
   "outputs": [
    {
     "name": "stdout",
     "output_type": "stream",
     "text": [
      "최소 예측가: $ 9.310559245450362\n",
      "최대 예측가: $ 908.5222883798167\n",
      "count    20560.000000\n",
      "mean       153.985506\n",
      "std         96.461188\n",
      "min          9.310559\n",
      "25%         83.935764\n",
      "50%        124.533562\n",
      "75%        214.910902\n",
      "max        908.522288\n",
      "dtype: float64\n"
     ]
    }
   ],
   "execution_count": 10
  },
  {
   "metadata": {
    "ExecuteTime": {
     "end_time": "2025-07-22T12:20:59.226830Z",
     "start_time": "2025-07-22T12:20:59.106438Z"
    }
   },
   "cell_type": "code",
   "source": [
    "from sklearn.metrics import r2_score, mean_squared_error, mean_absolute_error, mean_absolute_percentage_error\n",
    "import numpy as np\n",
    "import pandas as pd\n",
    "\n",
    "# 1) 실제값 설정 (로그 스케일, 달러 스케일)\n",
    "y_true_log   = df['log_price']\n",
    "y_true_price = df['price']\n",
    "\n",
    "# 2) 예측값은 이미 계산된 pred_log, pred_price 사용\n",
    "\n",
    "# 3) 지표 계산\n",
    "r2         = r2_score(y_true_log, pred_log)\n",
    "rmse_log   = np.sqrt(mean_squared_error(y_true_log, pred_log))\n",
    "mae_log    = mean_absolute_error(y_true_log, pred_log)\n",
    "\n",
    "rmse_usd   = np.sqrt(mean_squared_error(y_true_price, pred_price))\n",
    "mae_usd    = mean_absolute_error(y_true_price, pred_price)\n",
    "\n",
    "# MAPE는 sklearn >=0.24에서 제공, 없으면 수동 계산\n",
    "mape       = mean_absolute_percentage_error(y_true_price, pred_price) * 100\n",
    "\n",
    "# 4) 결과 출력\n",
    "print(\"=== Final Ensemble Performance ===\")\n",
    "print(f\"R² (log)   : {r2:.3f}\")\n",
    "print(f\"RMSE (log) : {rmse_log:.3f}\")\n",
    "print(f\"MAE  (log) : {mae_log:.3f}\")\n",
    "print(f\"RMSE ($)   : ${rmse_usd:,.2f}\")\n",
    "print(f\"MAE  ($)   : ${mae_usd:,.2f}\")\n",
    "print(f\"MAPE       : {mape:.1f} %\")"
   ],
   "id": "60ad00fb95edb674",
   "outputs": [
    {
     "name": "stdout",
     "output_type": "stream",
     "text": [
      "=== Final Ensemble Performance ===\n",
      "R² (log)   : 0.899\n",
      "RMSE (log) : 0.204\n",
      "MAE  (log) : 0.148\n",
      "RMSE ($)   : $36.81\n",
      "MAE  ($)   : $23.06\n",
      "MAPE       : 15.1 %\n"
     ]
    }
   ],
   "execution_count": 18
  },
  {
   "metadata": {
    "ExecuteTime": {
     "end_time": "2025-07-22T12:23:16.944350Z",
     "start_time": "2025-07-22T12:23:16.675842Z"
    }
   },
   "cell_type": "code",
   "source": [
    "import numpy as np\n",
    "import pandas as pd\n",
    "import joblib\n",
    "from sklearn.model_selection import train_test_split\n",
    "from sklearn.metrics import (\n",
    "    r2_score,\n",
    "    mean_squared_error,\n",
    "    mean_absolute_error,\n",
    "    mean_absolute_percentage_error\n",
    ")\n",
    "\n",
    "# ── 0) 데이터·특성 준비 ──\n",
    "X = df[features]\n",
    "y_log   = df['log_price']\n",
    "y_price = df['price']\n",
    "\n",
    "# ── 1) 학습/검증 분할 ──\n",
    "X_tr, X_val, y_tr_log, y_val_log, y_tr_price, y_val_price = train_test_split(\n",
    "    X, y_log, y_price,\n",
    "    test_size=0.2,\n",
    "    random_state=42,\n",
    "    shuffle=True\n",
    ")\n",
    "\n",
    "# ── 2) 샘플 크기 출력 ──\n",
    "print(f\"Train samples: {X_tr.shape[0]} rows\")\n",
    "print(f\"Validation samples: {X_val.shape[0]} rows\\n\")\n",
    "\n",
    "# ── 3) 모델 로드 및 예측 ──\n",
    "model = joblib.load(\n",
    "    '/Users/hyeom/Documents/GitHub/advanced_project/'\n",
    "    'hye_project/03_MachineLearning/final_ensemble_model_2.pkl'\n",
    ")\n",
    "pred_tr_log   = model.predict(X_tr)\n",
    "pred_val_log  = model.predict(X_val)\n",
    "pred_tr_price = np.expm1(pred_tr_log)\n",
    "pred_val_price= np.expm1(pred_val_log)\n",
    "\n",
    "# ── 4) 지표 계산 함수 ──\n",
    "def log_metrics(y_true, y_pred):\n",
    "    return (\n",
    "        r2_score(y_true, y_pred),\n",
    "        np.sqrt(mean_squared_error(y_true, y_pred)),\n",
    "        mean_absolute_error(y_true, y_pred)\n",
    "    )\n",
    "\n",
    "def usd_metrics(y_true, y_pred):\n",
    "    return (\n",
    "        np.sqrt(mean_squared_error(y_true, y_pred)),\n",
    "        mean_absolute_error(y_true, y_pred),\n",
    "        mean_absolute_percentage_error(y_true, y_pred) * 100\n",
    "    )\n",
    "\n",
    "# ── 5) 학습/검증 지표 계산 ──\n",
    "r2_tr, rmse_tr_log, mae_tr_log = log_metrics(y_tr_log, pred_tr_log)\n",
    "r2_val, rmse_val_log, mae_val_log = log_metrics(y_val_log, pred_val_log)\n",
    "rmse_tr_usd, mae_tr_usd, mape_tr = usd_metrics(y_tr_price, pred_tr_price)\n",
    "rmse_val_usd, mae_val_usd, mape_val = usd_metrics(y_val_price, pred_val_price)\n",
    "\n",
    "# ── 6) 결과 출력 ──\n",
    "print(\"=== Train Performance ===\")\n",
    "print(f\"R² (log)   : {r2_tr:.3f}\")\n",
    "print(f\"RMSE (log) : {rmse_tr_log:.3f}\")\n",
    "print(f\"MAE  (log) : {mae_tr_log:.3f}\")\n",
    "print(f\"RMSE ($)   : ${rmse_tr_usd:,.2f}\")\n",
    "print(f\"MAE  ($)   : ${mae_tr_usd:,.2f}\")\n",
    "print(f\"MAPE       : {mape_tr:.1f} %\\n\")\n",
    "\n",
    "print(\"=== Validation Performance ===\")\n",
    "print(f\"R² (log)   : {r2_val:.3f}\")\n",
    "print(f\"RMSE (log) : {rmse_val_log:.3f}\")\n",
    "print(f\"MAE  (log) : {mae_val_log:.3f}\")\n",
    "print(f\"RMSE ($)   : ${rmse_val_usd:,.2f}\")\n",
    "print(f\"MAE  ($)   : ${mae_val_usd:,.2f}\")\n",
    "print(f\"MAPE       : {mape_val:.1f} %\\n\")\n",
    "\n",
    "# ── 7) 과적합/과소적합 판단 ──\n",
    "delta_r2   = r2_tr - r2_val\n",
    "delta_rmse = rmse_val_log - rmse_tr_log\n",
    "\n",
    "print(\"=== Over/Underfitting Check ===\")\n",
    "if delta_r2 > 0.1 and delta_rmse > 0.1:\n",
    "    print(\"⚠️ 과적합 가능성이 높습니다.\")\n",
    "elif r2_tr < 0.5 and r2_val < 0.5:\n",
    "    print(\"⚠️ 과소적합 가능성이 있습니다.\")\n",
    "else:\n",
    "    print(\"✅ 일반화 상태가 양호해 보입니다.\")\n",
    "\n"
   ],
   "id": "f2b44eb61c3c16ae",
   "outputs": [
    {
     "name": "stdout",
     "output_type": "stream",
     "text": [
      "Train samples: 16448 rows\n",
      "Validation samples: 4112 rows\n",
      "\n",
      "=== Train Performance ===\n",
      "R² (log)   : 0.900\n",
      "RMSE (log) : 0.203\n",
      "MAE  (log) : 0.148\n",
      "RMSE ($)   : $37.04\n",
      "MAE  ($)   : $23.12\n",
      "MAPE       : 15.1 %\n",
      "\n",
      "=== Validation Performance ===\n",
      "R² (log)   : 0.898\n",
      "RMSE (log) : 0.204\n",
      "MAE  (log) : 0.148\n",
      "RMSE ($)   : $35.84\n",
      "MAE  ($)   : $22.83\n",
      "MAPE       : 15.1 %\n",
      "\n",
      "=== Over/Underfitting Check ===\n",
      "✅ 일반화 상태가 양호해 보입니다.\n"
     ]
    }
   ],
   "execution_count": 21
  },
  {
   "metadata": {
    "ExecuteTime": {
     "end_time": "2025-07-22T12:26:13.525551Z",
     "start_time": "2025-07-22T12:26:13.434215Z"
    }
   },
   "cell_type": "code",
   "source": [
    "model = joblib.load('/Users/hyeom/Documents/GitHub/advanced_project/hye_project/03_MachineLearning/final_ensemble_model_2.pkl')\n",
    "print(\"Original train samples:\", model.n_train_samples)"
   ],
   "id": "eafd020e39d34c29",
   "outputs": [
    {
     "ename": "AttributeError",
     "evalue": "'StackingRegressor' object has no attribute 'n_train_samples'",
     "output_type": "error",
     "traceback": [
      "\u001B[0;31m---------------------------------------------------------------------------\u001B[0m",
      "\u001B[0;31mAttributeError\u001B[0m                            Traceback (most recent call last)",
      "Cell \u001B[0;32mIn[24], line 2\u001B[0m\n\u001B[1;32m      1\u001B[0m model \u001B[38;5;241m=\u001B[39m joblib\u001B[38;5;241m.\u001B[39mload(\u001B[38;5;124m'\u001B[39m\u001B[38;5;124m/Users/hyeom/Documents/GitHub/advanced_project/hye_project/03_MachineLearning/final_ensemble_model_2.pkl\u001B[39m\u001B[38;5;124m'\u001B[39m)\n\u001B[0;32m----> 2\u001B[0m \u001B[38;5;28mprint\u001B[39m(\u001B[38;5;124m\"\u001B[39m\u001B[38;5;124mOriginal train samples:\u001B[39m\u001B[38;5;124m\"\u001B[39m, \u001B[43mmodel\u001B[49m\u001B[38;5;241;43m.\u001B[39;49m\u001B[43mn_train_samples\u001B[49m)\n",
      "\u001B[0;31mAttributeError\u001B[0m: 'StackingRegressor' object has no attribute 'n_train_samples'"
     ]
    }
   ],
   "execution_count": 24
  },
  {
   "metadata": {},
   "cell_type": "code",
   "outputs": [],
   "execution_count": null,
   "source": "",
   "id": "7b2a943ae1cbc4"
  }
 ],
 "metadata": {
  "kernelspec": {
   "display_name": "Python 3",
   "language": "python",
   "name": "python3"
  },
  "language_info": {
   "codemirror_mode": {
    "name": "ipython",
    "version": 2
   },
   "file_extension": ".py",
   "mimetype": "text/x-python",
   "name": "python",
   "nbconvert_exporter": "python",
   "pygments_lexer": "ipython2",
   "version": "2.7.6"
  }
 },
 "nbformat": 4,
 "nbformat_minor": 5
}
