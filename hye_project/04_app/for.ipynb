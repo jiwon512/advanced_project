{
 "cells": [
  {
   "cell_type": "code",
   "id": "initial_id",
   "metadata": {
    "collapsed": true,
    "ExecuteTime": {
     "end_time": "2025-07-22T10:34:47.497019Z",
     "start_time": "2025-07-22T10:34:47.490684Z"
    }
   },
   "source": "import pandas as pd",
   "outputs": [],
   "execution_count": 1
  },
  {
   "metadata": {
    "ExecuteTime": {
     "end_time": "2025-07-22T10:35:03.353276Z",
     "start_time": "2025-07-22T10:35:02.813312Z"
    }
   },
   "cell_type": "code",
   "source": "df = pd.read_csv('/Users/hyeom/Documents/GitHub/advanced_project/hye_project/for_machine_learning_2.csv')",
   "id": "e9f53f71478f6d15",
   "outputs": [],
   "execution_count": 2
  },
  {
   "metadata": {
    "ExecuteTime": {
     "end_time": "2025-07-22T10:35:13.422969Z",
     "start_time": "2025-07-22T10:35:13.410139Z"
    }
   },
   "cell_type": "code",
   "source": "df['price'].describe()",
   "id": "84cff5a837bde303",
   "outputs": [
    {
     "data": {
      "text/plain": [
       "count    20560.000000\n",
       "mean       157.974951\n",
       "std        106.658402\n",
       "min          7.000000\n",
       "25%         80.000000\n",
       "50%        129.000000\n",
       "75%        204.000000\n",
       "max        935.000000\n",
       "Name: price, dtype: float64"
      ]
     },
     "execution_count": 3,
     "metadata": {},
     "output_type": "execute_result"
    }
   ],
   "execution_count": 3
  },
  {
   "metadata": {
    "ExecuteTime": {
     "end_time": "2025-07-22T10:58:10.666758Z",
     "start_time": "2025-07-22T10:58:10.381069Z"
    }
   },
   "cell_type": "code",
   "source": "df_outlier = pd.read_csv('/Users/hyeom/Documents/GitHub/advanced_project/jiwon_project/csv_files/preprocessing_filtered.csv')",
   "id": "636420e50ceb33e7",
   "outputs": [],
   "execution_count": 11
  },
  {
   "metadata": {
    "ExecuteTime": {
     "end_time": "2025-07-22T11:01:25.947775Z",
     "start_time": "2025-07-22T11:01:25.942750Z"
    }
   },
   "cell_type": "code",
   "source": [
    "count_900_up = df.loc[df['price'] >= 900, 'price'].count()\n",
    "\n",
    "count_900_up"
   ],
   "id": "308fc41598471c5f",
   "outputs": [
    {
     "data": {
      "text/plain": [
       "8"
      ]
     },
     "execution_count": 17,
     "metadata": {},
     "output_type": "execute_result"
    }
   ],
   "execution_count": 17
  },
  {
   "metadata": {
    "ExecuteTime": {
     "end_time": "2025-07-22T10:39:43.655415Z",
     "start_time": "2025-07-22T10:39:43.650926Z"
    }
   },
   "cell_type": "code",
   "source": [
    "\n",
    "# 0) feature lists\n",
    "cat_cols    = [\n",
    "    'neigh_cluster_reduced','neighbourhood_group_cleansed',\n",
    "    'room_type_ord','room_new_type_ord','room_structure_type','amen_grp',\n",
    "    'description_length_group', 'name_length_group' # 새로 추가\n",
    "]\n",
    "num_cols    = [\n",
    "    'latitude','longitude','accommodates','bath_score_mul',\n",
    "    'amenities_cnt','review_scores_rating',\n",
    "    'number_of_reviews','number_of_reviews_ltm','region_score_norm',\n",
    "    'host_response_time_score', 'host_response_rate_score'                      # 새로 추가\n",
    "]\n",
    "bin_cols    = [\n",
    "    'instant_bookable','is_long_term','host_is_superhost',\n",
    "    'has_Air_conditioning','has_Wifi',\n",
    "    'has_Bathtub','has_Carbon_monoxide_alarm','has_Elevator',\n",
    "    'neighborhood_overview_exists'                                      # 새로 추가\n",
    "]\n",
    "other_flags = ['grp01_high','grp04_high']\n",
    "features    = cat_cols + num_cols + bin_cols + other_flags"
   ],
   "id": "c6925e3e8c92345b",
   "outputs": [],
   "execution_count": 9
  },
  {
   "metadata": {
    "ExecuteTime": {
     "end_time": "2025-07-22T10:39:44.779750Z",
     "start_time": "2025-07-22T10:39:44.574763Z"
    }
   },
   "cell_type": "code",
   "source": [
    "import numpy as np\n",
    "import pandas as pd\n",
    "import joblib\n",
    "\n",
    "# 1) 모델 로드 (stacking된 최종 모델)\n",
    "model = joblib.load('/Users/hyeom/Documents/GitHub/advanced_project/hye_project/03_MachineLearning/final_ensemble_model_2.pkl')\n",
    "\n",
    "# 2) 로그 스케일 예측\n",
    "pred_log = model.predict(df[features])\n",
    "\n",
    "# 3) 실제 달러 단위로 변환\n",
    "pred_price = np.expm1(pred_log)\n",
    "\n",
    "# 4) 분포 요약 출력\n",
    "print(\"최소 예측가: $\", pred_price.min())\n",
    "print(\"최대 예측가: $\", pred_price.max())\n",
    "print(pd.Series(pred_price).describe())\n"
   ],
   "id": "65bcb4efea672cfd",
   "outputs": [
    {
     "name": "stdout",
     "output_type": "stream",
     "text": [
      "최소 예측가: $ 9.310559245450362\n",
      "최대 예측가: $ 908.5222883798167\n",
      "count    20560.000000\n",
      "mean       153.985506\n",
      "std         96.461188\n",
      "min          9.310559\n",
      "25%         83.935764\n",
      "50%        124.533562\n",
      "75%        214.910902\n",
      "max        908.522288\n",
      "dtype: float64\n"
     ]
    }
   ],
   "execution_count": 10
  },
  {
   "metadata": {},
   "cell_type": "code",
   "outputs": [],
   "execution_count": null,
   "source": "df.",
   "id": "60ad00fb95edb674"
  }
 ],
 "metadata": {
  "kernelspec": {
   "display_name": "Python 3",
   "language": "python",
   "name": "python3"
  },
  "language_info": {
   "codemirror_mode": {
    "name": "ipython",
    "version": 2
   },
   "file_extension": ".py",
   "mimetype": "text/x-python",
   "name": "python",
   "nbconvert_exporter": "python",
   "pygments_lexer": "ipython2",
   "version": "2.7.6"
  }
 },
 "nbformat": 4,
 "nbformat_minor": 5
}
