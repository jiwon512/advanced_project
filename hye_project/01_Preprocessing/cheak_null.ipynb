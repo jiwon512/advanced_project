{
 "cells": [
  {
   "cell_type": "code",
   "id": "initial_id",
   "metadata": {
    "collapsed": true,
    "ExecuteTime": {
     "end_time": "2025-07-18T00:49:47.198071Z",
     "start_time": "2025-07-18T00:49:47.194899Z"
    }
   },
   "source": "import pandas as pd",
   "outputs": [],
   "execution_count": 1
  },
  {
   "metadata": {
    "ExecuteTime": {
     "end_time": "2025-07-18T00:52:37.702313Z",
     "start_time": "2025-07-18T00:52:36.986829Z"
    }
   },
   "cell_type": "code",
   "source": "df = pd.read_csv('/jiwon_project/csv_files/NY_Airbnb_original_df.csv')",
   "id": "6771cac011090c99",
   "outputs": [],
   "execution_count": 5
  },
  {
   "metadata": {
    "ExecuteTime": {
     "end_time": "2025-07-18T00:52:41.318066Z",
     "start_time": "2025-07-18T00:52:41.287649Z"
    }
   },
   "cell_type": "code",
   "source": "df[df['last_review'].isnull() & df['host_since'].isnull()].value_counts()",
   "id": "fc3528ce6b106b9b",
   "outputs": [
    {
     "data": {
      "text/plain": [
       "Series([], Name: count, dtype: int64)"
      ]
     },
     "execution_count": 6,
     "metadata": {},
     "output_type": "execute_result"
    }
   ],
   "execution_count": 6
  },
  {
   "metadata": {
    "ExecuteTime": {
     "end_time": "2025-07-18T00:53:17.446518Z",
     "start_time": "2025-07-18T00:53:17.438280Z"
    }
   },
   "cell_type": "code",
   "source": [
    "mask = df['last_review'].isnull() & df['host_since'].isnull()\n",
    "\n",
    "missing_count = mask.sum()\n",
    "missing_ratio = mask.mean()\n",
    "\n",
    "print(f\"Rows with both missing: {missing_count} ({missing_ratio:.2%} of the data)\")"
   ],
   "id": "c25d0707c14e07b0",
   "outputs": [
    {
     "name": "stdout",
     "output_type": "stream",
     "text": [
      "Rows with both missing: 3 (0.01% of the data)\n"
     ]
    }
   ],
   "execution_count": 7
  },
  {
   "metadata": {
    "ExecuteTime": {
     "end_time": "2025-07-18T00:56:03.903582Z",
     "start_time": "2025-07-18T00:56:03.897481Z"
    }
   },
   "cell_type": "code",
   "source": "df['last_review'].isnull().mean()\n",
   "id": "2085a569c7a0de3c",
   "outputs": [
    {
     "data": {
      "text/plain": [
       "np.float64(0.3047337278106509)"
      ]
     },
     "execution_count": 11,
     "metadata": {},
     "output_type": "execute_result"
    }
   ],
   "execution_count": 11
  },
  {
   "metadata": {},
   "cell_type": "code",
   "outputs": [
    {
     "data": {
      "text/plain": [
       "np.float64(6798.0)"
      ]
     },
     "execution_count": 10,
     "metadata": {},
     "output_type": "execute_result"
    }
   ],
   "execution_count": 10,
   "source": "df['last_review'].isnull().sum()",
   "id": "268a2e44e0ab8263"
  },
  {
   "metadata": {},
   "cell_type": "code",
   "outputs": [
    {
     "data": {
      "text/plain": [
       "np.int64(20)"
      ]
     },
     "execution_count": 9,
     "metadata": {},
     "output_type": "execute_result"
    }
   ],
   "execution_count": 9,
   "source": "df['host_since'].isnull().sum()",
   "id": "d399f4bf620a1ebf"
  },
  {
   "metadata": {
    "ExecuteTime": {
     "end_time": "2025-07-18T01:18:18.055369Z",
     "start_time": "2025-07-18T01:18:17.994922Z"
    }
   },
   "cell_type": "code",
   "source": "df.info()",
   "id": "e9f3c637560a6c6a",
   "outputs": [
    {
     "name": "stdout",
     "output_type": "stream",
     "text": [
      "<class 'pandas.core.frame.DataFrame'>\n",
      "RangeIndex: 22308 entries, 0 to 22307\n",
      "Data columns (total 72 columns):\n",
      " #   Column                                        Non-Null Count  Dtype  \n",
      "---  ------                                        --------------  -----  \n",
      " 0   id                                            22308 non-null  int64  \n",
      " 1   source                                        22308 non-null  object \n",
      " 2   name                                          22308 non-null  object \n",
      " 3   description                                   21903 non-null  object \n",
      " 4   neighborhood_overview                         12262 non-null  object \n",
      " 5   host_id                                       22308 non-null  int64  \n",
      " 6   host_name                                     22288 non-null  object \n",
      " 7   host_since                                    22288 non-null  object \n",
      " 8   host_location                                 17025 non-null  object \n",
      " 9   host_about                                    13391 non-null  object \n",
      " 10  host_response_time                            17915 non-null  object \n",
      " 11  host_response_rate                            17915 non-null  object \n",
      " 12  host_acceptance_rate                          18842 non-null  object \n",
      " 13  host_is_superhost                             21934 non-null  object \n",
      " 14  host_neighbourhood                            17578 non-null  object \n",
      " 15  host_listings_count                           22288 non-null  float64\n",
      " 16  host_total_listings_count                     22288 non-null  float64\n",
      " 17  host_verifications                            22288 non-null  object \n",
      " 18  host_has_profile_pic                          22288 non-null  object \n",
      " 19  host_identity_verified                        22288 non-null  object \n",
      " 20  neighbourhood                                 12262 non-null  object \n",
      " 21  neighbourhood_cleansed                        22308 non-null  object \n",
      " 22  neighbourhood_group_cleansed                  22308 non-null  object \n",
      " 23  latitude                                      22308 non-null  float64\n",
      " 24  longitude                                     22308 non-null  float64\n",
      " 25  property_type                                 22308 non-null  object \n",
      " 26  room_type                                     22308 non-null  object \n",
      " 27  accommodates                                  22308 non-null  int64  \n",
      " 28  bathrooms                                     22302 non-null  float64\n",
      " 29  bathrooms_text                                22294 non-null  object \n",
      " 30  bedrooms                                      22259 non-null  float64\n",
      " 31  beds                                          22229 non-null  float64\n",
      " 32  amenities                                     22308 non-null  object \n",
      " 33  price                                         22308 non-null  object \n",
      " 34  minimum_nights                                22308 non-null  int64  \n",
      " 35  maximum_nights                                22308 non-null  int64  \n",
      " 36  minimum_minimum_nights                        22308 non-null  float64\n",
      " 37  maximum_minimum_nights                        22308 non-null  float64\n",
      " 38  minimum_maximum_nights                        22308 non-null  float64\n",
      " 39  maximum_maximum_nights                        22308 non-null  float64\n",
      " 40  minimum_nights_avg_ntm                        22308 non-null  float64\n",
      " 41  maximum_nights_avg_ntm                        22308 non-null  float64\n",
      " 42  calendar_updated                              0 non-null      float64\n",
      " 43  has_availability                              22062 non-null  object \n",
      " 44  availability_30                               22308 non-null  int64  \n",
      " 45  availability_60                               22308 non-null  int64  \n",
      " 46  availability_90                               22308 non-null  int64  \n",
      " 47  availability_365                              22308 non-null  int64  \n",
      " 48  calendar_last_scraped                         22308 non-null  object \n",
      " 49  number_of_reviews                             22308 non-null  int64  \n",
      " 50  number_of_reviews_ltm                         22308 non-null  int64  \n",
      " 51  number_of_reviews_l30d                        22308 non-null  int64  \n",
      " 52  availability_eoy                              22308 non-null  int64  \n",
      " 53  number_of_reviews_ly                          22308 non-null  int64  \n",
      " 54  estimated_occupancy_l365d                     22308 non-null  int64  \n",
      " 55  estimated_revenue_l365d                       22308 non-null  float64\n",
      " 56  first_review                                  15510 non-null  object \n",
      " 57  last_review                                   15510 non-null  object \n",
      " 58  review_scores_rating                          15510 non-null  float64\n",
      " 59  review_scores_accuracy                        15510 non-null  float64\n",
      " 60  review_scores_cleanliness                     15510 non-null  float64\n",
      " 61  review_scores_checkin                         15510 non-null  float64\n",
      " 62  review_scores_communication                   15510 non-null  float64\n",
      " 63  review_scores_location                        15509 non-null  float64\n",
      " 64  review_scores_value                           15510 non-null  float64\n",
      " 65  license                                       4463 non-null   object \n",
      " 66  instant_bookable                              22308 non-null  object \n",
      " 67  calculated_host_listings_count                22308 non-null  int64  \n",
      " 68  calculated_host_listings_count_entire_homes   22308 non-null  int64  \n",
      " 69  calculated_host_listings_count_private_rooms  22308 non-null  int64  \n",
      " 70  calculated_host_listings_count_shared_rooms   22308 non-null  int64  \n",
      " 71  reviews_per_month                             15510 non-null  float64\n",
      "dtypes: float64(23), int64(19), object(30)\n",
      "memory usage: 12.3+ MB\n"
     ]
    }
   ],
   "execution_count": 13
  },
  {
   "metadata": {},
   "cell_type": "code",
   "outputs": [],
   "execution_count": null,
   "source": "",
   "id": "233498c2fbbe9300"
  }
 ],
 "metadata": {
  "kernelspec": {
   "display_name": "Python 3",
   "language": "python",
   "name": "python3"
  },
  "language_info": {
   "codemirror_mode": {
    "name": "ipython",
    "version": 2
   },
   "file_extension": ".py",
   "mimetype": "text/x-python",
   "name": "python",
   "nbconvert_exporter": "python",
   "pygments_lexer": "ipython2",
   "version": "2.7.6"
  }
 },
 "nbformat": 4,
 "nbformat_minor": 5
}
