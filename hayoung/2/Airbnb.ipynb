{
 "cells": [
  {
   "cell_type": "code",
   "execution_count": 4,
   "id": "969198b9",
   "metadata": {},
   "outputs": [
    {
     "name": "stdout",
     "output_type": "stream",
     "text": [
      "✅ 파이프라인 모델이 'superhost_pipeline_rf.pkl'로 저장되었습니다.\n"
     ]
    }
   ],
   "source": [
    "import pandas as pd\n",
    "import numpy as np\n",
    "import joblib\n",
    "\n",
    "from sklearn.model_selection import train_test_split\n",
    "from sklearn.ensemble import RandomForestClassifier\n",
    "from sklearn.compose import ColumnTransformer\n",
    "from sklearn.preprocessing import OneHotEncoder\n",
    "from sklearn.pipeline import Pipeline\n",
    "\n",
    "# 1. 데이터 준비\n",
    "TARGET = 'host_is_superhost'\n",
    "\n",
    "strategy_cols = [\n",
    "    'amenities_cnt', 'availability_365', 'price', 'host_about_length_group',\n",
    "    'room_type', 'name_length_group', 'description_length_group',\n",
    "    'host_has_profile_pic', 'host_response_time_score', 'type_amenity_score',\n",
    "    'common_amenity_score', 'host_acceptance_rate_score',\n",
    "    'host_identity_verified', 'is_long_term', 'accommodates'\n",
    "]\n",
    "\n",
    "X = df[strategy_cols]\n",
    "y = df[TARGET].astype(int)\n",
    "\n",
    "# 2. 열 타입 분리\n",
    "categorical_cols = X.select_dtypes(include=['object', 'category', 'bool']).columns.tolist()\n",
    "numerical_cols = X.select_dtypes(include=['int64', 'float64']).columns.tolist()\n",
    "\n",
    "# 3. 전처리 파이프라인 구성\n",
    "preprocessor = ColumnTransformer(transformers=[\n",
    "    ('cat', OneHotEncoder(handle_unknown='ignore', drop=None), categorical_cols)\n",
    "], remainder='passthrough')  # 수치형은 그대로 통과\n",
    "\n",
    "# 4. 전체 파이프라인 구성\n",
    "pipeline = Pipeline(steps=[\n",
    "    ('preprocessing', preprocessor),\n",
    "    ('classifier', RandomForestClassifier(\n",
    "        n_estimators=1000,\n",
    "        max_depth=30,\n",
    "        min_samples_split=15,\n",
    "        min_samples_leaf=10,\n",
    "        random_state=42,\n",
    "        class_weight='balanced'\n",
    "    ))\n",
    "])\n",
    "\n",
    "# 5. 학습\n",
    "X_train, X_test, y_train, y_test = train_test_split(\n",
    "    X, y, test_size=0.2, stratify=y, random_state=42\n",
    ")\n",
    "\n",
    "pipeline.fit(X_train, y_train)\n",
    "\n",
    "# 6. 저장\n",
    "joblib.dump(pipeline, 'superhost_pipeline_rf.pkl')\n",
    "print(\"✅ 파이프라인 모델이 'superhost_pipeline_rf.pkl'로 저장되었습니다.\")\n"
   ]
  }
 ],
 "metadata": {
  "kernelspec": {
   "display_name": "Python 3",
   "language": "python",
   "name": "python3"
  },
  "language_info": {
   "codemirror_mode": {
    "name": "ipython",
    "version": 3
   },
   "file_extension": ".py",
   "mimetype": "text/x-python",
   "name": "python",
   "nbconvert_exporter": "python",
   "pygments_lexer": "ipython3",
   "version": "3.13.3"
  }
 },
 "nbformat": 4,
 "nbformat_minor": 5
}
