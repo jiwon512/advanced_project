{
 "cells": [
  {
   "cell_type": "code",
   "execution_count": null,
   "id": "263aa6cb",
   "metadata": {},
   "outputs": [
    {
     "ename": "ImportError",
     "evalue": "Numba needs NumPy 2.2 or less. Got NumPy 2.3.",
     "output_type": "error",
     "traceback": [
      "\u001b[31m---------------------------------------------------------------------------\u001b[39m",
      "\u001b[31mImportError\u001b[39m                               Traceback (most recent call last)",
      "\u001b[36mCell\u001b[39m\u001b[36m \u001b[39m\u001b[32mIn[49]\u001b[39m\u001b[32m, line 4\u001b[39m\n\u001b[32m      2\u001b[39m \u001b[38;5;28;01mimport\u001b[39;00m\u001b[38;5;250m \u001b[39m\u001b[34;01mpingouin\u001b[39;00m\u001b[38;5;250m \u001b[39m\u001b[38;5;28;01mas\u001b[39;00m\u001b[38;5;250m \u001b[39m\u001b[34;01mpg\u001b[39;00m\n\u001b[32m      3\u001b[39m \u001b[38;5;28;01mimport\u001b[39;00m\u001b[38;5;250m \u001b[39m\u001b[34;01mlightgbm\u001b[39;00m\u001b[38;5;250m \u001b[39m\u001b[38;5;28;01mas\u001b[39;00m\u001b[38;5;250m \u001b[39m\u001b[34;01mlgb\u001b[39;00m\n\u001b[32m----> \u001b[39m\u001b[32m4\u001b[39m \u001b[38;5;28;01mimport\u001b[39;00m\u001b[38;5;250m \u001b[39m\u001b[34;01mshap\u001b[39;00m\n\u001b[32m      5\u001b[39m \u001b[38;5;28;01mfrom\u001b[39;00m\u001b[38;5;250m \u001b[39m\u001b[34;01msklearn\u001b[39;00m\u001b[34;01m.\u001b[39;00m\u001b[34;01mmodel_selection\u001b[39;00m\u001b[38;5;250m \u001b[39m\u001b[38;5;28;01mimport\u001b[39;00m train_test_split\n\u001b[32m      6\u001b[39m \u001b[38;5;28;01mfrom\u001b[39;00m\u001b[38;5;250m \u001b[39m\u001b[34;01msklearn\u001b[39;00m\u001b[34;01m.\u001b[39;00m\u001b[34;01mcompose\u001b[39;00m\u001b[38;5;250m \u001b[39m\u001b[38;5;28;01mimport\u001b[39;00m ColumnTransformer\n",
      "\u001b[36mFile \u001b[39m\u001b[32mc:\\Users\\HY\\AppData\\Local\\Programs\\Python\\Python313\\Lib\\site-packages\\shap\\__init__.py:1\u001b[39m\n\u001b[32m----> \u001b[39m\u001b[32m1\u001b[39m \u001b[38;5;28;01mfrom\u001b[39;00m\u001b[38;5;250m \u001b[39m\u001b[34;01m.\u001b[39;00m\u001b[34;01m_explanation\u001b[39;00m\u001b[38;5;250m \u001b[39m\u001b[38;5;28;01mimport\u001b[39;00m Cohorts, Explanation\n\u001b[32m      3\u001b[39m \u001b[38;5;66;03m# explainers\u001b[39;00m\n\u001b[32m      4\u001b[39m \u001b[38;5;28;01mfrom\u001b[39;00m\u001b[38;5;250m \u001b[39m\u001b[34;01m.\u001b[39;00m\u001b[34;01mexplainers\u001b[39;00m\u001b[38;5;250m \u001b[39m\u001b[38;5;28;01mimport\u001b[39;00m other\n",
      "\u001b[36mFile \u001b[39m\u001b[32mc:\\Users\\HY\\AppData\\Local\\Programs\\Python\\Python313\\Lib\\site-packages\\shap\\_explanation.py:16\u001b[39m\n\u001b[32m     13\u001b[39m \u001b[38;5;28;01mimport\u001b[39;00m\u001b[38;5;250m \u001b[39m\u001b[34;01msklearn\u001b[39;00m\n\u001b[32m     14\u001b[39m \u001b[38;5;28;01mfrom\u001b[39;00m\u001b[38;5;250m \u001b[39m\u001b[34;01mslicer\u001b[39;00m\u001b[38;5;250m \u001b[39m\u001b[38;5;28;01mimport\u001b[39;00m Alias, Obj, Slicer\n\u001b[32m---> \u001b[39m\u001b[32m16\u001b[39m \u001b[38;5;28;01mfrom\u001b[39;00m\u001b[38;5;250m \u001b[39m\u001b[34;01m.\u001b[39;00m\u001b[34;01mutils\u001b[39;00m\u001b[34;01m.\u001b[39;00m\u001b[34;01m_clustering\u001b[39;00m\u001b[38;5;250m \u001b[39m\u001b[38;5;28;01mimport\u001b[39;00m hclust_ordering\n\u001b[32m     17\u001b[39m \u001b[38;5;28;01mfrom\u001b[39;00m\u001b[38;5;250m \u001b[39m\u001b[34;01m.\u001b[39;00m\u001b[34;01mutils\u001b[39;00m\u001b[34;01m.\u001b[39;00m\u001b[34;01m_exceptions\u001b[39;00m\u001b[38;5;250m \u001b[39m\u001b[38;5;28;01mimport\u001b[39;00m DimensionError\n\u001b[32m     18\u001b[39m \u001b[38;5;28;01mfrom\u001b[39;00m\u001b[38;5;250m \u001b[39m\u001b[34;01m.\u001b[39;00m\u001b[34;01mutils\u001b[39;00m\u001b[34;01m.\u001b[39;00m\u001b[34;01m_general\u001b[39;00m\u001b[38;5;250m \u001b[39m\u001b[38;5;28;01mimport\u001b[39;00m OpChain\n",
      "\u001b[36mFile \u001b[39m\u001b[32mc:\\Users\\HY\\AppData\\Local\\Programs\\Python\\Python313\\Lib\\site-packages\\shap\\utils\\__init__.py:1\u001b[39m\n\u001b[32m----> \u001b[39m\u001b[32m1\u001b[39m \u001b[38;5;28;01mfrom\u001b[39;00m\u001b[38;5;250m \u001b[39m\u001b[34;01m.\u001b[39;00m\u001b[34;01m_clustering\u001b[39;00m\u001b[38;5;250m \u001b[39m\u001b[38;5;28;01mimport\u001b[39;00m (\n\u001b[32m      2\u001b[39m     delta_minimization_order,\n\u001b[32m      3\u001b[39m     hclust,\n\u001b[32m      4\u001b[39m     hclust_ordering,\n\u001b[32m      5\u001b[39m     partition_tree,\n\u001b[32m      6\u001b[39m     partition_tree_shuffle,\n\u001b[32m      7\u001b[39m )\n\u001b[32m      8\u001b[39m \u001b[38;5;28;01mfrom\u001b[39;00m\u001b[38;5;250m \u001b[39m\u001b[34;01m.\u001b[39;00m\u001b[34;01m_general\u001b[39;00m\u001b[38;5;250m \u001b[39m\u001b[38;5;28;01mimport\u001b[39;00m (\n\u001b[32m      9\u001b[39m     OpChain,\n\u001b[32m     10\u001b[39m     approximate_interactions,\n\u001b[32m   (...)\u001b[39m\u001b[32m     20\u001b[39m     suppress_stderr,\n\u001b[32m     21\u001b[39m )\n\u001b[32m     22\u001b[39m \u001b[38;5;28;01mfrom\u001b[39;00m\u001b[38;5;250m \u001b[39m\u001b[34;01m.\u001b[39;00m\u001b[34;01m_masked_model\u001b[39;00m\u001b[38;5;250m \u001b[39m\u001b[38;5;28;01mimport\u001b[39;00m MaskedModel, make_masks\n",
      "\u001b[36mFile \u001b[39m\u001b[32mc:\\Users\\HY\\AppData\\Local\\Programs\\Python\\Python313\\Lib\\site-packages\\shap\\utils\\_clustering.py:12\u001b[39m\n\u001b[32m     10\u001b[39m \u001b[38;5;28;01mimport\u001b[39;00m\u001b[38;5;250m \u001b[39m\u001b[34;01mscipy\u001b[39;00m\u001b[34;01m.\u001b[39;00m\u001b[34;01mspatial\u001b[39;00m\n\u001b[32m     11\u001b[39m \u001b[38;5;28;01mimport\u001b[39;00m\u001b[38;5;250m \u001b[39m\u001b[34;01msklearn\u001b[39;00m\n\u001b[32m---> \u001b[39m\u001b[32m12\u001b[39m \u001b[38;5;28;01mfrom\u001b[39;00m\u001b[38;5;250m \u001b[39m\u001b[34;01mnumba\u001b[39;00m\u001b[38;5;250m \u001b[39m\u001b[38;5;28;01mimport\u001b[39;00m njit\n\u001b[32m     14\u001b[39m \u001b[38;5;28;01mfrom\u001b[39;00m\u001b[38;5;250m \u001b[39m\u001b[34;01m.\u001b[39;00m\u001b[34;01m.\u001b[39;00m\u001b[34;01mutils\u001b[39;00m\u001b[34;01m.\u001b[39;00m\u001b[34;01m_exceptions\u001b[39;00m\u001b[38;5;250m \u001b[39m\u001b[38;5;28;01mimport\u001b[39;00m DimensionError\n\u001b[32m     15\u001b[39m \u001b[38;5;28;01mfrom\u001b[39;00m\u001b[38;5;250m \u001b[39m\u001b[34;01m.\u001b[39;00m\u001b[34;01m_show_progress\u001b[39;00m\u001b[38;5;250m \u001b[39m\u001b[38;5;28;01mimport\u001b[39;00m show_progress\n",
      "\u001b[36mFile \u001b[39m\u001b[32mc:\\Users\\HY\\AppData\\Local\\Programs\\Python\\Python313\\Lib\\site-packages\\numba\\__init__.py:59\u001b[39m\n\u001b[32m     54\u001b[39m             msg = (\u001b[33m\"\u001b[39m\u001b[33mNumba requires SciPy version 1.0 or greater. Got SciPy \u001b[39m\u001b[33m\"\u001b[39m\n\u001b[32m     55\u001b[39m                    \u001b[33mf\u001b[39m\u001b[33m\"\u001b[39m\u001b[38;5;132;01m{\u001b[39;00mscipy.__version__\u001b[38;5;132;01m}\u001b[39;00m\u001b[33m.\u001b[39m\u001b[33m\"\u001b[39m)\n\u001b[32m     56\u001b[39m             \u001b[38;5;28;01mraise\u001b[39;00m \u001b[38;5;167;01mImportError\u001b[39;00m(msg)\n\u001b[32m---> \u001b[39m\u001b[32m59\u001b[39m \u001b[43m_ensure_critical_deps\u001b[49m\u001b[43m(\u001b[49m\u001b[43m)\u001b[49m\n\u001b[32m     60\u001b[39m \u001b[38;5;66;03m# END DO NOT MOVE\u001b[39;00m\n\u001b[32m     61\u001b[39m \u001b[38;5;66;03m# ---------------------- WARNING WARNING WARNING ----------------------------\u001b[39;00m\n\u001b[32m     64\u001b[39m \u001b[38;5;28;01mfrom\u001b[39;00m\u001b[38;5;250m \u001b[39m\u001b[34;01m.\u001b[39;00m\u001b[34;01m_version\u001b[39;00m\u001b[38;5;250m \u001b[39m\u001b[38;5;28;01mimport\u001b[39;00m get_versions\n",
      "\u001b[36mFile \u001b[39m\u001b[32mc:\\Users\\HY\\AppData\\Local\\Programs\\Python\\Python313\\Lib\\site-packages\\numba\\__init__.py:45\u001b[39m, in \u001b[36m_ensure_critical_deps\u001b[39m\u001b[34m()\u001b[39m\n\u001b[32m     42\u001b[39m \u001b[38;5;28;01mif\u001b[39;00m numpy_version > (\u001b[32m2\u001b[39m, \u001b[32m2\u001b[39m):\n\u001b[32m     43\u001b[39m     msg = (\u001b[33mf\u001b[39m\u001b[33m\"\u001b[39m\u001b[33mNumba needs NumPy 2.2 or less. Got NumPy \u001b[39m\u001b[33m\"\u001b[39m\n\u001b[32m     44\u001b[39m            \u001b[33mf\u001b[39m\u001b[33m\"\u001b[39m\u001b[38;5;132;01m{\u001b[39;00mnumpy_version[\u001b[32m0\u001b[39m]\u001b[38;5;132;01m}\u001b[39;00m\u001b[33m.\u001b[39m\u001b[38;5;132;01m{\u001b[39;00mnumpy_version[\u001b[32m1\u001b[39m]\u001b[38;5;132;01m}\u001b[39;00m\u001b[33m.\u001b[39m\u001b[33m\"\u001b[39m)\n\u001b[32m---> \u001b[39m\u001b[32m45\u001b[39m     \u001b[38;5;28;01mraise\u001b[39;00m \u001b[38;5;167;01mImportError\u001b[39;00m(msg)\n\u001b[32m     47\u001b[39m \u001b[38;5;28;01mtry\u001b[39;00m:\n\u001b[32m     48\u001b[39m     \u001b[38;5;28;01mimport\u001b[39;00m\u001b[38;5;250m \u001b[39m\u001b[34;01mscipy\u001b[39;00m\n",
      "\u001b[31mImportError\u001b[39m: Numba needs NumPy 2.2 or less. Got NumPy 2.3."
     ]
    }
   ],
   "source": [
    "import pandas as pd\n",
    "import pingouin as pg\n",
    "import lightgbm as lgb\n",
    "import shap\n",
    "from sklearn.model_selection import train_test_split\n",
    "from sklearn.compose import ColumnTransformer\n",
    "from sklearn.preprocessing import OneHotEncoder\n",
    "import matplotlib.pyplot as plt\n",
    "\n",
    "\n",
    "plt.rcParams[\"font.family\"] = \"Malgun Gothic\"  \n",
    "\n",
    "df = pd.read_csv(\"preprocessing_filtered.csv\")\n",
    "df"
   ]
  },
  {
   "cell_type": "code",
   "execution_count": 2,
   "id": "626446ba",
   "metadata": {},
   "outputs": [
    {
     "name": "stdout",
     "output_type": "stream",
     "text": [
      "<class 'pandas.core.frame.DataFrame'>\n",
      "RangeIndex: 22308 entries, 0 to 22307\n",
      "Data columns (total 45 columns):\n",
      " #   Column                        Non-Null Count  Dtype  \n",
      "---  ------                        --------------  -----  \n",
      " 0   Unnamed: 0                    22308 non-null  int64  \n",
      " 1   neighbourhood_cleansed        22308 non-null  object \n",
      " 2   neighbourhood_group_cleansed  22308 non-null  object \n",
      " 3   latitude                      22308 non-null  float64\n",
      " 4   longitude                     22308 non-null  float64\n",
      " 5   price                         22308 non-null  float64\n",
      " 6   estimated_occupancy_l365d     22308 non-null  int64  \n",
      " 7   estimated_revenue_l365d       22308 non-null  float64\n",
      " 8   availability_60               22308 non-null  int64  \n",
      " 9   availability_365              22308 non-null  int64  \n",
      " 10  instant_bookable              22308 non-null  int64  \n",
      " 11  is_long_term                  22308 non-null  int64  \n",
      " 12  is_activate                   22308 non-null  int64  \n",
      " 13  amenities                     22308 non-null  object \n",
      " 14  amenities_cnt                 22308 non-null  int64  \n",
      " 15  room_type                     22308 non-null  object \n",
      " 16  structure_type                22308 non-null  object \n",
      " 17  structure_category            22308 non-null  object \n",
      " 18  accommodates                  22308 non-null  int64  \n",
      " 19  bath_score_mul                22308 non-null  float64\n",
      " 20  beds                          22308 non-null  int64  \n",
      " 21  number_of_reviews             22308 non-null  int64  \n",
      " 22  number_of_reviews_ltm         22308 non-null  int64  \n",
      " 23  number_of_reviews_l30d        22308 non-null  int64  \n",
      " 24  review_scores_rating          22308 non-null  float64\n",
      " 25  review_scores_accuracy        22308 non-null  float64\n",
      " 26  review_scores_cleanliness     22308 non-null  float64\n",
      " 27  review_scores_checkin         22308 non-null  float64\n",
      " 28  review_scores_communication   22308 non-null  float64\n",
      " 29  review_scores_location        22308 non-null  float64\n",
      " 30  review_scores_value           22308 non-null  float64\n",
      " 31  id                            22308 non-null  int64  \n",
      " 32  host_id                       22308 non-null  int64  \n",
      " 33  name_length_group             22308 non-null  object \n",
      " 34  description_length_group      22308 non-null  object \n",
      " 35  neighborhood_overview_exists  22308 non-null  int64  \n",
      " 36  host_about_length_group       22308 non-null  object \n",
      " 37  host_is_superhost             22308 non-null  int64  \n",
      " 38  host_has_profile_pic          22308 non-null  int64  \n",
      " 39  host_identity_verified        22308 non-null  int64  \n",
      " 40  host_response_time_score      22308 non-null  float64\n",
      " 41  host_response_rate_score      22308 non-null  int64  \n",
      " 42  host_acceptance_rate_score    22308 non-null  int64  \n",
      " 43  host_location_ny              22308 non-null  int64  \n",
      " 44  host_location_boolean         22308 non-null  int64  \n",
      "dtypes: float64(13), int64(23), object(9)\n",
      "memory usage: 7.7+ MB\n"
     ]
    }
   ],
   "source": [
    "df.info()"
   ]
  },
  {
   "cell_type": "code",
   "execution_count": 4,
   "id": "357567a4",
   "metadata": {},
   "outputs": [
    {
     "data": {
      "text/plain": [
       "Index(['Unnamed: 0', 'neighbourhood_cleansed', 'neighbourhood_group_cleansed',\n",
       "       'latitude', 'longitude', 'price', 'estimated_occupancy_l365d',\n",
       "       'estimated_revenue_l365d', 'availability_60', 'availability_365',\n",
       "       'instant_bookable', 'is_long_term', 'is_activate', 'amenities',\n",
       "       'amenities_cnt', 'room_type', 'structure_type', 'structure_category',\n",
       "       'accommodates', 'bath_score_mul', 'beds', 'number_of_reviews',\n",
       "       'number_of_reviews_ltm', 'number_of_reviews_l30d',\n",
       "       'review_scores_rating', 'review_scores_accuracy',\n",
       "       'review_scores_cleanliness', 'review_scores_checkin',\n",
       "       'review_scores_communication', 'review_scores_location',\n",
       "       'review_scores_value', 'id', 'host_id', 'name_length_group',\n",
       "       'description_length_group', 'neighborhood_overview_exists',\n",
       "       'host_about_length_group', 'host_is_superhost', 'host_has_profile_pic',\n",
       "       'host_identity_verified', 'host_response_time_score',\n",
       "       'host_response_rate_score', 'host_acceptance_rate_score',\n",
       "       'host_location_ny', 'host_location_boolean'],\n",
       "      dtype='object')"
      ]
     },
     "execution_count": 4,
     "metadata": {},
     "output_type": "execute_result"
    }
   ],
   "source": [
    "df.columns"
   ]
  },
  {
   "cell_type": "code",
   "execution_count": 36,
   "id": "aa016c9a",
   "metadata": {},
   "outputs": [
    {
     "name": "stdout",
     "output_type": "stream",
     "text": [
      "Shapiro-Wilk 통계량: 0.2379\n",
      "p-value: 0.0000\n",
      "정규성을 가정할 수 없다\n"
     ]
    }
   ],
   "source": [
    "# price 정규성 검정\n",
    "price_data = df['price'].dropna()\n",
    "\n",
    "stat, p = stats.shapiro(price_data)\n",
    "\n",
    "print(f\"Shapiro-Wilk 통계량: {stat:.4f}\") #실제 데이터가 정규분포에 얼마나 가까운지를 수치화한 값 (0~1 사이)\n",
    "print(f\"p-value: {p:.4f}\")\n",
    "if p > 0.05:\n",
    "    print(\"정규성을 가정할 수 없다\")\n",
    "else:\n",
    "    print(\"정규성을 가정할 수 없다\")"
   ]
  },
  {
   "cell_type": "code",
   "execution_count": 37,
   "id": "120cad17",
   "metadata": {},
   "outputs": [
    {
     "name": "stdout",
     "output_type": "stream",
     "text": [
      "Shapiro-Wilk 통계량: 0.9811\n",
      "p-value: 0.0000\n",
      "로그 변환 후에도 정규성을 가정할 수 없다\n"
     ]
    }
   ],
   "source": [
    "#로그변환 \n",
    "\n",
    "log_price = np.log1p(df['price'].dropna())  # log(1 + price)로 0도 처리 가능\n",
    "stat, p = stats.shapiro(log_price)\n",
    "\n",
    "print(f\"Shapiro-Wilk 통계량: {stat:.4f}\")\n",
    "print(f\"p-value: {p:.4f}\")\n",
    "\n",
    "if p > 0.05:\n",
    "    print(\"로그 변환 후 정규성을 가정할 수 있다\")\n",
    "else:\n",
    "    print(\"로그 변환 후에도 정규성을 가정할 수 없다\")"
   ]
  },
  {
   "cell_type": "code",
   "execution_count": null,
   "id": "a07dbf7d",
   "metadata": {},
   "outputs": [
    {
     "name": "stdout",
     "output_type": "stream",
     "text": [
      "Mann-Whitney U 통계량: 45228149.5000, p-value: 0.0000\n"
     ]
    }
   ],
   "source": [
    "from scipy.stats import mannwhitneyu\n",
    "\n",
    "group1 = df[df['host_is_superhost'] == 1]['price'].dropna()\n",
    "group0 = df[df['host_is_superhost'] == 0]['price'].dropna()\n",
    "\n",
    "stat, p = mannwhitneyu(group1, group0, alternative='two-sided')\n",
    "print(f\"Mann-Whitney U 통계량: {stat:.4f}, p-value: {p:.4f}\")\n",
    "\n",
    "# 슈퍼호스트인지 아닌지 두그룹의 가격 분포에 차이가 있다"
   ]
  },
  {
   "cell_type": "code",
   "execution_count": null,
   "id": "48db46c0",
   "metadata": {},
   "outputs": [
    {
     "name": "stdout",
     "output_type": "stream",
     "text": [
      "슈퍼호스트 중앙값: 129.0\n",
      "일반 호스트 중앙값: 147.0\n"
     ]
    }
   ],
   "source": [
    "superhost_median = df[df['host_is_superhost'] == 1]['price'].median()\n",
    "non_superhost_median = df[df['host_is_superhost'] == 0]['price'].median()\n",
    "\n",
    "print(f\"슈퍼호스트 중앙값: {superhost_median}\")\n",
    "print(f\"일반 호스트 중앙값: {non_superhost_median}\")\n",
    "\n",
    "# 슈퍼호스트 중앙값이 더 낮다. 합리적인 가격이 슈퍼호스트가 되기에 유리하다 "
   ]
  },
  {
   "cell_type": "code",
   "execution_count": null,
   "id": "08ebe372",
   "metadata": {},
   "outputs": [],
   "source": [
    "binary_vars = ['host_identity_verified', 'host_location_boolean', 'host_location_ny',\n",
    "    'neighborhood_overview_exists', 'is_long_term', 'instant_bookable', 'is_activate']\n",
    "continuous_vars = [\n",
    "    'price', 'estimated_occupancy_l365d', 'estimated_revenue_l365d',\n",
    "    'availability_60', 'availability_365', 'amenities_cnt',\n",
    "    'bath_score_mul', 'beds', 'accommodates', 'number_of_reviews',\n",
    "    'number_of_reviews_ltm', 'number_of_reviews_l30d',\n",
    "    'review_scores_rating', 'review_scores_accuracy',\n",
    "    'review_scores_cleanliness', 'review_scores_checkin',\n",
    "    'review_scores_communication', 'review_scores_location',\n",
    "    'review_scores_value', 'host_response_time_score',\n",
    "    'host_response_rate_score', 'host_acceptance_rate_score'\n",
    "]"
   ]
  },
  {
   "cell_type": "code",
   "execution_count": 46,
   "id": "e36631f4",
   "metadata": {},
   "outputs": [
    {
     "ename": "NameError",
     "evalue": "name 'continuous_vars' is not defined",
     "output_type": "error",
     "traceback": [
      "\u001b[31m---------------------------------------------------------------------------\u001b[39m",
      "\u001b[31mNameError\u001b[39m                                 Traceback (most recent call last)",
      "\u001b[36mCell\u001b[39m\u001b[36m \u001b[39m\u001b[32mIn[46]\u001b[39m\u001b[32m, line 9\u001b[39m\n\u001b[32m      6\u001b[39m results = []\n\u001b[32m      8\u001b[39m \u001b[38;5;66;03m# 1. 수치형 변수 분석\u001b[39;00m\n\u001b[32m----> \u001b[39m\u001b[32m9\u001b[39m \u001b[38;5;28;01mfor\u001b[39;00m col \u001b[38;5;129;01min\u001b[39;00m \u001b[43mcontinuous_vars\u001b[49m:\n\u001b[32m     10\u001b[39m     group1 = data[data[\u001b[33m'\u001b[39m\u001b[33mhost_is_superhost\u001b[39m\u001b[33m'\u001b[39m] == \u001b[32m1\u001b[39m][col].dropna()\n\u001b[32m     11\u001b[39m     group0 = data[data[\u001b[33m'\u001b[39m\u001b[33mhost_is_superhost\u001b[39m\u001b[33m'\u001b[39m] == \u001b[32m0\u001b[39m][col].dropna()\n",
      "\u001b[31mNameError\u001b[39m: name 'continuous_vars' is not defined"
     ]
    }
   ],
   "source": [
    "from scipy import stats\n",
    "import pandas as pd\n",
    "import numpy as np\n",
    "\n",
    "# 결과 저장용 리스트\n",
    "results = []\n",
    "\n",
    "# 1. 수치형 변수 분석\n",
    "for col in continuous_vars:\n",
    "    group1 = data[data['host_is_superhost'] == 1][col].dropna()\n",
    "    group0 = data[data['host_is_superhost'] == 0][col].dropna()\n",
    "\n",
    "    # 정규성 검정 (Shapiro)\n",
    "    p_norm1 = stats.shapiro(group1)[1] if len(group1) < 5000 else np.nan  # 샘플 수가 5000 이상이면 오류\n",
    "    p_norm0 = stats.shapiro(group0)[1] if len(group0) < 5000 else np.nan\n",
    "\n",
    "    # 둘 다 정규 → t-test, 아니면 Mann-Whitney\n",
    "    if (p_norm1 > 0.05) and (p_norm0 > 0.05):\n",
    "        stat, p_val = stats.ttest_ind(group1, group0)\n",
    "        test_type = 't-test'\n",
    "    else:\n",
    "        stat, p_val = stats.mannwhitneyu(group1, group0, alternative='two-sided')\n",
    "        test_type = 'Mann-Whitney'\n",
    "\n",
    "    results.append({\n",
    "        '변수': col,\n",
    "        '유형': '수치형',\n",
    "        '정규성_p(슈퍼호스트)': round(p_norm1, 4) if not np.isnan(p_norm1) else 'n/a',\n",
    "        '정규성_p(일반호스트)': round(p_norm0, 4) if not np.isnan(p_norm0) else 'n/a',\n",
    "        '검정 방법': test_type,\n",
    "        'p-value': round(p_val, 4),\n",
    "        '해석': '✅ 유의미한 차이' if p_val < 0.05 else '❌ 차이 없음'\n",
    "    })\n",
    "\n",
    "# 2. 이진형 변수 → 카이제곱\n",
    "for col in binary_vars:\n",
    "    contingency = pd.crosstab(data[col], data['host_is_superhost'])\n",
    "    chi2, p_val, dof, ex = stats.chi2_contingency(contingency)\n",
    "\n",
    "    results.append({\n",
    "        '변수': col,\n",
    "        '유형': '이진형',\n",
    "        '정규성_p(슈퍼호스트)': '-',\n",
    "        '정규성_p(일반호스트)': '-',\n",
    "        '검정 방법': 'Chi-square',\n",
    "        'p-value': round(p_val, 4),\n",
    "        '해석': '✅ 유의미한 관계' if p_val < 0.05 else '❌ 관계 없음'\n",
    "    })\n",
    "\n",
    "# 결과를 데이터프레임으로 정리\n",
    "results_df = pd.DataFrame(results)\n",
    "results_df.sort_values('p-value', inplace=True)\n",
    "results_df.reset_index(drop=True, inplace=True)\n",
    "results_df.head(10)  # 상위 10개만 보기\n"
   ]
  },
  {
   "cell_type": "code",
   "execution_count": null,
   "id": "d2913886",
   "metadata": {},
   "outputs": [],
   "source": [
    "sig_num  = t_df[t_df.p < 0.05]['variable'].tolist()\n",
    "sig_cat  = chi_df[chi_df.p < 0.05]['variable'].tolist()\n",
    "sig_vars = sig_num + sig_cat\n",
    "print(\"유의미한 변수:\", sig_vars)"
   ]
  },
  {
   "cell_type": "code",
   "execution_count": null,
   "id": "f485fd60",
   "metadata": {},
   "outputs": [],
   "source": [
    "from sklearn.compose import ColumnTransformer\n",
    "from sklearn.preprocessing import OneHotEncoder\n",
    "from sklearn.pipeline import Pipeline\n",
    "\n",
    "X = df[sig_vars + [TARGET]].copy()\n",
    "y = X.pop(TARGET).astype(int)\n",
    "\n",
    "cat_cols = X.select_dtypes(include=['object','category','bool']).columns\n",
    "num_cols = X.select_dtypes(include=['int64','float64']).columns\n",
    "\n",
    "preprocessor = ColumnTransformer([\n",
    "    ('num', 'passthrough', num_cols),\n",
    "    ('cat', OneHotEncoder(handle_unknown='ignore'), cat_cols)\n",
    "])\n",
    "\n",
    "X_enc = preprocessor.fit_transform(X)\n",
    "print(\"변환 후 변수 개수:\", X_enc.shape[1])\n"
   ]
  },
  {
   "cell_type": "code",
   "execution_count": null,
   "id": "6069c6bb",
   "metadata": {},
   "outputs": [],
   "source": []
  },
  {
   "cell_type": "code",
   "execution_count": null,
   "id": "d0d35181",
   "metadata": {},
   "outputs": [],
   "source": [
    "strategy_vars = [\n",
    "    'host_has_profile_pic', 'host_identity_verified',\n",
    "    'host_response_time_score', 'host_response_rate_score', 'host_acceptance_rate_score',\n",
    "    'is_activate', 'instant_bookable', 'amenities_cnt',\n",
    "    'name_length_group', 'description_length_group', 'neighborhood_overview_exists',\n",
    "    'room_type', 'structure_type', 'structure_category',\n",
    "    'accommodates', 'beds', 'bath_score_mul'\n",
    "]\n",
    "strategy_vars = [c for c in strategy_vars if c in df.columns]\n",
    "\n",
    "Xs = df[strategy_vars + [TARGET]].copy()\n",
    "ys = Xs.pop(TARGET).astype(int)\n",
    "\n",
    "cat_s = Xs.select_dtypes(include=['object','category','bool']).columns\n",
    "num_s = Xs.select_dtypes(include=['int64','float64']).columns\n",
    "\n",
    "prep_s = ColumnTransformer([\n",
    "    ('num', 'passthrough', num_s),\n",
    "    ('cat', OneHotEncoder(handle_unknown='ignore'), cat_s)\n",
    "])\n",
    "\n",
    "Xs_enc = prep_s.fit_transform(Xs)\n",
    "\n",
    "X_tr, X_te, y_tr, y_te = train_test_split(\n",
    "    Xs_enc, ys, test_size=0.2, random_state=42, stratify=ys)\n",
    "\n",
    "clf_s = lgb.LGBMClassifier(\n",
    "    n_estimators=300, learning_rate=0.05, class_weight='balanced', random_state=42)\n",
    "clf_s.fit(X_tr, y_tr,\n",
    "          eval_set=[(X_te, y_te)],\n",
    "          early_stopping_rounds=50,\n",
    "          verbose=False)\n",
    "\n",
    "print(\"=== 전략 모델 성능 ===\")\n",
    "print(classification_report(y_te, clf_s.predict(X_te)))\n",
    "\n",
    "explainer_s = shap.TreeExplainer(clf_s)\n",
    "shap_values_s = explainer_s.shap_values(X_te)\n",
    "shap.summary_plot(shap_values_s, X_te, feature_names=prep_s.get_feature_names_out())"
   ]
  }
 ],
 "metadata": {
  "kernelspec": {
   "display_name": "Python 3",
   "language": "python",
   "name": "python3"
  },
  "language_info": {
   "codemirror_mode": {
    "name": "ipython",
    "version": 3
   },
   "file_extension": ".py",
   "mimetype": "text/x-python",
   "name": "python",
   "nbconvert_exporter": "python",
   "pygments_lexer": "ipython3",
   "version": "3.13.3"
  }
 },
 "nbformat": 4,
 "nbformat_minor": 5
}
