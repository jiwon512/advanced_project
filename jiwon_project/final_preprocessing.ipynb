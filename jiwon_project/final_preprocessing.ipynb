{
 "cells": [
  {
   "cell_type": "code",
   "execution_count": null,
   "id": "2005d863",
   "metadata": {},
   "outputs": [],
   "source": [
    "import pandas as pd\n",
    "import pandas as pd\n",
    "import ast\n",
    "from sklearn.preprocessing import MultiLabelBinarizer\n",
    "from sklearn.cluster import KMeans\n",
    "from sklearn.decomposition import PCA\n",
    "import matplotlib.pyplot as plt"
   ]
  },
  {
   "cell_type": "code",
   "execution_count": null,
   "id": "2d848dd9",
   "metadata": {},
   "outputs": [],
   "source": [
    "df = pd.read_csv('/Users/Jiwon/Desktop/2025_Airbnb_NYC_listings.csv', index_col=0)"
   ]
  },
  {
   "cell_type": "code",
   "execution_count": null,
   "id": "f8d74c7f",
   "metadata": {},
   "outputs": [],
   "source": [
    "# list 정리\n",
    "loc_cols = ['neighbourhood_cleansed', 'neighbourhood_group_cleansed', 'latitude', 'longitude']\n",
    "booking_cols = ['price', 'estimated_occupancy_l365d', 'estimated_revenue_l365d', 'availability_60', 'availability_365', 'minimum_nights', 'maximum_nights', 'instant_bookable', 'is_long_term']\n",
    "amenities_cols = ['amenities', 'amenities_cnt']"
   ]
  },
  {
   "cell_type": "code",
   "execution_count": null,
   "id": "56c45fe4",
   "metadata": {},
   "outputs": [],
   "source": [
    "# 전처리 1 - id int로 변경\n",
    "df['id'] = df['id'].astype(int)\n",
    "\n",
    "\n",
    "\n",
    "# booking_info\n",
    "df['price'] = df['price'].replace('[\\$,]', '', regex=True).astype(float)\n",
    "df['instant_bookable'] =  df['instant_bookable'].map({'f':0, 't':1})\n",
    "df['is_long_term'] = (df['minimum_nights'] >= 28).astype(int)\n",
    "\n",
    "# amenities_info\n",
    "def parse_amenities(x):\n",
    "    try:\n",
    "        return [a.strip().strip('\"').strip(\"'\") for a in ast.literal_eval(x)]\n",
    "    except:\n",
    "        return []\n",
    "    \n",
    "df['amenities'] = df['amenities'].apply(parse_amenities)\n",
    "df['amenities_cnt'] = df['amenities'].apply(len)"
   ]
  }
 ],
 "metadata": {
  "kernelspec": {
   "display_name": "venv",
   "language": "python",
   "name": "python3"
  },
  "language_info": {
   "codemirror_mode": {
    "name": "ipython",
    "version": 3
   },
   "file_extension": ".py",
   "mimetype": "text/x-python",
   "name": "python",
   "nbconvert_exporter": "python",
   "pygments_lexer": "ipython3",
   "version": "3.11.9"
  }
 },
 "nbformat": 4,
 "nbformat_minor": 5
}
