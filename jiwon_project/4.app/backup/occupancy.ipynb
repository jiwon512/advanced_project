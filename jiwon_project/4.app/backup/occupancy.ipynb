{
 "cells": [
  {
   "cell_type": "code",
   "execution_count": 1,
   "id": "aa717c1c",
   "metadata": {},
   "outputs": [],
   "source": [
    "import pandas as pd"
   ]
  },
  {
   "cell_type": "code",
   "execution_count": 3,
   "id": "d1433658",
   "metadata": {},
   "outputs": [],
   "source": [
    "df = pd.read_csv('/Users/Jiwon/Documents/GitHub/advanced_project/jiwon_project/presentation/jiwon_entire.csv')"
   ]
  },
  {
   "cell_type": "code",
   "execution_count": 4,
   "id": "69660812",
   "metadata": {},
   "outputs": [],
   "source": [
    "occ_cols = [\n",
    " 'host_is_superhost',\n",
    " 'host_total_listings_count',\n",
    " 'host_has_profile_pic',\n",
    " 'accommodates',\n",
    " 'beds',\n",
    " 'availability_365',\n",
    " 'is_long_term',\n",
    " 'amenities_cnt',\n",
    " 'neighborhood_overview_exists',\n",
    " 'name_length_group',\n",
    " 'description_length_group',\n",
    " 'host_about_length_group',\n",
    " 'host_location_ny',\n",
    " 'is_private',\n",
    " 'bath_score_mul',\n",
    " 'is_activate',\n",
    " 'log_price',\n",
    " 'room_new_type_encoded',\n",
    " 'neighbourhood_cluster',\n",
    " 'poi_pca',\n",
    " 'host_response_pca',\n",
    " 'host_verifications_count',\n",
    " 'score_info_pca'\n",
    "]"
   ]
  },
  {
   "cell_type": "code",
   "execution_count": 5,
   "id": "2fd9bafb",
   "metadata": {},
   "outputs": [
    {
     "name": "stdout",
     "output_type": "stream",
     "text": [
      "✔ Best RF params: {'n_estimators': 500, 'min_samples_split': 2, 'min_samples_leaf': 2, 'max_depth': None}\n",
      "✔ Best XGB params: {'subsample': 0.6, 'n_estimators': 500, 'max_depth': 7, 'learning_rate': 0.01, 'colsample_bytree': 0.6}\n",
      "RF tuned  RMSE=54.21, MAE=33.94, R2 Score=0.69\n",
      "XGB tuned RMSE=53.96, MAE=36.15, R2 Score=0.69\n",
      "Voting   RMSE=53.49, MAE=34.84, R2 Score=0.70\n",
      "Stacking RMSE=53.37, MAE=35.05, R2 Score=0.70\n",
      "0.6905753787419611 0.6934796571731567 0.6987541219695468 0.7001504727600713\n"
     ]
    }
   ],
   "source": [
    "# estimated_occupancy_l365d\n",
    "\n",
    "import pandas as pd\n",
    "import numpy as np\n",
    "\n",
    "from sklearn.model_selection import train_test_split, RandomizedSearchCV\n",
    "from sklearn.ensemble import RandomForestRegressor, VotingRegressor, StackingRegressor\n",
    "from sklearn.linear_model import RidgeCV\n",
    "from xgboost import XGBRegressor\n",
    "from sklearn.metrics import root_mean_squared_error, mean_absolute_error, r2_score\n",
    "\n",
    "# 1) 데이터 불러오기 & 피처/타깃 설정\n",
    "TARGET = \"estimated_occupancy_l365d\"\n",
    "features = occ_cols\n",
    "\n",
    "X = df[features].fillna(0)\n",
    "y = df[TARGET]\n",
    "\n",
    "# 2) 학습/검증 분리\n",
    "X_train, X_test, y_train, y_test = train_test_split(\n",
    "    X, y, test_size=0.2, random_state=42\n",
    ")\n",
    "\n",
    "# 3) 하이퍼파라미터 분포 설정\n",
    "rf = RandomForestRegressor(random_state=42)\n",
    "rf_params = {\n",
    "    \"n_estimators\": [100, 200, 500],\n",
    "    \"max_depth\": [None, 5, 10, 20],\n",
    "    \"min_samples_split\": [2, 5, 10],\n",
    "    \"min_samples_leaf\": [1, 2, 4]\n",
    "}\n",
    "\n",
    "xgb = XGBRegressor(objective=\"reg:squarederror\", random_state=42)\n",
    "xgb_params = {\n",
    "    \"n_estimators\": [100, 200, 500],\n",
    "    \"learning_rate\": [0.01, 0.05, 0.1],\n",
    "    \"max_depth\": [3, 5, 7],\n",
    "    \"subsample\": [0.6, 0.8, 1.0],\n",
    "    \"colsample_bytree\": [0.6, 0.8, 1.0]\n",
    "}\n",
    "\n",
    "# 4) RandomizedSearchCV\n",
    "rf_search = RandomizedSearchCV(\n",
    "    rf, rf_params, n_iter=20, cv=3, scoring=\"neg_mean_squared_error\", random_state=42, n_jobs=-1\n",
    ")\n",
    "rf_search.fit(X_train, y_train)\n",
    "best_rf = rf_search.best_estimator_\n",
    "\n",
    "xgb_search = RandomizedSearchCV(\n",
    "    xgb, xgb_params, n_iter=20, cv=3, scoring=\"neg_mean_squared_error\", random_state=42, n_jobs=-1\n",
    ")\n",
    "xgb_search.fit(X_train, y_train)\n",
    "best_xgb = xgb_search.best_estimator_\n",
    "\n",
    "print(\"✔ Best RF params:\", rf_search.best_params_)\n",
    "print(\"✔ Best XGB params:\", xgb_search.best_params_)\n",
    "\n",
    "# 5) 검증 성능 (튜닝 후)\n",
    "def eval_model(model, X_t, y_t):\n",
    "    y_pred = model.predict(X_t)\n",
    "    return root_mean_squared_error(y_t, y_pred), mean_absolute_error(y_t, y_pred), r2_score(y_t, y_pred)\n",
    "\n",
    "rf_rmse, rf_mae, rf_r2 = eval_model(best_rf, X_test, y_test)\n",
    "xgb_rmse, xgb_mae, xgb_r2 = eval_model(best_xgb, X_test, y_test)\n",
    "print(f\"RF tuned  RMSE={rf_rmse:.2f}, MAE={rf_mae:.2f}, R2 Score={rf_r2:.2f}\")\n",
    "print(f\"XGB tuned RMSE={xgb_rmse:.2f}, MAE={xgb_mae:.2f}, R2 Score={xgb_r2:.2f}\")\n",
    "\n",
    "# 6) Ensemble: Voting Regressor\n",
    "voting = VotingRegressor([(\"rf\", best_rf), (\"xgb\", best_xgb)])\n",
    "voting.fit(X_train, y_train)\n",
    "v_rmse, v_mae, v_r2 = eval_model(voting, X_test, y_test)\n",
    "print(f\"Voting   RMSE={v_rmse:.2f}, MAE={v_mae:.2f}, R2 Score={v_r2:.2f}\")\n",
    "\n",
    "# 7) Ensemble: Stacking Regressor\n",
    "stack = StackingRegressor(\n",
    "    estimators=[(\"rf\", best_rf), (\"xgb\", best_xgb)],\n",
    "    final_estimator=RidgeCV(),\n",
    "    cv=3,\n",
    "    n_jobs=-1\n",
    ")\n",
    "stack.fit(X_train, y_train)\n",
    "s_rmse, s_mae, s_r2 = eval_model(stack, X_test, y_test)\n",
    "print(f\"Stacking RMSE={s_rmse:.2f}, MAE={s_mae:.2f}, R2 Score={s_r2:.2f}\")\n",
    "\n",
    "print(rf_r2, xgb_r2, v_r2, s_r2)"
   ]
  },
  {
   "cell_type": "code",
   "execution_count": 6,
   "id": "2409dfac",
   "metadata": {},
   "outputs": [
    {
     "data": {
      "text/plain": [
       "['occupancy_voting_model.pkl']"
      ]
     },
     "execution_count": 6,
     "metadata": {},
     "output_type": "execute_result"
    }
   ],
   "source": [
    "import joblib\n",
    "joblib.dump(voting, \"occupancy_voting_model.pkl\")"
   ]
  },
  {
   "cell_type": "code",
   "execution_count": null,
   "id": "0f2c7abf",
   "metadata": {},
   "outputs": [],
   "source": []
  }
 ],
 "metadata": {
  "kernelspec": {
   "display_name": "venv",
   "language": "python",
   "name": "python3"
  },
  "language_info": {
   "codemirror_mode": {
    "name": "ipython",
    "version": 3
   },
   "file_extension": ".py",
   "mimetype": "text/x-python",
   "name": "python",
   "nbconvert_exporter": "python",
   "pygments_lexer": "ipython3",
   "version": "3.11.9"
  }
 },
 "nbformat": 4,
 "nbformat_minor": 5
}
