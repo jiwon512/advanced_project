{
 "cells": [
  {
   "cell_type": "code",
   "execution_count": null,
   "id": "5a5e9d54",
   "metadata": {},
   "outputs": [],
   "source": [
    "aaaaaa"
   ]
  }
 ],
 "metadata": {
  "language_info": {
   "name": "python"
  }
 },
 "nbformat": 4,
 "nbformat_minor": 5
}
