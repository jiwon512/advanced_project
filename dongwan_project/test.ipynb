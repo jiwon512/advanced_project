{
 "cells": [
  {
   "cell_type": "code",
   "execution_count": 2,
   "id": "bd70127e",
   "metadata": {},
   "outputs": [],
   "source": [
    "import pandas as pd\n",
    "import pandas as pd\n",
    "import numpy as np\n",
    "import ast\n",
    "from sklearn.preprocessing import MultiLabelBinarizer\n",
    "from sklearn.cluster import KMeans\n",
    "from sklearn.decomposition import PCA\n",
    "import matplotlib.pyplot as plt\n",
    "import re"
   ]
  },
  {
   "cell_type": "code",
   "execution_count": 3,
   "id": "489c3932",
   "metadata": {},
   "outputs": [],
   "source": [
    "df = pd.read_csv('/Users/com/Documents/GitHub/advanced_project/jiwon_project/csv_files/NY_Airbnb_original_df.csv')"
   ]
  },
  {
   "cell_type": "code",
   "execution_count": 4,
   "id": "e7e76765",
   "metadata": {},
   "outputs": [],
   "source": [
    "# 전처리 1 - id int로 변경\n",
    "df['id'] = df['id'].astype(int)"
   ]
  },
  {
   "cell_type": "code",
   "execution_count": 5,
   "id": "faa7a125",
   "metadata": {},
   "outputs": [
    {
     "name": "stdout",
     "output_type": "stream",
     "text": [
      "<class 'pandas.core.frame.DataFrame'>\n",
      "RangeIndex: 22308 entries, 0 to 22307\n",
      "Data columns (total 72 columns):\n",
      " #   Column                                        Non-Null Count  Dtype  \n",
      "---  ------                                        --------------  -----  \n",
      " 0   id                                            22308 non-null  int64  \n",
      " 1   source                                        22308 non-null  object \n",
      " 2   name                                          22308 non-null  object \n",
      " 3   description                                   21903 non-null  object \n",
      " 4   neighborhood_overview                         12262 non-null  object \n",
      " 5   host_id                                       22308 non-null  int64  \n",
      " 6   host_name                                     22288 non-null  object \n",
      " 7   host_since                                    22288 non-null  object \n",
      " 8   host_location                                 17025 non-null  object \n",
      " 9   host_about                                    13391 non-null  object \n",
      " 10  host_response_time                            17915 non-null  object \n",
      " 11  host_response_rate                            17915 non-null  object \n",
      " 12  host_acceptance_rate                          18842 non-null  object \n",
      " 13  host_is_superhost                             21934 non-null  object \n",
      " 14  host_neighbourhood                            17578 non-null  object \n",
      " 15  host_listings_count                           22288 non-null  float64\n",
      " 16  host_total_listings_count                     22288 non-null  float64\n",
      " 17  host_verifications                            22288 non-null  object \n",
      " 18  host_has_profile_pic                          22288 non-null  object \n",
      " 19  host_identity_verified                        22288 non-null  object \n",
      " 20  neighbourhood                                 12262 non-null  object \n",
      " 21  neighbourhood_cleansed                        22308 non-null  object \n",
      " 22  neighbourhood_group_cleansed                  22308 non-null  object \n",
      " 23  latitude                                      22308 non-null  float64\n",
      " 24  longitude                                     22308 non-null  float64\n",
      " 25  property_type                                 22308 non-null  object \n",
      " 26  room_type                                     22308 non-null  object \n",
      " 27  accommodates                                  22308 non-null  int64  \n",
      " 28  bathrooms                                     22302 non-null  float64\n",
      " 29  bathrooms_text                                22294 non-null  object \n",
      " 30  bedrooms                                      22259 non-null  float64\n",
      " 31  beds                                          22229 non-null  float64\n",
      " 32  amenities                                     22308 non-null  object \n",
      " 33  price                                         22308 non-null  object \n",
      " 34  minimum_nights                                22308 non-null  int64  \n",
      " 35  maximum_nights                                22308 non-null  int64  \n",
      " 36  minimum_minimum_nights                        22308 non-null  float64\n",
      " 37  maximum_minimum_nights                        22308 non-null  float64\n",
      " 38  minimum_maximum_nights                        22308 non-null  float64\n",
      " 39  maximum_maximum_nights                        22308 non-null  float64\n",
      " 40  minimum_nights_avg_ntm                        22308 non-null  float64\n",
      " 41  maximum_nights_avg_ntm                        22308 non-null  float64\n",
      " 42  calendar_updated                              0 non-null      float64\n",
      " 43  has_availability                              22062 non-null  object \n",
      " 44  availability_30                               22308 non-null  int64  \n",
      " 45  availability_60                               22308 non-null  int64  \n",
      " 46  availability_90                               22308 non-null  int64  \n",
      " 47  availability_365                              22308 non-null  int64  \n",
      " 48  calendar_last_scraped                         22308 non-null  object \n",
      " 49  number_of_reviews                             22308 non-null  int64  \n",
      " 50  number_of_reviews_ltm                         22308 non-null  int64  \n",
      " 51  number_of_reviews_l30d                        22308 non-null  int64  \n",
      " 52  availability_eoy                              22308 non-null  int64  \n",
      " 53  number_of_reviews_ly                          22308 non-null  int64  \n",
      " 54  estimated_occupancy_l365d                     22308 non-null  int64  \n",
      " 55  estimated_revenue_l365d                       22308 non-null  float64\n",
      " 56  first_review                                  15510 non-null  object \n",
      " 57  last_review                                   15510 non-null  object \n",
      " 58  review_scores_rating                          15510 non-null  float64\n",
      " 59  review_scores_accuracy                        15510 non-null  float64\n",
      " 60  review_scores_cleanliness                     15510 non-null  float64\n",
      " 61  review_scores_checkin                         15510 non-null  float64\n",
      " 62  review_scores_communication                   15510 non-null  float64\n",
      " 63  review_scores_location                        15509 non-null  float64\n",
      " 64  review_scores_value                           15510 non-null  float64\n",
      " 65  license                                       4463 non-null   object \n",
      " 66  instant_bookable                              22308 non-null  object \n",
      " 67  calculated_host_listings_count                22308 non-null  int64  \n",
      " 68  calculated_host_listings_count_entire_homes   22308 non-null  int64  \n",
      " 69  calculated_host_listings_count_private_rooms  22308 non-null  int64  \n",
      " 70  calculated_host_listings_count_shared_rooms   22308 non-null  int64  \n",
      " 71  reviews_per_month                             15510 non-null  float64\n",
      "dtypes: float64(23), int64(19), object(30)\n",
      "memory usage: 12.3+ MB\n"
     ]
    }
   ],
   "source": [
    "df.info()"
   ]
  },
  {
   "cell_type": "code",
   "execution_count": 6,
   "id": "5e424fb6",
   "metadata": {},
   "outputs": [
    {
     "name": "stderr",
     "output_type": "stream",
     "text": [
      "<>:2: SyntaxWarning: invalid escape sequence '\\$'\n",
      "<>:2: SyntaxWarning: invalid escape sequence '\\$'\n",
      "C:\\Users\\Public\\Documents\\ESTsoft\\CreatorTemp\\ipykernel_12444\\965363162.py:2: SyntaxWarning: invalid escape sequence '\\$'\n",
      "  df['price'] = df['price'].replace('[\\$,]', '', regex=True).astype(float)\n"
     ]
    }
   ],
   "source": [
    "# booking_info\n",
    "df['price'] = df['price'].replace('[\\$,]', '', regex=True).astype(float) \n",
    "df['instant_bookable'] =  df['instant_bookable'].map({'f':0, 't':1}) #instant_bookable = 호스트의 허락없이 에어비엔비로 거래 가능한 \n",
    "df['is_long_term'] = (df['minimum_nights'] >= 28).astype(int) #오래 머무른 사람 28일 이상 기준 "
   ]
  },
  {
   "cell_type": "code",
   "execution_count": null,
   "id": "c7fda8d8",
   "metadata": {},
   "outputs": [],
   "source": [
    "# amenities_info\n",
    "def parse_amenities(x):\n",
    "    try:\n",
    "        return [a.strip().strip('\"').strip(\"'\") for a in ast.literal_eval(x)]\n",
    "    except:\n",
    "        return []\n",
    "    \n",
    "df['amenities'] = df['amenities'].apply(parse_amenities) #편의시설 유무 \n",
    "df['amenities_cnt'] = df['amenities'].apply(len)\n"
   ]
  },
  {
   "cell_type": "code",
   "execution_count": null,
   "id": "c3b3a0e8",
   "metadata": {},
   "outputs": [],
   "source": [
    "# host_info\n",
    "# neighborhood_overview 결측치 많아서 유무대체 \n",
    "df['neighborhood_overview_exists'] = df['neighborhood_overview'].notnull().astype(int) #동네 개요 = 동네의 특성 의미 , neighborhood_overview 사람들이 살고 교류하는 지리적으로 정의된 지역\n"
   ]
  },
  {
   "cell_type": "code",
   "execution_count": null,
   "id": "7ad93eb8",
   "metadata": {},
   "outputs": [],
   "source": [
    "# name 글자수기준 중앙값으로 그룹\n",
    "df['name_length'] = df['name'].fillna('').astype(str).apply(len) \n",
    "med_length = df['name_length'].median()\n",
    "\n",
    "def name_length_group(length, med):\n",
    "    if length == 0:\n",
    "        return 'empty'\n",
    "    elif length > med:\n",
    "        return 'long'\n",
    "    else:\n",
    "        return 'short_or_med'\n",
    "    \n",
    "df['name_length_group'] = df['name_length'].apply(lambda x: name_length_group(x, med_length))"
   ]
  },
  {
   "cell_type": "code",
   "execution_count": 15,
   "id": "89458ad2",
   "metadata": {},
   "outputs": [
    {
     "data": {
      "text/plain": [
       "id                                  0\n",
       "source                              0\n",
       "name                                0\n",
       "description                       405\n",
       "neighborhood_overview           10046\n",
       "                                ...  \n",
       "is_long_term                        0\n",
       "amenities_cnt                       0\n",
       "neighborhood_overview_exists        0\n",
       "name_length                         0\n",
       "name_length_group                   0\n",
       "Length: 77, dtype: int64"
      ]
     },
     "execution_count": 15,
     "metadata": {},
     "output_type": "execute_result"
    }
   ],
   "source": [
    "df.isnull().sum()"
   ]
  },
  {
   "cell_type": "code",
   "execution_count": null,
   "id": "19f30ab8",
   "metadata": {},
   "outputs": [],
   "source": [
    "# description 글자수기준(결측치 405) 평균으로 그룹\n",
    "df['description_length'] = df['description'].fillna('').astype(str).apply(len) #설명문 = 소개글 \n",
    "avg_length = df['description_length'].mean()\n",
    "\n",
    "def name_length_group(length, avg):\n",
    "    if length == 0:\n",
    "        return 'empty'\n",
    "    elif length > avg:\n",
    "        return 'long'\n",
    "    else:\n",
    "        return 'short_or_avg'\n",
    "    \n",
    "df['description_length_group'] = df['description_length'].apply(lambda x: name_length_group(x, avg_length))"
   ]
  },
  {
   "cell_type": "code",
   "execution_count": 17,
   "id": "35b6d55e",
   "metadata": {},
   "outputs": [],
   "source": [
    "# host_about (결측치8917) 평균(243) 중앙값(81) 중앙값기준으로 그룹\n",
    "df['host_about_length'] = df['host_about'].fillna('').astype(str).apply(len)\n",
    "med_length = df['host_about_length'].median()\n",
    "\n",
    "def name_length_group(length, med):\n",
    "    if length == 0:\n",
    "        return 'empty'\n",
    "    elif length > med:\n",
    "        return 'long'\n",
    "    else:\n",
    "        return 'short_or_med'\n",
    "df['host_about_length_group'] = df['host_about_length'].apply(lambda x: name_length_group(x, med_length))"
   ]
  },
  {
   "cell_type": "code",
   "execution_count": null,
   "id": "efe17368",
   "metadata": {},
   "outputs": [],
   "source": [
    "#host_identity_verified/host_has_profile_pic /host_is_superhost  \n",
    "# True / Flase 1과 0으로 대체 (결측치 20/20/350 0으로 대체함)\n",
    "df['host_identity_verified']=df['host_identity_verified'].fillna('f').map({'t': 1, 'f': 0}).astype(int) #호스트 신원확인\n",
    "\n",
    "df['host_has_profile_pic']=df['host_has_profile_pic'].fillna('f').map({'t': 1, 'f': 0}).astype(int)\n",
    "\n",
    "df['host_is_superhost']=df['host_is_superhost'].fillna('f').map({'t': 1, 'f': 0}).astype(int)\n"
   ]
  },
  {
   "cell_type": "code",
   "execution_count": 19,
   "id": "a2d0d779",
   "metadata": {},
   "outputs": [],
   "source": [
    "# host_response_time 결측치는 중앙값으로 치환후 점수\n",
    "response_time_score_map = { \n",
    "    'within an hour': 4,\n",
    "    'within a few hours': 3,\n",
    "    'within a day': 2,\n",
    "    'a few days or more': 1\n",
    "}\n",
    "df['host_response_time_score'] = df['host_response_time'].map(response_time_score_map)\n",
    "\n",
    "# 2. response_time_score 컬럼의 중앙값 계산\n",
    "med_score_for_fillna = df['host_response_time_score'].median()\n",
    "\n",
    "# 3. response_time_score 컬럼의 NaN을 계산된 중앙값으로 대체 \n",
    "df['host_response_time_score'] = df['host_response_time_score'].fillna(med_score_for_fillna)\n",
    "\n",
    "# host_response_time 칼럼에는 여전히 nan값 존재함\n",
    "# response_time_score 칼럼만 중앙값대체 \n"
   ]
  }
 ],
 "metadata": {
  "kernelspec": {
   "display_name": "Python 3",
   "language": "python",
   "name": "python3"
  },
  "language_info": {
   "codemirror_mode": {
    "name": "ipython",
    "version": 3
   },
   "file_extension": ".py",
   "mimetype": "text/x-python",
   "name": "python",
   "nbconvert_exporter": "python",
   "pygments_lexer": "ipython3",
   "version": "3.13.3"
  }
 },
 "nbformat": 4,
 "nbformat_minor": 5
}
